{
 "cells": [
  {
   "cell_type": "code",
   "execution_count": 78,
   "id": "d95d271a",
   "metadata": {},
   "outputs": [],
   "source": [
    "import pandas as pd\n",
    "import numpy as np\n",
    "import emoji\n",
    "import nltk\n",
    "from nltk.corpus import stopwords\n",
    "from sklearn.feature_extraction.text import TfidfVectorizer\n",
    "from sklearn.model_selection import train_test_split\n",
    "import seaborn as sns\n",
    "from sklearn.model_selection import learning_curve\n",
    "import numpy as np\n",
    "import matplotlib.pyplot as plt\n",
    "from sklearn.svm import SVC\n",
    "from sklearn.metrics import classification_report\n",
    "from sklearn.metrics import confusion_matrix\n",
    "import math\n",
    "import warnings\n",
    "warnings.filterwarnings('ignore')"
   ]
  },
  {
   "cell_type": "markdown",
   "id": "19569ed9",
   "metadata": {},
   "source": [
    "#### Reading datasets"
   ]
  },
  {
   "cell_type": "code",
   "execution_count": 2,
   "id": "7070b196",
   "metadata": {},
   "outputs": [],
   "source": [
    "df = pd.read_csv(\"D:\\\\Datasets\\\\emoji_sentiment_tweets_dataset.csv\")"
   ]
  },
  {
   "cell_type": "code",
   "execution_count": 3,
   "id": "4107de73",
   "metadata": {},
   "outputs": [
    {
     "data": {
      "text/plain": [
       "(2000, 2)"
      ]
     },
     "execution_count": 3,
     "metadata": {},
     "output_type": "execute_result"
    }
   ],
   "source": [
    "df.shape"
   ]
  },
  {
   "cell_type": "code",
   "execution_count": 4,
   "id": "004520fd",
   "metadata": {
    "scrolled": false
   },
   "outputs": [
    {
     "data": {
      "text/html": [
       "<div>\n",
       "<style scoped>\n",
       "    .dataframe tbody tr th:only-of-type {\n",
       "        vertical-align: middle;\n",
       "    }\n",
       "\n",
       "    .dataframe tbody tr th {\n",
       "        vertical-align: top;\n",
       "    }\n",
       "\n",
       "    .dataframe thead th {\n",
       "        text-align: right;\n",
       "    }\n",
       "</style>\n",
       "<table border=\"1\" class=\"dataframe\">\n",
       "  <thead>\n",
       "    <tr style=\"text-align: right;\">\n",
       "      <th></th>\n",
       "      <th>sentiment</th>\n",
       "      <th>post</th>\n",
       "    </tr>\n",
       "  </thead>\n",
       "  <tbody>\n",
       "    <tr>\n",
       "      <th>980</th>\n",
       "      <td>1</td>\n",
       "      <td>have a great</td>\n",
       "    </tr>\n",
       "    <tr>\n",
       "      <th>983</th>\n",
       "      <td>1</td>\n",
       "      <td>It really is uplifting and inspiring</td>\n",
       "    </tr>\n",
       "    <tr>\n",
       "      <th>986</th>\n",
       "      <td>1</td>\n",
       "      <td>year old i am commenting on all the new ladyli...</td>\n",
       "    </tr>\n",
       "    <tr>\n",
       "      <th>989</th>\n",
       "      <td>1</td>\n",
       "      <td>Just delivered my Managing the Online Customer...</td>\n",
       "    </tr>\n",
       "    <tr>\n",
       "      <th>992</th>\n",
       "      <td>1</td>\n",
       "      <td>well..human. That's all i</td>\n",
       "    </tr>\n",
       "    <tr>\n",
       "      <th>995</th>\n",
       "      <td>1</td>\n",
       "      <td>big 😍 for Anne cox 😊</td>\n",
       "    </tr>\n",
       "    <tr>\n",
       "      <th>998</th>\n",
       "      <td>1</td>\n",
       "      <td>thanks for the recent follow. Much appreciated...</td>\n",
       "    </tr>\n",
       "    <tr>\n",
       "      <th>1001</th>\n",
       "      <td>0</td>\n",
       "      <td>talking to my over driver about where I'm goin...</td>\n",
       "    </tr>\n",
       "    <tr>\n",
       "      <th>1004</th>\n",
       "      <td>0</td>\n",
       "      <td>There isnt a new Riverdale tonight ? 😧</td>\n",
       "    </tr>\n",
       "    <tr>\n",
       "      <th>1007</th>\n",
       "      <td>0</td>\n",
       "      <td>don't like how jittery caffeine makes me 😔</td>\n",
       "    </tr>\n",
       "    <tr>\n",
       "      <th>1010</th>\n",
       "      <td>0</td>\n",
       "      <td>When can you notice me. 😧 what?</td>\n",
       "    </tr>\n",
       "  </tbody>\n",
       "</table>\n",
       "</div>"
      ],
      "text/plain": [
       "      sentiment                                               post\n",
       "980           1                                       have a great\n",
       "983           1               It really is uplifting and inspiring\n",
       "986           1  year old i am commenting on all the new ladyli...\n",
       "989           1  Just delivered my Managing the Online Customer...\n",
       "992           1                          well..human. That's all i\n",
       "995           1                               big 😍 for Anne cox 😊\n",
       "998           1  thanks for the recent follow. Much appreciated...\n",
       "1001          0  talking to my over driver about where I'm goin...\n",
       "1004          0             There isnt a new Riverdale tonight ? 😧\n",
       "1007          0         don't like how jittery caffeine makes me 😔\n",
       "1010          0                    When can you notice me. 😧 what?"
      ]
     },
     "execution_count": 4,
     "metadata": {},
     "output_type": "execute_result"
    }
   ],
   "source": [
    "df.loc[980:1010:3]"
   ]
  },
  {
   "cell_type": "code",
   "execution_count": 5,
   "id": "483a93bc",
   "metadata": {},
   "outputs": [],
   "source": [
    "emoji_df = pd.read_csv(\"D:\\\\Datasets\\\\emoji_df.csv\")"
   ]
  },
  {
   "cell_type": "code",
   "execution_count": 6,
   "id": "93fe3fc0",
   "metadata": {},
   "outputs": [
    {
     "data": {
      "text/html": [
       "<div>\n",
       "<style scoped>\n",
       "    .dataframe tbody tr th:only-of-type {\n",
       "        vertical-align: middle;\n",
       "    }\n",
       "\n",
       "    .dataframe tbody tr th {\n",
       "        vertical-align: top;\n",
       "    }\n",
       "\n",
       "    .dataframe thead th {\n",
       "        text-align: right;\n",
       "    }\n",
       "</style>\n",
       "<table border=\"1\" class=\"dataframe\">\n",
       "  <thead>\n",
       "    <tr style=\"text-align: right;\">\n",
       "      <th></th>\n",
       "      <th>index</th>\n",
       "      <th>emoji</th>\n",
       "      <th>name</th>\n",
       "      <th>group</th>\n",
       "      <th>sub_group</th>\n",
       "      <th>codepoints</th>\n",
       "    </tr>\n",
       "  </thead>\n",
       "  <tbody>\n",
       "    <tr>\n",
       "      <th>0</th>\n",
       "      <td>0</td>\n",
       "      <td>😀</td>\n",
       "      <td>grinning face</td>\n",
       "      <td>Smileys &amp; Emotion</td>\n",
       "      <td>face-smiling</td>\n",
       "      <td>1F600</td>\n",
       "    </tr>\n",
       "    <tr>\n",
       "      <th>1</th>\n",
       "      <td>1</td>\n",
       "      <td>😃</td>\n",
       "      <td>grinning face with big eyes</td>\n",
       "      <td>Smileys &amp; Emotion</td>\n",
       "      <td>face-smiling</td>\n",
       "      <td>1F603</td>\n",
       "    </tr>\n",
       "    <tr>\n",
       "      <th>2</th>\n",
       "      <td>2</td>\n",
       "      <td>😄</td>\n",
       "      <td>grinning face with smiling eyes</td>\n",
       "      <td>Smileys &amp; Emotion</td>\n",
       "      <td>face-smiling</td>\n",
       "      <td>1F604</td>\n",
       "    </tr>\n",
       "    <tr>\n",
       "      <th>3</th>\n",
       "      <td>3</td>\n",
       "      <td>😁</td>\n",
       "      <td>beaming face with smiling eyes</td>\n",
       "      <td>Smileys &amp; Emotion</td>\n",
       "      <td>face-smiling</td>\n",
       "      <td>1F601</td>\n",
       "    </tr>\n",
       "    <tr>\n",
       "      <th>4</th>\n",
       "      <td>4</td>\n",
       "      <td>😆</td>\n",
       "      <td>grinning squinting face</td>\n",
       "      <td>Smileys &amp; Emotion</td>\n",
       "      <td>face-smiling</td>\n",
       "      <td>1F606</td>\n",
       "    </tr>\n",
       "    <tr>\n",
       "      <th>5</th>\n",
       "      <td>5</td>\n",
       "      <td>😅</td>\n",
       "      <td>grinning face with sweat</td>\n",
       "      <td>Smileys &amp; Emotion</td>\n",
       "      <td>face-smiling</td>\n",
       "      <td>1F605</td>\n",
       "    </tr>\n",
       "    <tr>\n",
       "      <th>6</th>\n",
       "      <td>6</td>\n",
       "      <td>🤣</td>\n",
       "      <td>rolling on the floor laughing</td>\n",
       "      <td>Smileys &amp; Emotion</td>\n",
       "      <td>face-smiling</td>\n",
       "      <td>1F923</td>\n",
       "    </tr>\n",
       "    <tr>\n",
       "      <th>7</th>\n",
       "      <td>7</td>\n",
       "      <td>😂</td>\n",
       "      <td>face with tears of joy</td>\n",
       "      <td>Smileys &amp; Emotion</td>\n",
       "      <td>face-smiling</td>\n",
       "      <td>1F602</td>\n",
       "    </tr>\n",
       "    <tr>\n",
       "      <th>8</th>\n",
       "      <td>8</td>\n",
       "      <td>🙂</td>\n",
       "      <td>slightly smiling face</td>\n",
       "      <td>Smileys &amp; Emotion</td>\n",
       "      <td>face-smiling</td>\n",
       "      <td>1F642</td>\n",
       "    </tr>\n",
       "    <tr>\n",
       "      <th>9</th>\n",
       "      <td>9</td>\n",
       "      <td>🙃</td>\n",
       "      <td>upside-down face</td>\n",
       "      <td>Smileys &amp; Emotion</td>\n",
       "      <td>face-smiling</td>\n",
       "      <td>1F643</td>\n",
       "    </tr>\n",
       "  </tbody>\n",
       "</table>\n",
       "</div>"
      ],
      "text/plain": [
       "   index emoji                             name              group  \\\n",
       "0      0     😀                    grinning face  Smileys & Emotion   \n",
       "1      1     😃      grinning face with big eyes  Smileys & Emotion   \n",
       "2      2     😄  grinning face with smiling eyes  Smileys & Emotion   \n",
       "3      3     😁   beaming face with smiling eyes  Smileys & Emotion   \n",
       "4      4     😆          grinning squinting face  Smileys & Emotion   \n",
       "5      5     😅         grinning face with sweat  Smileys & Emotion   \n",
       "6      6     🤣    rolling on the floor laughing  Smileys & Emotion   \n",
       "7      7     😂           face with tears of joy  Smileys & Emotion   \n",
       "8      8     🙂            slightly smiling face  Smileys & Emotion   \n",
       "9      9     🙃                 upside-down face  Smileys & Emotion   \n",
       "\n",
       "      sub_group codepoints  \n",
       "0  face-smiling      1F600  \n",
       "1  face-smiling      1F603  \n",
       "2  face-smiling      1F604  \n",
       "3  face-smiling      1F601  \n",
       "4  face-smiling      1F606  \n",
       "5  face-smiling      1F605  \n",
       "6  face-smiling      1F923  \n",
       "7  face-smiling      1F602  \n",
       "8  face-smiling      1F642  \n",
       "9  face-smiling      1F643  "
      ]
     },
     "execution_count": 6,
     "metadata": {},
     "output_type": "execute_result"
    }
   ],
   "source": [
    "emoji_df.head(10)"
   ]
  },
  {
   "cell_type": "code",
   "execution_count": null,
   "id": "f04c99fe",
   "metadata": {},
   "outputs": [],
   "source": []
  },
  {
   "cell_type": "code",
   "execution_count": 7,
   "id": "f043d1c1",
   "metadata": {},
   "outputs": [
    {
     "name": "stdout",
     "output_type": "stream",
     "text": [
      "<class 'pandas.core.frame.DataFrame'>\n",
      "RangeIndex: 2000 entries, 0 to 1999\n",
      "Data columns (total 2 columns):\n",
      " #   Column     Non-Null Count  Dtype \n",
      "---  ------     --------------  ----- \n",
      " 0   sentiment  2000 non-null   int64 \n",
      " 1   post       2000 non-null   object\n",
      "dtypes: int64(1), object(1)\n",
      "memory usage: 31.4+ KB\n"
     ]
    }
   ],
   "source": [
    "df.info()"
   ]
  },
  {
   "cell_type": "code",
   "execution_count": 8,
   "id": "45a5f5d2",
   "metadata": {},
   "outputs": [
    {
     "data": {
      "text/plain": [
       "sentiment    0\n",
       "post         0\n",
       "dtype: int64"
      ]
     },
     "execution_count": 8,
     "metadata": {},
     "output_type": "execute_result"
    }
   ],
   "source": [
    "df.isna().sum()"
   ]
  },
  {
   "cell_type": "code",
   "execution_count": 9,
   "id": "59b35d2f",
   "metadata": {},
   "outputs": [
    {
     "data": {
      "text/plain": [
       "<AxesSubplot:xlabel='sentiment', ylabel='count'>"
      ]
     },
     "execution_count": 9,
     "metadata": {},
     "output_type": "execute_result"
    },
    {
     "data": {
      "image/png": "[encoded data removed]",
      "text/plain": [
       "<Figure size 432x288 with 1 Axes>"
      ]
     },
     "metadata": {
      "needs_background": "light"
     },
     "output_type": "display_data"
    }
   ],
   "source": [
    "sns.countplot(data=df, x=df.sentiment)"
   ]
  },
  {
   "cell_type": "code",
   "execution_count": 10,
   "id": "c5b999d2",
   "metadata": {},
   "outputs": [
    {
     "name": "stdout",
     "output_type": "stream",
     "text": [
      "Count of positive sentiment : 1000\n",
      "Count of negative sentiment : 1000\n"
     ]
    }
   ],
   "source": [
    "print(f'Count of positive sentiment : {df[ df.sentiment == 1 ].shape[0]}')\n",
    "print(f'Count of negative sentiment : {df[ df.sentiment == 0 ].shape[0]}')"
   ]
  },
  {
   "cell_type": "markdown",
   "id": "5ca28562",
   "metadata": {},
   "source": [
    "#### Data cleaning and preprocessing step"
   ]
  },
  {
   "cell_type": "code",
   "execution_count": 11,
   "id": "dde5c870",
   "metadata": {},
   "outputs": [],
   "source": [
    "# Retrive emojis list only\n",
    "\n",
    "retrive_emojis = lambda word_list: [match[\"emoji\"] for word in word_list for match in emoji.emoji_list(word)]"
   ]
  },
  {
   "cell_type": "code",
   "execution_count": 12,
   "id": "1090bdaf",
   "metadata": {},
   "outputs": [],
   "source": [
    "# Split text and emoji\n",
    "\n",
    "def extract_text_and_emoji(text):\n",
    "    global allchars, emoji_list\n",
    "    # remove all tagging and links, not need for sentiments\n",
    "    remove_keys = ('@', 'http://', '&', '#')\n",
    "    clean_text = ' '.join(txt for txt in text.split() if not txt.startswith(remove_keys))\n",
    "#     print(clean_text)\n",
    "    \n",
    "    # setup the input, get the characters and the emoji lists\n",
    "    allchars = [str for str in text]\n",
    "    emoji_list = retrive_emojis(text)\n",
    "    \n",
    "    # extract text\n",
    "    clean_text = ' '.join([str for str in clean_text.split() if not any(i in str for i in emoji_list)])\n",
    "    \n",
    "    # extract emoji\n",
    "    clean_emoji = ' '.join([str for str in text.split() if any(i in str for i in emoji_list)])\n",
    "    return (clean_text, clean_emoji)"
   ]
  },
  {
   "cell_type": "code",
   "execution_count": 13,
   "id": "0014c42d",
   "metadata": {},
   "outputs": [],
   "source": [
    "temp_df_emoji = []\n",
    "temp_df_text = []\n",
    "\n",
    "for text in df.post:\n",
    "    temp_df_text.append(extract_text_and_emoji(text)[0])\n",
    "    temp_df_emoji.append(extract_text_and_emoji(text)[1])\n",
    "    \n",
    "df[\"post_text\"], df[\"emoji\"] = temp_df_text, temp_df_emoji"
   ]
  },
  {
   "cell_type": "code",
   "execution_count": 14,
   "id": "36a53bbd",
   "metadata": {},
   "outputs": [
    {
     "data": {
      "text/html": [
       "<div>\n",
       "<style scoped>\n",
       "    .dataframe tbody tr th:only-of-type {\n",
       "        vertical-align: middle;\n",
       "    }\n",
       "\n",
       "    .dataframe tbody tr th {\n",
       "        vertical-align: top;\n",
       "    }\n",
       "\n",
       "    .dataframe thead th {\n",
       "        text-align: right;\n",
       "    }\n",
       "</style>\n",
       "<table border=\"1\" class=\"dataframe\">\n",
       "  <thead>\n",
       "    <tr style=\"text-align: right;\">\n",
       "      <th></th>\n",
       "      <th>sentiment</th>\n",
       "      <th>post</th>\n",
       "      <th>post_text</th>\n",
       "      <th>emoji</th>\n",
       "    </tr>\n",
       "  </thead>\n",
       "  <tbody>\n",
       "    <tr>\n",
       "      <th>0</th>\n",
       "      <td>1</td>\n",
       "      <td>An inspiration in all aspects: Fashion</td>\n",
       "      <td>An inspiration in all aspects: Fashion</td>\n",
       "      <td></td>\n",
       "    </tr>\n",
       "    <tr>\n",
       "      <th>1</th>\n",
       "      <td>1</td>\n",
       "      <td>fitness</td>\n",
       "      <td>fitness</td>\n",
       "      <td></td>\n",
       "    </tr>\n",
       "    <tr>\n",
       "      <th>2</th>\n",
       "      <td>1</td>\n",
       "      <td>beauty and personality. 😊 😘 TheFashionIcon</td>\n",
       "      <td>beauty and personality. TheFashionIcon</td>\n",
       "      <td>😊 😘</td>\n",
       "    </tr>\n",
       "    <tr>\n",
       "      <th>3</th>\n",
       "      <td>1</td>\n",
       "      <td>Apka Apna Awam Ka Channel Frankline Tv Aam Adm...</td>\n",
       "      <td>Apka Apna Awam Ka Channel Frankline Tv Aam Adm...</td>\n",
       "      <td>😊</td>\n",
       "    </tr>\n",
       "    <tr>\n",
       "      <th>4</th>\n",
       "      <td>1</td>\n",
       "      <td>Beautiful album from the greatest unsung guita...</td>\n",
       "      <td>Beautiful album from the greatest unsung guita...</td>\n",
       "      <td></td>\n",
       "    </tr>\n",
       "    <tr>\n",
       "      <th>5</th>\n",
       "      <td>1</td>\n",
       "      <td>Good luck to Rich riding for great project in ...</td>\n",
       "      <td>Good luck to Rich riding for great project in ...</td>\n",
       "      <td></td>\n",
       "    </tr>\n",
       "    <tr>\n",
       "      <th>6</th>\n",
       "      <td>1</td>\n",
       "      <td>Omg he... kissed... him 😆 with joy</td>\n",
       "      <td>Omg he... kissed... him with joy</td>\n",
       "      <td>😆</td>\n",
       "    </tr>\n",
       "    <tr>\n",
       "      <th>7</th>\n",
       "      <td>1</td>\n",
       "      <td>😊 anniv ming and papi!!!!! 😍 😍 😊</td>\n",
       "      <td>anniv ming and papi!!!!!</td>\n",
       "      <td>😊 😍 😍 😊</td>\n",
       "    </tr>\n",
       "    <tr>\n",
       "      <th>8</th>\n",
       "      <td>1</td>\n",
       "      <td>thanks 😊</td>\n",
       "      <td>thanks</td>\n",
       "      <td>😊</td>\n",
       "    </tr>\n",
       "    <tr>\n",
       "      <th>9</th>\n",
       "      <td>1</td>\n",
       "      <td>C'mon Tweeps</td>\n",
       "      <td>C'mon Tweeps</td>\n",
       "      <td></td>\n",
       "    </tr>\n",
       "  </tbody>\n",
       "</table>\n",
       "</div>"
      ],
      "text/plain": [
       "   sentiment                                               post  \\\n",
       "0          1             An inspiration in all aspects: Fashion   \n",
       "1          1                                            fitness   \n",
       "2          1         beauty and personality. 😊 😘 TheFashionIcon   \n",
       "3          1  Apka Apna Awam Ka Channel Frankline Tv Aam Adm...   \n",
       "4          1  Beautiful album from the greatest unsung guita...   \n",
       "5          1  Good luck to Rich riding for great project in ...   \n",
       "6          1                 Omg he... kissed... him 😆 with joy   \n",
       "7          1                   😊 anniv ming and papi!!!!! 😍 😍 😊   \n",
       "8          1                                           thanks 😊   \n",
       "9          1                                       C'mon Tweeps   \n",
       "\n",
       "                                           post_text    emoji  \n",
       "0             An inspiration in all aspects: Fashion           \n",
       "1                                            fitness           \n",
       "2             beauty and personality. TheFashionIcon      😊 😘  \n",
       "3  Apka Apna Awam Ka Channel Frankline Tv Aam Adm...        😊  \n",
       "4  Beautiful album from the greatest unsung guita...           \n",
       "5  Good luck to Rich riding for great project in ...           \n",
       "6                   Omg he... kissed... him with joy        😆  \n",
       "7                           anniv ming and papi!!!!!  😊 😍 😍 😊  \n",
       "8                                             thanks        😊  \n",
       "9                                       C'mon Tweeps           "
      ]
     },
     "execution_count": 14,
     "metadata": {},
     "output_type": "execute_result"
    }
   ],
   "source": [
    "df.head(10)"
   ]
  },
  {
   "cell_type": "code",
   "execution_count": 15,
   "id": "547ced22",
   "metadata": {},
   "outputs": [],
   "source": [
    "# convert emoji to same meaning text of emoji\n",
    "\n",
    "def convert_emoji_to_text(emo):\n",
    "    if len(emo) > 0:\n",
    "        return emoji.demojize(emo)\n",
    "    return \"\"\n"
   ]
  },
  {
   "cell_type": "code",
   "execution_count": 16,
   "id": "537ff468",
   "metadata": {},
   "outputs": [],
   "source": [
    "df[\"emoji_text\"] = df.emoji.apply(convert_emoji_to_text)"
   ]
  },
  {
   "cell_type": "code",
   "execution_count": 17,
   "id": "bc1535a3",
   "metadata": {},
   "outputs": [
    {
     "data": {
      "text/html": [
       "<div>\n",
       "<style scoped>\n",
       "    .dataframe tbody tr th:only-of-type {\n",
       "        vertical-align: middle;\n",
       "    }\n",
       "\n",
       "    .dataframe tbody tr th {\n",
       "        vertical-align: top;\n",
       "    }\n",
       "\n",
       "    .dataframe thead th {\n",
       "        text-align: right;\n",
       "    }\n",
       "</style>\n",
       "<table border=\"1\" class=\"dataframe\">\n",
       "  <thead>\n",
       "    <tr style=\"text-align: right;\">\n",
       "      <th></th>\n",
       "      <th>sentiment</th>\n",
       "      <th>post</th>\n",
       "      <th>post_text</th>\n",
       "      <th>emoji</th>\n",
       "      <th>emoji_text</th>\n",
       "    </tr>\n",
       "  </thead>\n",
       "  <tbody>\n",
       "    <tr>\n",
       "      <th>0</th>\n",
       "      <td>1</td>\n",
       "      <td>An inspiration in all aspects: Fashion</td>\n",
       "      <td>An inspiration in all aspects: Fashion</td>\n",
       "      <td></td>\n",
       "      <td></td>\n",
       "    </tr>\n",
       "    <tr>\n",
       "      <th>1</th>\n",
       "      <td>1</td>\n",
       "      <td>fitness</td>\n",
       "      <td>fitness</td>\n",
       "      <td></td>\n",
       "      <td></td>\n",
       "    </tr>\n",
       "    <tr>\n",
       "      <th>2</th>\n",
       "      <td>1</td>\n",
       "      <td>beauty and personality. 😊 😘 TheFashionIcon</td>\n",
       "      <td>beauty and personality. TheFashionIcon</td>\n",
       "      <td>😊 😘</td>\n",
       "      <td>:smiling_face_with_smiling_eyes: :face_blowing...</td>\n",
       "    </tr>\n",
       "    <tr>\n",
       "      <th>3</th>\n",
       "      <td>1</td>\n",
       "      <td>Apka Apna Awam Ka Channel Frankline Tv Aam Adm...</td>\n",
       "      <td>Apka Apna Awam Ka Channel Frankline Tv Aam Adm...</td>\n",
       "      <td>😊</td>\n",
       "      <td>:smiling_face_with_smiling_eyes:</td>\n",
       "    </tr>\n",
       "    <tr>\n",
       "      <th>4</th>\n",
       "      <td>1</td>\n",
       "      <td>Beautiful album from the greatest unsung guita...</td>\n",
       "      <td>Beautiful album from the greatest unsung guita...</td>\n",
       "      <td></td>\n",
       "      <td></td>\n",
       "    </tr>\n",
       "    <tr>\n",
       "      <th>5</th>\n",
       "      <td>1</td>\n",
       "      <td>Good luck to Rich riding for great project in ...</td>\n",
       "      <td>Good luck to Rich riding for great project in ...</td>\n",
       "      <td></td>\n",
       "      <td></td>\n",
       "    </tr>\n",
       "    <tr>\n",
       "      <th>6</th>\n",
       "      <td>1</td>\n",
       "      <td>Omg he... kissed... him 😆 with joy</td>\n",
       "      <td>Omg he... kissed... him with joy</td>\n",
       "      <td>😆</td>\n",
       "      <td>:grinning_squinting_face:</td>\n",
       "    </tr>\n",
       "    <tr>\n",
       "      <th>7</th>\n",
       "      <td>1</td>\n",
       "      <td>😊 anniv ming and papi!!!!! 😍 😍 😊</td>\n",
       "      <td>anniv ming and papi!!!!!</td>\n",
       "      <td>😊 😍 😍 😊</td>\n",
       "      <td>:smiling_face_with_smiling_eyes: :smiling_face...</td>\n",
       "    </tr>\n",
       "    <tr>\n",
       "      <th>8</th>\n",
       "      <td>1</td>\n",
       "      <td>thanks 😊</td>\n",
       "      <td>thanks</td>\n",
       "      <td>😊</td>\n",
       "      <td>:smiling_face_with_smiling_eyes:</td>\n",
       "    </tr>\n",
       "    <tr>\n",
       "      <th>9</th>\n",
       "      <td>1</td>\n",
       "      <td>C'mon Tweeps</td>\n",
       "      <td>C'mon Tweeps</td>\n",
       "      <td></td>\n",
       "      <td></td>\n",
       "    </tr>\n",
       "  </tbody>\n",
       "</table>\n",
       "</div>"
      ],
      "text/plain": [
       "   sentiment                                               post  \\\n",
       "0          1             An inspiration in all aspects: Fashion   \n",
       "1          1                                            fitness   \n",
       "2          1         beauty and personality. 😊 😘 TheFashionIcon   \n",
       "3          1  Apka Apna Awam Ka Channel Frankline Tv Aam Adm...   \n",
       "4          1  Beautiful album from the greatest unsung guita...   \n",
       "5          1  Good luck to Rich riding for great project in ...   \n",
       "6          1                 Omg he... kissed... him 😆 with joy   \n",
       "7          1                   😊 anniv ming and papi!!!!! 😍 😍 😊   \n",
       "8          1                                           thanks 😊   \n",
       "9          1                                       C'mon Tweeps   \n",
       "\n",
       "                                           post_text    emoji  \\\n",
       "0             An inspiration in all aspects: Fashion            \n",
       "1                                            fitness            \n",
       "2             beauty and personality. TheFashionIcon      😊 😘   \n",
       "3  Apka Apna Awam Ka Channel Frankline Tv Aam Adm...        😊   \n",
       "4  Beautiful album from the greatest unsung guita...            \n",
       "5  Good luck to Rich riding for great project in ...            \n",
       "6                   Omg he... kissed... him with joy        😆   \n",
       "7                           anniv ming and papi!!!!!  😊 😍 😍 😊   \n",
       "8                                             thanks        😊   \n",
       "9                                       C'mon Tweeps            \n",
       "\n",
       "                                          emoji_text  \n",
       "0                                                     \n",
       "1                                                     \n",
       "2  :smiling_face_with_smiling_eyes: :face_blowing...  \n",
       "3                   :smiling_face_with_smiling_eyes:  \n",
       "4                                                     \n",
       "5                                                     \n",
       "6                          :grinning_squinting_face:  \n",
       "7  :smiling_face_with_smiling_eyes: :smiling_face...  \n",
       "8                   :smiling_face_with_smiling_eyes:  \n",
       "9                                                     "
      ]
     },
     "execution_count": 17,
     "metadata": {},
     "output_type": "execute_result"
    }
   ],
   "source": [
    "df.head(10)"
   ]
  },
  {
   "cell_type": "code",
   "execution_count": 18,
   "id": "07ee7ed7",
   "metadata": {},
   "outputs": [],
   "source": [
    "import re\n",
    "import string\n",
    "\n",
    "NON_PUNCTUATION = r\"[!\\\"#\\$%&\\(\\)\\*\\+,-\\./:;<=>\\?@\\[\\\\\\]\\^_`{\\|}~0-9]\"\n"
   ]
  },
  {
   "cell_type": "code",
   "execution_count": 19,
   "id": "2ba3c365",
   "metadata": {},
   "outputs": [],
   "source": [
    "def remove_punctuation(text):\n",
    "    no_punctuation_text = re.sub(NON_PUNCTUATION, \" \", text, 0, re.MULTILINE)\n",
    "    return no_punctuation_text\n",
    "\n",
    "df[\"clean_emoji_text\"] = df[\"emoji_text\"].apply(remove_punctuation)"
   ]
  },
  {
   "cell_type": "markdown",
   "id": "1a7b3e3e",
   "metadata": {},
   "source": [
    "**Remove Twitter handles:** Twitter handles start with '@' and are used to mention other users. These do not add any value to the sentiment analysis and can be removed. You can use regular expressions to remove these handles"
   ]
  },
  {
   "cell_type": "code",
   "execution_count": 20,
   "id": "1b3c7be0",
   "metadata": {},
   "outputs": [],
   "source": [
    "def remove_twitter_handles(text):\n",
    "    return re.sub(r'@[A-Za-z0-9]+', '', text)\n",
    "\n",
    "df[\"clean_post\"] = df[\"post_text\"].apply(remove_twitter_handles)"
   ]
  },
  {
   "cell_type": "markdown",
   "id": "cfdbecc9",
   "metadata": {},
   "source": [
    "**Remove URLs:** URLs are often included in tweets and can be removed as they do not contribute to sentiment analysis. You can use regular expressions to remove URLs."
   ]
  },
  {
   "cell_type": "code",
   "execution_count": 21,
   "id": "54645bb4",
   "metadata": {},
   "outputs": [],
   "source": [
    "def remove_html_tags(text):\n",
    "    \"\"\"Remove html tags from a string\"\"\"\n",
    "    clean = re.compile('<.*?>')\n",
    "    return re.sub(clean, '', text)\n",
    "\n",
    "df[\"clean_post\"] = df[\"clean_post\"].apply(remove_html_tags)"
   ]
  },
  {
   "cell_type": "markdown",
   "id": "b8318eae",
   "metadata": {},
   "source": [
    "**Remove special characters and punctuation:** Special characters and punctuation marks can also be removed as they do not add any meaning to sentiment analysis. You can use regular expressions to remove them."
   ]
  },
  {
   "cell_type": "code",
   "execution_count": 22,
   "id": "1ea7e282",
   "metadata": {},
   "outputs": [],
   "source": [
    "df[\"clean_post\"] = df[\"clean_post\"].apply(remove_punctuation)"
   ]
  },
  {
   "cell_type": "markdown",
   "id": "6e125ced",
   "metadata": {},
   "source": [
    "**Handling abbreviations:** Twitter users often use abbreviations like \"lol\", \"omg\", etc. These can be expanded to their full form to avoid any issues with sentiment analysis. You can use dictionaries or regular expressions to expand abbreviations."
   ]
  },
  {
   "cell_type": "code",
   "execution_count": 23,
   "id": "d6cb9993",
   "metadata": {},
   "outputs": [],
   "source": [
    "abbreviations = {\n",
    "    'lol': 'laugh out loud',\n",
    "    'lmao': 'laughing my ass off',\n",
    "    'rofl': 'rolling on the floor laughing',\n",
    "    'omg': 'oh my god',\n",
    "    'wtf': 'what the fuck',\n",
    "    'fml': 'fuck my life',\n",
    "    'smh': 'shaking my head',\n",
    "    'btw': 'by the way',\n",
    "    'imho': 'in my humble opinion',\n",
    "    'idk': 'I do not know',\n",
    "    'rn': 'right now',\n",
    "    'ily': 'I love you',\n",
    "    'tbh': 'to be honest',\n",
    "    'ig': 'I guess',\n",
    "    'bae': 'before anyone else',\n",
    "    'yolo': 'you only live once',\n",
    "    'fomo': 'fear of missing out',\n",
    "    'tmi': 'too much information',\n",
    "    'afk': 'away from keyboard',\n",
    "    'afaik': 'as far as I know',\n",
    "    'brb': 'be right back',\n",
    "    'ftw': 'for the win',\n",
    "    'hmu': 'hit me up',\n",
    "    'idc': 'I do not care',\n",
    "    'ikr': 'I know, right?',\n",
    "    'jk': 'just kidding',\n",
    "    'nbd': 'no big deal',\n",
    "    'np': 'no problem',\n",
    "    'omw': 'on my way',\n",
    "    'ppl': 'people',\n",
    "    'rt': 'retweet',\n",
    "    'srsly': 'seriously',\n",
    "    'tbt': 'throwback Thursday',\n",
    "    'tg': 'thank god',\n",
    "    'tgif': 'thank god it is Friday',\n",
    "    'thx': 'thanks',\n",
    "    'ttyl': 'talk to you later',\n",
    "    'wyd': 'what you doing?',\n",
    "    'yw': 'you are welcome',\n",
    "}\n",
    "\n",
    "def handling_abbreviations(text):\n",
    "    return ' '.join([abbreviations.get(word.lower(), word) for word in text.split()])\n",
    "\n",
    "df[\"clean_post\"] = df[\"clean_post\"].apply(handling_abbreviations)"
   ]
  },
  {
   "cell_type": "code",
   "execution_count": 24,
   "id": "6a8f9085",
   "metadata": {},
   "outputs": [
    {
     "data": {
      "text/html": [
       "<div>\n",
       "<style scoped>\n",
       "    .dataframe tbody tr th:only-of-type {\n",
       "        vertical-align: middle;\n",
       "    }\n",
       "\n",
       "    .dataframe tbody tr th {\n",
       "        vertical-align: top;\n",
       "    }\n",
       "\n",
       "    .dataframe thead th {\n",
       "        text-align: right;\n",
       "    }\n",
       "</style>\n",
       "<table border=\"1\" class=\"dataframe\">\n",
       "  <thead>\n",
       "    <tr style=\"text-align: right;\">\n",
       "      <th></th>\n",
       "      <th>sentiment</th>\n",
       "      <th>post</th>\n",
       "      <th>post_text</th>\n",
       "      <th>emoji</th>\n",
       "      <th>emoji_text</th>\n",
       "      <th>clean_emoji_text</th>\n",
       "      <th>clean_post</th>\n",
       "    </tr>\n",
       "  </thead>\n",
       "  <tbody>\n",
       "    <tr>\n",
       "      <th>0</th>\n",
       "      <td>1</td>\n",
       "      <td>An inspiration in all aspects: Fashion</td>\n",
       "      <td>An inspiration in all aspects: Fashion</td>\n",
       "      <td></td>\n",
       "      <td></td>\n",
       "      <td></td>\n",
       "      <td>An inspiration in all aspects Fashion</td>\n",
       "    </tr>\n",
       "    <tr>\n",
       "      <th>1</th>\n",
       "      <td>1</td>\n",
       "      <td>fitness</td>\n",
       "      <td>fitness</td>\n",
       "      <td></td>\n",
       "      <td></td>\n",
       "      <td></td>\n",
       "      <td>fitness</td>\n",
       "    </tr>\n",
       "    <tr>\n",
       "      <th>2</th>\n",
       "      <td>1</td>\n",
       "      <td>beauty and personality. 😊 😘 TheFashionIcon</td>\n",
       "      <td>beauty and personality. TheFashionIcon</td>\n",
       "      <td>😊 😘</td>\n",
       "      <td>:smiling_face_with_smiling_eyes: :face_blowing...</td>\n",
       "      <td>smiling face with smiling eyes   face blowing...</td>\n",
       "      <td>beauty and personality TheFashionIcon</td>\n",
       "    </tr>\n",
       "    <tr>\n",
       "      <th>3</th>\n",
       "      <td>1</td>\n",
       "      <td>Apka Apna Awam Ka Channel Frankline Tv Aam Adm...</td>\n",
       "      <td>Apka Apna Awam Ka Channel Frankline Tv Aam Adm...</td>\n",
       "      <td>😊</td>\n",
       "      <td>:smiling_face_with_smiling_eyes:</td>\n",
       "      <td>smiling face with smiling eyes</td>\n",
       "      <td>Apka Apna Awam Ka Channel Frankline Tv Aam Adm...</td>\n",
       "    </tr>\n",
       "    <tr>\n",
       "      <th>4</th>\n",
       "      <td>1</td>\n",
       "      <td>Beautiful album from the greatest unsung guita...</td>\n",
       "      <td>Beautiful album from the greatest unsung guita...</td>\n",
       "      <td></td>\n",
       "      <td></td>\n",
       "      <td></td>\n",
       "      <td>Beautiful album from the greatest unsung guita...</td>\n",
       "    </tr>\n",
       "  </tbody>\n",
       "</table>\n",
       "</div>"
      ],
      "text/plain": [
       "   sentiment                                               post  \\\n",
       "0          1             An inspiration in all aspects: Fashion   \n",
       "1          1                                            fitness   \n",
       "2          1         beauty and personality. 😊 😘 TheFashionIcon   \n",
       "3          1  Apka Apna Awam Ka Channel Frankline Tv Aam Adm...   \n",
       "4          1  Beautiful album from the greatest unsung guita...   \n",
       "\n",
       "                                           post_text emoji  \\\n",
       "0             An inspiration in all aspects: Fashion         \n",
       "1                                            fitness         \n",
       "2             beauty and personality. TheFashionIcon   😊 😘   \n",
       "3  Apka Apna Awam Ka Channel Frankline Tv Aam Adm...     😊   \n",
       "4  Beautiful album from the greatest unsung guita...         \n",
       "\n",
       "                                          emoji_text  \\\n",
       "0                                                      \n",
       "1                                                      \n",
       "2  :smiling_face_with_smiling_eyes: :face_blowing...   \n",
       "3                   :smiling_face_with_smiling_eyes:   \n",
       "4                                                      \n",
       "\n",
       "                                    clean_emoji_text  \\\n",
       "0                                                      \n",
       "1                                                      \n",
       "2   smiling face with smiling eyes   face blowing...   \n",
       "3                    smiling face with smiling eyes    \n",
       "4                                                      \n",
       "\n",
       "                                          clean_post  \n",
       "0              An inspiration in all aspects Fashion  \n",
       "1                                            fitness  \n",
       "2              beauty and personality TheFashionIcon  \n",
       "3  Apka Apna Awam Ka Channel Frankline Tv Aam Adm...  \n",
       "4  Beautiful album from the greatest unsung guita...  "
      ]
     },
     "execution_count": 24,
     "metadata": {},
     "output_type": "execute_result"
    }
   ],
   "source": [
    "df.head(5)"
   ]
  },
  {
   "cell_type": "markdown",
   "id": "31acab7a",
   "metadata": {},
   "source": [
    "**POS tagging** involves labeling each word in a text with its corresponding part of speech (e.g., noun, verb, adjective, etc.), which can be useful for many tasks, including sentiment analysis.\n",
    "\n",
    "**Lemmatization:** Stemming and lemmatization can help in reducing the number of unique words and bring together words with similar meanings. You can use libraries like NLTK for stemming and lemmatization."
   ]
  },
  {
   "cell_type": "code",
   "execution_count": 25,
   "id": "e13bc61f",
   "metadata": {},
   "outputs": [],
   "source": [
    "from nltk.tokenize import TreebankWordTokenizer\n",
    "from nltk.stem import WordNetLemmatizer\n",
    "lemmatizer = WordNetLemmatizer()\n",
    "\n",
    "def get_pos(tag):\n",
    "    if tag in ['VB','VBD','VBG','VBN','VBP','VBZ']:\n",
    "        return 'v'\n",
    "    elif tag in [\"JJ\",\"JJR\",\"JJS\"]:\n",
    "        return 'a'\n",
    "    elif tag in [\"RB\",\"RBR\",\"RBS\"]:\n",
    "        return 'r'\n",
    "    else:\n",
    "        return 'n'\n",
    "\n",
    "def do_lemmatization(review):\n",
    "    lemma_new = \"\"\n",
    "    word_list = TreebankWordTokenizer().tokenize(review)\n",
    "    tags = nltk.pos_tag(word_list)\n",
    "    for word, tag in tags:\n",
    "        if tag in [\"JJ\",\"JJR\",\"JJS\",\"NN\",\"NNS\",\"NNP\",\"NNPS\",\"RB\",\"RBR\",\"RBS\",\"UH\",\"VB\",\"VBD\",\"VBG\",\"VBN\",\"VBP\",\"VBZ\"]:\n",
    "            word = word.lower()\n",
    "            if tag in [\"JJR\",\"JJS\"]:\n",
    "                lemma = lemmatizer.lemmatize(word)\n",
    "            lemma = lemmatizer.lemmatize(word,pos=get_pos(tag))\n",
    "            lemma_new = lemma_new + \" \" + lemma\n",
    "    return lemma_new\n",
    "\n",
    "df[\"clean_post\"] = df[\"clean_post\"].apply(do_lemmatization)"
   ]
  },
  {
   "cell_type": "code",
   "execution_count": 26,
   "id": "d7fbbb06",
   "metadata": {},
   "outputs": [],
   "source": [
    "df[\"clean_emoji_text\"] = df[\"clean_emoji_text\"].apply(do_lemmatization)"
   ]
  },
  {
   "cell_type": "markdown",
   "id": "29e22ea1",
   "metadata": {},
   "source": [
    "**Remove stop words:** Stop words are common words like \"the\", \"is\", \"and\", etc., which do not add any value to sentiment analysis. You can use the NLTK library to remove stop words."
   ]
  },
  {
   "cell_type": "code",
   "execution_count": 27,
   "id": "5b93fd72",
   "metadata": {},
   "outputs": [],
   "source": [
    "stop_words = stopwords.words('english')\n",
    "\n",
    "temp_stop_words = [\"not\",\"no\",'do','very','don',\"don't\",\"ain\",\"aren\",\"aren't\",\"couldn\",\"couldn't\",'didn',\"didn't\",'doesn',\"doesn't\",'hadn',\"hadn't\",'hasn',\"hasn't\",'haven',\"haven't\",'isn',\"isn't\",'mightn',\"mightn't\",'mustn',\"mustn't\",'needn',\"needn't\",'shan',\"shan't\",'shouldn',\"shouldn't\",'wasn',\"wasn't\",'weren',\"weren't\",'won',\"won't\",'wouldn',\"wouldn't\"]\n",
    "for sword in temp_stop_words:\n",
    "    if sword in stop_words:\n",
    "        stop_words.remove(sword)"
   ]
  },
  {
   "cell_type": "markdown",
   "id": "84b487fc",
   "metadata": {},
   "source": [
    "#### Vectorization"
   ]
  },
  {
   "cell_type": "code",
   "execution_count": 28,
   "id": "83f7f433",
   "metadata": {},
   "outputs": [],
   "source": [
    "# TFIDF vectorizer\n",
    "\n",
    "vectorizer = TfidfVectorizer(use_idf=True, lowercase=True,\n",
    "                            strip_accents='ascii', stop_words=stop_words)"
   ]
  },
  {
   "cell_type": "code",
   "execution_count": 29,
   "id": "66fce4b5",
   "metadata": {},
   "outputs": [
    {
     "name": "stdout",
     "output_type": "stream",
     "text": [
      "(2000,)\n",
      "(2000, 2990)\n"
     ]
    }
   ],
   "source": [
    "y = df.sentiment\n",
    "\n",
    "X = vectorizer.fit_transform(df.clean_post +\" \"+ df.clean_emoji_text)\n",
    "\n",
    "print(y.shape)\n",
    "print(X.shape)"
   ]
  },
  {
   "cell_type": "markdown",
   "id": "d7999a20",
   "metadata": {},
   "source": [
    "#### Split the dataset into training and testing"
   ]
  },
  {
   "cell_type": "code",
   "execution_count": 30,
   "id": "a84b4165",
   "metadata": {},
   "outputs": [],
   "source": [
    "X_train, X_test, y_train, y_test = train_test_split(X, y, test_size=0.2,random_state=6)"
   ]
  },
  {
   "cell_type": "markdown",
   "id": "dd312938",
   "metadata": {},
   "source": [
    "#### Training the model"
   ]
  },
  {
   "cell_type": "code",
   "execution_count": 31,
   "id": "37842add",
   "metadata": {},
   "outputs": [],
   "source": [
    "from sklearn.naive_bayes import MultinomialNB, BernoulliNB\n",
    "from sklearn.metrics import accuracy_score\n",
    "from sklearn.ensemble import BaggingClassifier,AdaBoostClassifier\n",
    "from sklearn.svm import SVC\n",
    "from sklearn.decomposition import TruncatedSVD\n",
    "from sklearn.model_selection import GridSearchCV, KFold"
   ]
  },
  {
   "cell_type": "code",
   "execution_count": 32,
   "id": "cb979903",
   "metadata": {},
   "outputs": [
    {
     "data": {
      "text/html": [
       "<style>#sk-container-id-1 {color: black;background-color: white;}#sk-container-id-1 pre{padding: 0;}#sk-container-id-1 div.sk-toggleable {background-color: white;}#sk-container-id-1 label.sk-toggleable__label {cursor: pointer;display: block;width: 100%;margin-bottom: 0;padding: 0.3em;box-sizing: border-box;text-align: center;}#sk-container-id-1 label.sk-toggleable__label-arrow:before {content: \"▸\";float: left;margin-right: 0.25em;color: #696969;}#sk-container-id-1 label.sk-toggleable__label-arrow:hover:before {color: black;}#sk-container-id-1 div.sk-estimator:hover label.sk-toggleable__label-arrow:before {color: black;}#sk-container-id-1 div.sk-toggleable__content {max-height: 0;max-width: 0;overflow: hidden;text-align: left;background-color: #f0f8ff;}#sk-container-id-1 div.sk-toggleable__content pre {margin: 0.2em;color: black;border-radius: 0.25em;background-color: #f0f8ff;}#sk-container-id-1 input.sk-toggleable__control:checked~div.sk-toggleable__content {max-height: 200px;max-width: 100%;overflow: auto;}#sk-container-id-1 input.sk-toggleable__control:checked~label.sk-toggleable__label-arrow:before {content: \"▾\";}#sk-container-id-1 div.sk-estimator input.sk-toggleable__control:checked~label.sk-toggleable__label {background-color: #d4ebff;}#sk-container-id-1 div.sk-label input.sk-toggleable__control:checked~label.sk-toggleable__label {background-color: #d4ebff;}#sk-container-id-1 input.sk-hidden--visually {border: 0;clip: rect(1px 1px 1px 1px);clip: rect(1px, 1px, 1px, 1px);height: 1px;margin: -1px;overflow: hidden;padding: 0;position: absolute;width: 1px;}#sk-container-id-1 div.sk-estimator {font-family: monospace;background-color: #f0f8ff;border: 1px dotted black;border-radius: 0.25em;box-sizing: border-box;margin-bottom: 0.5em;}#sk-container-id-1 div.sk-estimator:hover {background-color: #d4ebff;}#sk-container-id-1 div.sk-parallel-item::after {content: \"\";width: 100%;border-bottom: 1px solid gray;flex-grow: 1;}#sk-container-id-1 div.sk-label:hover label.sk-toggleable__label {background-color: #d4ebff;}#sk-container-id-1 div.sk-serial::before {content: \"\";position: absolute;border-left: 1px solid gray;box-sizing: border-box;top: 0;bottom: 0;left: 50%;z-index: 0;}#sk-container-id-1 div.sk-serial {display: flex;flex-direction: column;align-items: center;background-color: white;padding-right: 0.2em;padding-left: 0.2em;position: relative;}#sk-container-id-1 div.sk-item {position: relative;z-index: 1;}#sk-container-id-1 div.sk-parallel {display: flex;align-items: stretch;justify-content: center;background-color: white;position: relative;}#sk-container-id-1 div.sk-item::before, #sk-container-id-1 div.sk-parallel-item::before {content: \"\";position: absolute;border-left: 1px solid gray;box-sizing: border-box;top: 0;bottom: 0;left: 50%;z-index: -1;}#sk-container-id-1 div.sk-parallel-item {display: flex;flex-direction: column;z-index: 1;position: relative;background-color: white;}#sk-container-id-1 div.sk-parallel-item:first-child::after {align-self: flex-end;width: 50%;}#sk-container-id-1 div.sk-parallel-item:last-child::after {align-self: flex-start;width: 50%;}#sk-container-id-1 div.sk-parallel-item:only-child::after {width: 0;}#sk-container-id-1 div.sk-dashed-wrapped {border: 1px dashed gray;margin: 0 0.4em 0.5em 0.4em;box-sizing: border-box;padding-bottom: 0.4em;background-color: white;}#sk-container-id-1 div.sk-label label {font-family: monospace;font-weight: bold;display: inline-block;line-height: 1.2em;}#sk-container-id-1 div.sk-label-container {text-align: center;}#sk-container-id-1 div.sk-container {/* jupyter's `normalize.less` sets `[hidden] { display: none; }` but bootstrap.min.css set `[hidden] { display: none !important; }` so we also need the `!important` here to be able to override the default hidden behavior on the sphinx rendered scikit-learn.org. See: https://github.com/scikit-learn/scikit-learn/issues/21755 */display: inline-block !important;position: relative;}#sk-container-id-1 div.sk-text-repr-fallback {display: none;}</style><div id=\"sk-container-id-1\" class=\"sk-top-container\"><div class=\"sk-text-repr-fallback\"><pre>BernoulliNB()</pre><b>In a Jupyter environment, please rerun this cell to show the HTML representation or trust the notebook. <br />On GitHub, the HTML representation is unable to render, please try loading this page with nbviewer.org.</b></div><div class=\"sk-container\" hidden><div class=\"sk-item\"><div class=\"sk-estimator sk-toggleable\"><input class=\"sk-toggleable__control sk-hidden--visually\" id=\"sk-estimator-id-1\" type=\"checkbox\" checked><label for=\"sk-estimator-id-1\" class=\"sk-toggleable__label sk-toggleable__label-arrow\">BernoulliNB</label><div class=\"sk-toggleable__content\"><pre>BernoulliNB()</pre></div></div></div></div></div>"
      ],
      "text/plain": [
       "BernoulliNB()"
      ]
     },
     "execution_count": 32,
     "metadata": {},
     "output_type": "execute_result"
    }
   ],
   "source": [
    "# we will train a naive bayes classifier\n",
    "m_nb = MultinomialNB()\n",
    "b_nb = BernoulliNB()\n",
    "\n",
    "m_nb.fit(X_train, y_train)\n",
    "b_nb.fit(X_train, y_train)"
   ]
  },
  {
   "cell_type": "code",
   "execution_count": 33,
   "id": "f273591f",
   "metadata": {},
   "outputs": [
    {
     "name": "stdout",
     "output_type": "stream",
     "text": [
      "Multinomial Naive Bayes Algorithm\n",
      " Training accuracy is 96.5%\n",
      " Testing accuracy is 90.25%\n",
      "Bernoulli Naive Bayes Algorithm\n",
      " Training accuracy is 95.31%\n",
      " Testing accuracy is 91.0%\n",
      "Accuracy of MultinomialNB : 0.9025\n",
      "Accuracy of BernoulliNB : 0.91\n"
     ]
    }
   ],
   "source": [
    "print(\"Multinomial Naive Bayes Algorithm\")\n",
    "print(f' Training accuracy is {round(m_nb.score(X_train, y_train) * 100,2)}%')\n",
    "print(f' Testing accuracy is {round(m_nb.score(X_test, y_test) * 100,2)}%')\n",
    "\n",
    "print(\"Bernoulli Naive Bayes Algorithm\")\n",
    "print(f' Training accuracy is {round(b_nb.score(X_train, y_train) * 100,2)}%')\n",
    "print(f' Testing accuracy is {round(b_nb.score(X_test, y_test) * 100,2)}%')\n",
    "\n",
    "y_pred_m_nb = m_nb.predict(X_test)\n",
    "y_pred_b_nb = b_nb.predict(X_test)\n",
    "\n",
    "accuracy = accuracy_score(y_test, y_pred_m_nb)\n",
    "print(\"Accuracy of MultinomialNB :\", accuracy)\n",
    "accuracy = accuracy_score(y_test, y_pred_b_nb)\n",
    "print(\"Accuracy of BernoulliNB :\", accuracy)"
   ]
  },
  {
   "cell_type": "code",
   "execution_count": 34,
   "id": "ac17bd66",
   "metadata": {},
   "outputs": [
    {
     "name": "stdout",
     "output_type": "stream",
     "text": [
      "Confusion Matrix\n",
      "[[207   9]\n",
      " [ 27 157]]\n"
     ]
    }
   ],
   "source": [
    "c"
   ]
  },
  {
   "cell_type": "code",
   "execution_count": 35,
   "id": "9627dc3c",
   "metadata": {},
   "outputs": [
    {
     "name": "stdout",
     "output_type": "stream",
     "text": [
      "Classfication Report \n",
      "              precision    recall  f1-score   support\n",
      "\n",
      "           0       0.88      0.96      0.92       216\n",
      "           1       0.95      0.85      0.90       184\n",
      "\n",
      "    accuracy                           0.91       400\n",
      "   macro avg       0.92      0.91      0.91       400\n",
      "weighted avg       0.91      0.91      0.91       400\n",
      "\n"
     ]
    }
   ],
   "source": [
    "# Convert predictions to binary class labels\n",
    "y_pred = (y_pred_b_nb > 0.5)\n",
    "\n",
    "# Calculate precision, recall, and F1-score\n",
    "report = classification_report(y_test, y_pred.astype(int))\n",
    "print(\"Classfication Report \")\n",
    "print(report)"
   ]
  },
  {
   "cell_type": "markdown",
   "id": "c436efd1",
   "metadata": {},
   "source": [
    "**binary cross-entropy loss** is used to measure the dissimilarity between the predicted probabilities and the true labels."
   ]
  },
  {
   "cell_type": "code",
   "execution_count": 36,
   "id": "86832343",
   "metadata": {},
   "outputs": [
    {
     "name": "stdout",
     "output_type": "stream",
     "text": [
      "3.1085078664841417\n"
     ]
    }
   ],
   "source": [
    "epsilon = 1e-15 # a very small number\n",
    "y_pred = np.clip(y_pred, epsilon, 1 - epsilon)\n",
    "y_pred = y_pred.astype(float) # convert to float type\n",
    "loss = -1 * (y_test * np.log(y_pred) + (1 - y_test) * np.log(1 - y_pred))\n",
    "avg_loss = np.mean(loss)\n",
    "print(avg_loss)"
   ]
  },
  {
   "cell_type": "code",
   "execution_count": 37,
   "id": "9490ba77",
   "metadata": {},
   "outputs": [
    {
     "name": "stdout",
     "output_type": "stream",
     "text": [
      "Bagging Accuracy: 0.9175\n"
     ]
    }
   ],
   "source": [
    "\n",
    "\n",
    "clf = BernoulliNB()\n",
    "\n",
    "# Initialize the bagging classifier with Naive Bayes as the base estimator\n",
    "bagging_clf = BaggingClassifier(base_estimator=clf, n_estimators=10)\n",
    "\n",
    "# Define the boosting classifier with 5 estimators\n",
    "# boosting_clf = AdaBoostClassifier(base_estimator=clf, n_estimators=10)\n",
    "\n",
    "# Train the boosting classifier on the training set\n",
    "# boosting_clf.fit(X_train, y_train)\n",
    "\n",
    "# Fit the bagging classifier on the training data\n",
    "bagging_clf.fit(X_train, y_train)\n",
    "\n",
    "# Make predictions on the testing data\n",
    "# y_pred_boost = boosting_clf.predict(X_test)\n",
    "\n",
    "# Make predictions on the testing data\n",
    "y_pred = bagging_clf.predict(X_test)\n",
    "\n",
    "# Calculate the accuracy of the bagging classifier\n",
    "accuracy = accuracy_score(y_test, y_pred)\n",
    "print(\"Bagging Accuracy:\", accuracy)\n",
    "\n",
    "# Calculate the accuracy of the bagging classifier\n",
    "# accuracy_ = accuracy_score(y_test, y_pred_boost)\n",
    "# print(\"Boosting Accuracy:\", accuracy_)"
   ]
  },
  {
   "cell_type": "code",
   "execution_count": 38,
   "id": "f55e44a8",
   "metadata": {},
   "outputs": [
    {
     "name": "stdout",
     "output_type": "stream",
     "text": [
      "Bagging Classifier\n",
      " Training accuracy is 94.75%\n",
      " Testing accuracy is 91.75%\n"
     ]
    }
   ],
   "source": [
    "print('Bagging Classifier')\n",
    "print(f' Training accuracy is {round(bagging_clf.score(X_train, y_train) * 100,2)}%')\n",
    "print(f' Testing accuracy is {round(bagging_clf.score(X_test, y_test) * 100,2)}%')\n",
    "\n",
    "# print('Boosting Classifier')\n",
    "# print(f' Training accuracy is {round(boosting_clf.score(X_train, y_train) * 100,2)}%')\n",
    "# print(f' Testing accuracy is {round(boosting_clf.score(X_test, y_test) * 100,2)}%')"
   ]
  },
  {
   "cell_type": "code",
   "execution_count": 39,
   "id": "03ef59e1",
   "metadata": {},
   "outputs": [
    {
     "data": {
      "image/png": "[encoded data removed]",
      "text/plain": [
       "<Figure size 432x288 with 1 Axes>"
      ]
     },
     "metadata": {
      "needs_background": "light"
     },
     "output_type": "display_data"
    }
   ],
   "source": [
    "# Vary the size of the training set\n",
    "train_sizes, train_scores, test_scores = learning_curve(bagging_clf, X, y, cv=10, train_sizes=np.linspace(0.1, 1.0, 10))\n",
    "\n",
    "# Calculate the mean and standard deviation of the training and testing scores\n",
    "train_mean = np.mean(train_scores, axis=1)\n",
    "train_std = np.std(train_scores, axis=1)\n",
    "test_mean = np.mean(test_scores, axis=1)\n",
    "test_std = np.std(test_scores, axis=1)\n",
    "\n",
    "# Plot the learning curve\n",
    "plt.plot(train_sizes, train_mean, label='Training accuracy')\n",
    "plt.fill_between(train_sizes, train_mean - train_std, train_mean + train_std, alpha=0.1)\n",
    "plt.plot(train_sizes, test_mean, label='Testing accuracy')\n",
    "plt.fill_between(train_sizes, test_mean - test_std, test_mean + test_std, alpha=0.1)\n",
    "plt.xlabel('Training set size')\n",
    "plt.ylabel('Accuracy')\n",
    "plt.legend(loc='best')\n",
    "plt.show()"
   ]
  },
  {
   "cell_type": "code",
   "execution_count": 40,
   "id": "0456848b",
   "metadata": {},
   "outputs": [],
   "source": [
    "\n",
    "# Feature selection using PCA\n",
    "pca = TruncatedSVD(n_components=3)\n",
    "X_new = pca.fit_transform(X)\n",
    "\n",
    "X_train, X_test, y_train, y_test = train_test_split(X_new, y, test_size=0.2,random_state=6)"
   ]
  },
  {
   "cell_type": "code",
   "execution_count": 41,
   "id": "74221403",
   "metadata": {},
   "outputs": [
    {
     "data": {
      "text/html": [
       "<style>#sk-container-id-2 {color: black;background-color: white;}#sk-container-id-2 pre{padding: 0;}#sk-container-id-2 div.sk-toggleable {background-color: white;}#sk-container-id-2 label.sk-toggleable__label {cursor: pointer;display: block;width: 100%;margin-bottom: 0;padding: 0.3em;box-sizing: border-box;text-align: center;}#sk-container-id-2 label.sk-toggleable__label-arrow:before {content: \"▸\";float: left;margin-right: 0.25em;color: #696969;}#sk-container-id-2 label.sk-toggleable__label-arrow:hover:before {color: black;}#sk-container-id-2 div.sk-estimator:hover label.sk-toggleable__label-arrow:before {color: black;}#sk-container-id-2 div.sk-toggleable__content {max-height: 0;max-width: 0;overflow: hidden;text-align: left;background-color: #f0f8ff;}#sk-container-id-2 div.sk-toggleable__content pre {margin: 0.2em;color: black;border-radius: 0.25em;background-color: #f0f8ff;}#sk-container-id-2 input.sk-toggleable__control:checked~div.sk-toggleable__content {max-height: 200px;max-width: 100%;overflow: auto;}#sk-container-id-2 input.sk-toggleable__control:checked~label.sk-toggleable__label-arrow:before {content: \"▾\";}#sk-container-id-2 div.sk-estimator input.sk-toggleable__control:checked~label.sk-toggleable__label {background-color: #d4ebff;}#sk-container-id-2 div.sk-label input.sk-toggleable__control:checked~label.sk-toggleable__label {background-color: #d4ebff;}#sk-container-id-2 input.sk-hidden--visually {border: 0;clip: rect(1px 1px 1px 1px);clip: rect(1px, 1px, 1px, 1px);height: 1px;margin: -1px;overflow: hidden;padding: 0;position: absolute;width: 1px;}#sk-container-id-2 div.sk-estimator {font-family: monospace;background-color: #f0f8ff;border: 1px dotted black;border-radius: 0.25em;box-sizing: border-box;margin-bottom: 0.5em;}#sk-container-id-2 div.sk-estimator:hover {background-color: #d4ebff;}#sk-container-id-2 div.sk-parallel-item::after {content: \"\";width: 100%;border-bottom: 1px solid gray;flex-grow: 1;}#sk-container-id-2 div.sk-label:hover label.sk-toggleable__label {background-color: #d4ebff;}#sk-container-id-2 div.sk-serial::before {content: \"\";position: absolute;border-left: 1px solid gray;box-sizing: border-box;top: 0;bottom: 0;left: 50%;z-index: 0;}#sk-container-id-2 div.sk-serial {display: flex;flex-direction: column;align-items: center;background-color: white;padding-right: 0.2em;padding-left: 0.2em;position: relative;}#sk-container-id-2 div.sk-item {position: relative;z-index: 1;}#sk-container-id-2 div.sk-parallel {display: flex;align-items: stretch;justify-content: center;background-color: white;position: relative;}#sk-container-id-2 div.sk-item::before, #sk-container-id-2 div.sk-parallel-item::before {content: \"\";position: absolute;border-left: 1px solid gray;box-sizing: border-box;top: 0;bottom: 0;left: 50%;z-index: -1;}#sk-container-id-2 div.sk-parallel-item {display: flex;flex-direction: column;z-index: 1;position: relative;background-color: white;}#sk-container-id-2 div.sk-parallel-item:first-child::after {align-self: flex-end;width: 50%;}#sk-container-id-2 div.sk-parallel-item:last-child::after {align-self: flex-start;width: 50%;}#sk-container-id-2 div.sk-parallel-item:only-child::after {width: 0;}#sk-container-id-2 div.sk-dashed-wrapped {border: 1px dashed gray;margin: 0 0.4em 0.5em 0.4em;box-sizing: border-box;padding-bottom: 0.4em;background-color: white;}#sk-container-id-2 div.sk-label label {font-family: monospace;font-weight: bold;display: inline-block;line-height: 1.2em;}#sk-container-id-2 div.sk-label-container {text-align: center;}#sk-container-id-2 div.sk-container {/* jupyter's `normalize.less` sets `[hidden] { display: none; }` but bootstrap.min.css set `[hidden] { display: none !important; }` so we also need the `!important` here to be able to override the default hidden behavior on the sphinx rendered scikit-learn.org. See: https://github.com/scikit-learn/scikit-learn/issues/21755 */display: inline-block !important;position: relative;}#sk-container-id-2 div.sk-text-repr-fallback {display: none;}</style><div id=\"sk-container-id-2\" class=\"sk-top-container\"><div class=\"sk-text-repr-fallback\"><pre>BernoulliNB()</pre><b>In a Jupyter environment, please rerun this cell to show the HTML representation or trust the notebook. <br />On GitHub, the HTML representation is unable to render, please try loading this page with nbviewer.org.</b></div><div class=\"sk-container\" hidden><div class=\"sk-item\"><div class=\"sk-estimator sk-toggleable\"><input class=\"sk-toggleable__control sk-hidden--visually\" id=\"sk-estimator-id-2\" type=\"checkbox\" checked><label for=\"sk-estimator-id-2\" class=\"sk-toggleable__label sk-toggleable__label-arrow\">BernoulliNB</label><div class=\"sk-toggleable__content\"><pre>BernoulliNB()</pre></div></div></div></div></div>"
      ],
      "text/plain": [
       "BernoulliNB()"
      ]
     },
     "execution_count": 41,
     "metadata": {},
     "output_type": "execute_result"
    }
   ],
   "source": [
    "clf = BernoulliNB()\n",
    "\n",
    "clf.fit(X_train, y_train)"
   ]
  },
  {
   "cell_type": "code",
   "execution_count": 42,
   "id": "481f7399",
   "metadata": {},
   "outputs": [
    {
     "name": "stdout",
     "output_type": "stream",
     "text": [
      " Training accuracy is 84.94%\n",
      " Testing accuracy is 84.5%\n",
      "\n",
      "Accuracy is  0.845\n"
     ]
    }
   ],
   "source": [
    "\n",
    "print(f' Training accuracy is {round(clf.score(X_train, y_train) * 100,2)}%')\n",
    "print(f' Testing accuracy is {round(clf.score(X_test, y_test) * 100,2)}%')\n",
    "\n",
    "print()\n",
    "y_pred = clf.predict(X_test)\n",
    "\n",
    "print(\"Accuracy is \", accuracy_score(y_test, y_pred))"
   ]
  },
  {
   "cell_type": "code",
   "execution_count": 43,
   "id": "852e1a72",
   "metadata": {},
   "outputs": [
    {
     "data": {
      "image/png": "[encoded data removed]",
      "text/plain": [
       "<Figure size 432x288 with 1 Axes>"
      ]
     },
     "metadata": {
      "needs_background": "light"
     },
     "output_type": "display_data"
    }
   ],
   "source": [
    "# Vary the size of the training set\n",
    "train_sizes, train_scores, test_scores = learning_curve(clf, X_new, y, cv=10, train_sizes=np.linspace(0.1, 1.0, 10))\n",
    "\n",
    "# Calculate the mean and standard deviation of the training and testing scores\n",
    "train_mean = np.mean(train_scores, axis=1)\n",
    "train_std = np.std(train_scores, axis=1)\n",
    "test_mean = np.mean(test_scores, axis=1)\n",
    "test_std = np.std(test_scores, axis=1)\n",
    "\n",
    "# Plot the learning curve\n",
    "plt.plot(train_sizes, train_mean, label='Training accuracy')\n",
    "plt.fill_between(train_sizes, train_mean - train_std, train_mean + train_std, alpha=0.1)\n",
    "plt.plot(train_sizes, test_mean, label='Testing accuracy')\n",
    "plt.fill_between(train_sizes, test_mean - test_std, test_mean + test_std, alpha=0.1)\n",
    "plt.xlabel('Training set size')\n",
    "plt.ylabel('Accuracy')\n",
    "plt.legend(loc='best')\n",
    "plt.show()"
   ]
  },
  {
   "cell_type": "markdown",
   "id": "da7208e3",
   "metadata": {},
   "source": [
    "##### Select best n_components for TruncatedSVD"
   ]
  },
  {
   "cell_type": "code",
   "execution_count": 44,
   "id": "69f4ff14",
   "metadata": {},
   "outputs": [],
   "source": [
    "X_train, X_test, y_train, y_test = train_test_split(X, y, test_size=0.2,random_state=6)"
   ]
  },
  {
   "cell_type": "code",
   "execution_count": 65,
   "id": "8496cda2",
   "metadata": {},
   "outputs": [
    {
     "name": "stdout",
     "output_type": "stream",
     "text": [
      "0.892\n",
      "[0.8875, 0.8875, 0.9, 0.8825, 0.9025]\n"
     ]
    }
   ],
   "source": [
    "# # Define the range of n_components to evaluate\n",
    "# param_grid = {'n_components': range(1,5)}\n",
    "\n",
    "# # Perform k-fold cross-validation\n",
    "# kf = KFold(n_splits=5, shuffle=True, random_state=42)\n",
    "# nb_model = TruncatedSVD()\n",
    "# grid_search = GridSearchCV(nb_model, param_grid=param_grid, cv=kf, scoring='accuracy')\n",
    "# grid_search.fit(X_train, y_train)\n",
    "\n",
    "# # Select the optimal number of components\n",
    "# best_n_components = grid_search.best_params_['n_components']\n",
    "\n",
    "# # Train the TruncatedSVD model on the entire training set with the best number of components\n",
    "# nb_model = TruncatedSVD(n_components=best_n_components)\n",
    "# # nb_model.fit(X_train)\n",
    "\n",
    "kf = KFold(n_splits=5, shuffle=True, random_state=42)\n",
    "\n",
    "accuracy_scores = []\n",
    "clf = BernoulliNB()\n",
    "\n",
    "for train_index, test_index in kf.split(X):\n",
    "    X_train, X_test = X[train_index], X[test_index]\n",
    "    y_train, y_test = y[train_index], y[test_index]\n",
    "    clf.fit(X_train, y_train)\n",
    "    y_pred = clf.predict(X_test)\n",
    "    accuracy = accuracy_score(y_test, y_pred)\n",
    "    accuracy_scores.append(accuracy)\n",
    "    \n",
    "print(sum(accuracy_scores) / len(accuracy_scores))\n",
    "\n",
    "print(accuracy_scores)"
   ]
  },
  {
   "cell_type": "markdown",
   "id": "e65b3d8c",
   "metadata": {},
   "source": [
    "#### feature selection"
   ]
  },
  {
   "cell_type": "code",
   "execution_count": 75,
   "id": "094fb2e6",
   "metadata": {},
   "outputs": [],
   "source": [
    "from sklearn.feature_selection import mutual_info_classif, SelectKBest\n"
   ]
  },
  {
   "cell_type": "code",
   "execution_count": 124,
   "id": "31786fb5",
   "metadata": {},
   "outputs": [],
   "source": [
    "\n",
    "\n",
    "mutual_info = mutual_info_classif(X, y)\n",
    "\n",
    "# for i in range(len(mutual_info)):\n",
    "#     print(\"Feataure\", i+1, \":\", mutual_info[i])"
   ]
  },
  {
   "cell_type": "code",
   "execution_count": 125,
   "id": "4e5bb5ac",
   "metadata": {},
   "outputs": [
    {
     "data": {
      "text/html": [
       "<style>#sk-container-id-19 {color: black;background-color: white;}#sk-container-id-19 pre{padding: 0;}#sk-container-id-19 div.sk-toggleable {background-color: white;}#sk-container-id-19 label.sk-toggleable__label {cursor: pointer;display: block;width: 100%;margin-bottom: 0;padding: 0.3em;box-sizing: border-box;text-align: center;}#sk-container-id-19 label.sk-toggleable__label-arrow:before {content: \"▸\";float: left;margin-right: 0.25em;color: #696969;}#sk-container-id-19 label.sk-toggleable__label-arrow:hover:before {color: black;}#sk-container-id-19 div.sk-estimator:hover label.sk-toggleable__label-arrow:before {color: black;}#sk-container-id-19 div.sk-toggleable__content {max-height: 0;max-width: 0;overflow: hidden;text-align: left;background-color: #f0f8ff;}#sk-container-id-19 div.sk-toggleable__content pre {margin: 0.2em;color: black;border-radius: 0.25em;background-color: #f0f8ff;}#sk-container-id-19 input.sk-toggleable__control:checked~div.sk-toggleable__content {max-height: 200px;max-width: 100%;overflow: auto;}#sk-container-id-19 input.sk-toggleable__control:checked~label.sk-toggleable__label-arrow:before {content: \"▾\";}#sk-container-id-19 div.sk-estimator input.sk-toggleable__control:checked~label.sk-toggleable__label {background-color: #d4ebff;}#sk-container-id-19 div.sk-label input.sk-toggleable__control:checked~label.sk-toggleable__label {background-color: #d4ebff;}#sk-container-id-19 input.sk-hidden--visually {border: 0;clip: rect(1px 1px 1px 1px);clip: rect(1px, 1px, 1px, 1px);height: 1px;margin: -1px;overflow: hidden;padding: 0;position: absolute;width: 1px;}#sk-container-id-19 div.sk-estimator {font-family: monospace;background-color: #f0f8ff;border: 1px dotted black;border-radius: 0.25em;box-sizing: border-box;margin-bottom: 0.5em;}#sk-container-id-19 div.sk-estimator:hover {background-color: #d4ebff;}#sk-container-id-19 div.sk-parallel-item::after {content: \"\";width: 100%;border-bottom: 1px solid gray;flex-grow: 1;}#sk-container-id-19 div.sk-label:hover label.sk-toggleable__label {background-color: #d4ebff;}#sk-container-id-19 div.sk-serial::before {content: \"\";position: absolute;border-left: 1px solid gray;box-sizing: border-box;top: 0;bottom: 0;left: 50%;z-index: 0;}#sk-container-id-19 div.sk-serial {display: flex;flex-direction: column;align-items: center;background-color: white;padding-right: 0.2em;padding-left: 0.2em;position: relative;}#sk-container-id-19 div.sk-item {position: relative;z-index: 1;}#sk-container-id-19 div.sk-parallel {display: flex;align-items: stretch;justify-content: center;background-color: white;position: relative;}#sk-container-id-19 div.sk-item::before, #sk-container-id-19 div.sk-parallel-item::before {content: \"\";position: absolute;border-left: 1px solid gray;box-sizing: border-box;top: 0;bottom: 0;left: 50%;z-index: -1;}#sk-container-id-19 div.sk-parallel-item {display: flex;flex-direction: column;z-index: 1;position: relative;background-color: white;}#sk-container-id-19 div.sk-parallel-item:first-child::after {align-self: flex-end;width: 50%;}#sk-container-id-19 div.sk-parallel-item:last-child::after {align-self: flex-start;width: 50%;}#sk-container-id-19 div.sk-parallel-item:only-child::after {width: 0;}#sk-container-id-19 div.sk-dashed-wrapped {border: 1px dashed gray;margin: 0 0.4em 0.5em 0.4em;box-sizing: border-box;padding-bottom: 0.4em;background-color: white;}#sk-container-id-19 div.sk-label label {font-family: monospace;font-weight: bold;display: inline-block;line-height: 1.2em;}#sk-container-id-19 div.sk-label-container {text-align: center;}#sk-container-id-19 div.sk-container {/* jupyter's `normalize.less` sets `[hidden] { display: none; }` but bootstrap.min.css set `[hidden] { display: none !important; }` so we also need the `!important` here to be able to override the default hidden behavior on the sphinx rendered scikit-learn.org. See: https://github.com/scikit-learn/scikit-learn/issues/21755 */display: inline-block !important;position: relative;}#sk-container-id-19 div.sk-text-repr-fallback {display: none;}</style><div id=\"sk-container-id-19\" class=\"sk-top-container\"><div class=\"sk-text-repr-fallback\"><pre>BernoulliNB()</pre><b>In a Jupyter environment, please rerun this cell to show the HTML representation or trust the notebook. <br />On GitHub, the HTML representation is unable to render, please try loading this page with nbviewer.org.</b></div><div class=\"sk-container\" hidden><div class=\"sk-item\"><div class=\"sk-estimator sk-toggleable\"><input class=\"sk-toggleable__control sk-hidden--visually\" id=\"sk-estimator-id-19\" type=\"checkbox\" checked><label for=\"sk-estimator-id-19\" class=\"sk-toggleable__label sk-toggleable__label-arrow\">BernoulliNB</label><div class=\"sk-toggleable__content\"><pre>BernoulliNB()</pre></div></div></div></div></div>"
      ],
      "text/plain": [
       "BernoulliNB()"
      ]
     },
     "execution_count": 125,
     "metadata": {},
     "output_type": "execute_result"
    }
   ],
   "source": [
    "selector = SelectKBest(mutual_info_classif, k=int(len(mutual_info)*0.50))\n",
    "X_new = selector.fit_transform(X,y)\n",
    "\n",
    "clf = BernoulliNB()\n",
    "\n",
    "X_train, X_test, y_train, y_test = train_test_split(X_new, y, test_size=0.2,random_state=6)\n",
    "\n",
    "clf.fit(X_train, y_train)\n"
   ]
  },
  {
   "cell_type": "code",
   "execution_count": 126,
   "id": "fd77939e",
   "metadata": {},
   "outputs": [
    {
     "name": "stdout",
     "output_type": "stream",
     "text": [
      " Training accuracy is 93.06%\n",
      " Testing accuracy is 91.25%\n",
      "\n",
      "Accuracy is  0.9125\n"
     ]
    }
   ],
   "source": [
    "\n",
    "print(f' Training accuracy is {round(clf.score(X_train, y_train) * 100,2)}%')\n",
    "print(f' Testing accuracy is {round(clf.score(X_test, y_test) * 100,2)}%')\n",
    "\n",
    "print()\n",
    "y_pred = clf.predict(X_test)\n",
    "\n",
    "print(\"Accuracy is \", accuracy_score(y_test, y_pred))"
   ]
  },
  {
   "cell_type": "code",
   "execution_count": 127,
   "id": "6d0ee1ac",
   "metadata": {},
   "outputs": [
    {
     "name": "stdout",
     "output_type": "stream",
     "text": [
      "Confusion Matrix\n",
      "[[209   7]\n",
      " [ 28 156]]\n"
     ]
    }
   ],
   "source": [
    "# calculate confusion matrix\n",
    "cm = confusion_matrix(y_test, y_pred)\n",
    "print(\"Confusion Matrix\")\n",
    "print(cm)"
   ]
  },
  {
   "cell_type": "code",
   "execution_count": 56,
   "id": "1def0619",
   "metadata": {},
   "outputs": [
    {
     "name": "stdout",
     "output_type": "stream",
     "text": [
      "Best n_component is : 1\n"
     ]
    }
   ],
   "source": [
    "# print(f'Best n_component is : {best_n_components}')"
   ]
  },
  {
   "cell_type": "code",
   "execution_count": 57,
   "id": "e7f1c189",
   "metadata": {},
   "outputs": [],
   "source": [
    "# X_new = nb_model.fit_transform(X)\n",
    "\n",
    "# X_train, X_test, y_train, y_test = train_test_split(X_new, y, test_size=0.2,random_state=6)"
   ]
  },
  {
   "cell_type": "code",
   "execution_count": 58,
   "id": "0bd8b1d1",
   "metadata": {},
   "outputs": [
    {
     "data": {
      "text/html": [
       "<style>#sk-container-id-4 {color: black;background-color: white;}#sk-container-id-4 pre{padding: 0;}#sk-container-id-4 div.sk-toggleable {background-color: white;}#sk-container-id-4 label.sk-toggleable__label {cursor: pointer;display: block;width: 100%;margin-bottom: 0;padding: 0.3em;box-sizing: border-box;text-align: center;}#sk-container-id-4 label.sk-toggleable__label-arrow:before {content: \"▸\";float: left;margin-right: 0.25em;color: #696969;}#sk-container-id-4 label.sk-toggleable__label-arrow:hover:before {color: black;}#sk-container-id-4 div.sk-estimator:hover label.sk-toggleable__label-arrow:before {color: black;}#sk-container-id-4 div.sk-toggleable__content {max-height: 0;max-width: 0;overflow: hidden;text-align: left;background-color: #f0f8ff;}#sk-container-id-4 div.sk-toggleable__content pre {margin: 0.2em;color: black;border-radius: 0.25em;background-color: #f0f8ff;}#sk-container-id-4 input.sk-toggleable__control:checked~div.sk-toggleable__content {max-height: 200px;max-width: 100%;overflow: auto;}#sk-container-id-4 input.sk-toggleable__control:checked~label.sk-toggleable__label-arrow:before {content: \"▾\";}#sk-container-id-4 div.sk-estimator input.sk-toggleable__control:checked~label.sk-toggleable__label {background-color: #d4ebff;}#sk-container-id-4 div.sk-label input.sk-toggleable__control:checked~label.sk-toggleable__label {background-color: #d4ebff;}#sk-container-id-4 input.sk-hidden--visually {border: 0;clip: rect(1px 1px 1px 1px);clip: rect(1px, 1px, 1px, 1px);height: 1px;margin: -1px;overflow: hidden;padding: 0;position: absolute;width: 1px;}#sk-container-id-4 div.sk-estimator {font-family: monospace;background-color: #f0f8ff;border: 1px dotted black;border-radius: 0.25em;box-sizing: border-box;margin-bottom: 0.5em;}#sk-container-id-4 div.sk-estimator:hover {background-color: #d4ebff;}#sk-container-id-4 div.sk-parallel-item::after {content: \"\";width: 100%;border-bottom: 1px solid gray;flex-grow: 1;}#sk-container-id-4 div.sk-label:hover label.sk-toggleable__label {background-color: #d4ebff;}#sk-container-id-4 div.sk-serial::before {content: \"\";position: absolute;border-left: 1px solid gray;box-sizing: border-box;top: 0;bottom: 0;left: 50%;z-index: 0;}#sk-container-id-4 div.sk-serial {display: flex;flex-direction: column;align-items: center;background-color: white;padding-right: 0.2em;padding-left: 0.2em;position: relative;}#sk-container-id-4 div.sk-item {position: relative;z-index: 1;}#sk-container-id-4 div.sk-parallel {display: flex;align-items: stretch;justify-content: center;background-color: white;position: relative;}#sk-container-id-4 div.sk-item::before, #sk-container-id-4 div.sk-parallel-item::before {content: \"\";position: absolute;border-left: 1px solid gray;box-sizing: border-box;top: 0;bottom: 0;left: 50%;z-index: -1;}#sk-container-id-4 div.sk-parallel-item {display: flex;flex-direction: column;z-index: 1;position: relative;background-color: white;}#sk-container-id-4 div.sk-parallel-item:first-child::after {align-self: flex-end;width: 50%;}#sk-container-id-4 div.sk-parallel-item:last-child::after {align-self: flex-start;width: 50%;}#sk-container-id-4 div.sk-parallel-item:only-child::after {width: 0;}#sk-container-id-4 div.sk-dashed-wrapped {border: 1px dashed gray;margin: 0 0.4em 0.5em 0.4em;box-sizing: border-box;padding-bottom: 0.4em;background-color: white;}#sk-container-id-4 div.sk-label label {font-family: monospace;font-weight: bold;display: inline-block;line-height: 1.2em;}#sk-container-id-4 div.sk-label-container {text-align: center;}#sk-container-id-4 div.sk-container {/* jupyter's `normalize.less` sets `[hidden] { display: none; }` but bootstrap.min.css set `[hidden] { display: none !important; }` so we also need the `!important` here to be able to override the default hidden behavior on the sphinx rendered scikit-learn.org. See: https://github.com/scikit-learn/scikit-learn/issues/21755 */display: inline-block !important;position: relative;}#sk-container-id-4 div.sk-text-repr-fallback {display: none;}</style><div id=\"sk-container-id-4\" class=\"sk-top-container\"><div class=\"sk-text-repr-fallback\"><pre>BernoulliNB()</pre><b>In a Jupyter environment, please rerun this cell to show the HTML representation or trust the notebook. <br />On GitHub, the HTML representation is unable to render, please try loading this page with nbviewer.org.</b></div><div class=\"sk-container\" hidden><div class=\"sk-item\"><div class=\"sk-estimator sk-toggleable\"><input class=\"sk-toggleable__control sk-hidden--visually\" id=\"sk-estimator-id-4\" type=\"checkbox\" checked><label for=\"sk-estimator-id-4\" class=\"sk-toggleable__label sk-toggleable__label-arrow\">BernoulliNB</label><div class=\"sk-toggleable__content\"><pre>BernoulliNB()</pre></div></div></div></div></div>"
      ],
      "text/plain": [
       "BernoulliNB()"
      ]
     },
     "execution_count": 58,
     "metadata": {},
     "output_type": "execute_result"
    }
   ],
   "source": [
    "# clf = BernoulliNB()\n",
    "\n",
    "# clf.fit(X_train, y_train)"
   ]
  },
  {
   "cell_type": "code",
   "execution_count": 59,
   "id": "1c9f50e7",
   "metadata": {},
   "outputs": [
    {
     "name": "stdout",
     "output_type": "stream",
     "text": [
      " Training accuracy is 51.5%\n",
      " Testing accuracy is 46.25%\n",
      "\n",
      "Accuracy is  0.4625\n"
     ]
    }
   ],
   "source": [
    "\n",
    "# print(f' Training accuracy is {round(clf.score(X_train, y_train) * 100,2)}%')\n",
    "# print(f' Testing accuracy is {round(clf.score(X_test, y_test) * 100,2)}%')\n",
    "\n",
    "# print()\n",
    "# y_pred = clf.predict(X_test)\n",
    "\n",
    "# print(\"Accuracy is \", accuracy_score(y_test, y_pred))"
   ]
  },
  {
   "cell_type": "code",
   "execution_count": 60,
   "id": "42227da6",
   "metadata": {},
   "outputs": [
    {
     "name": "stdout",
     "output_type": "stream",
     "text": [
      "Confusion Matrix\n",
      "[[  4 212]\n",
      " [  3 181]]\n"
     ]
    }
   ],
   "source": [
    "# # calculate confusion matrix\n",
    "# cm = confusion_matrix(y_test, y_pred)\n",
    "# print(\"Confusion Matrix\")\n",
    "# print(cm)"
   ]
  },
  {
   "cell_type": "code",
   "execution_count": 61,
   "id": "bc762c54",
   "metadata": {},
   "outputs": [
    {
     "name": "stdout",
     "output_type": "stream",
     "text": [
      "Classfication Report \n",
      "              precision    recall  f1-score   support\n",
      "\n",
      "           0       0.57      0.02      0.04       216\n",
      "           1       0.46      0.98      0.63       184\n",
      "\n",
      "    accuracy                           0.46       400\n",
      "   macro avg       0.52      0.50      0.33       400\n",
      "weighted avg       0.52      0.46      0.31       400\n",
      "\n"
     ]
    }
   ],
   "source": [
    "# # Calculate precision, recall, and F1-score\n",
    "# report = classification_report(y_test, y_pred.astype(int))\n",
    "# print(\"Classfication Report \")\n",
    "# print(report)"
   ]
  },
  {
   "cell_type": "code",
   "execution_count": 62,
   "id": "e75aeea3",
   "metadata": {},
   "outputs": [
    {
     "data": {
      "image/png": "[encoded data removed]",
      "text/plain": [
       "<Figure size 432x288 with 1 Axes>"
      ]
     },
     "metadata": {
      "needs_background": "light"
     },
     "output_type": "display_data"
    }
   ],
   "source": [
    "# # Vary the size of the training set\n",
    "# train_sizes, train_scores, test_scores = learning_curve(clf, X_new, y, cv=10, train_sizes=np.linspace(0.1, 1.0, 10))\n",
    "\n",
    "# # Calculate the mean and standard deviation of the training and testing scores\n",
    "# train_mean = np.mean(train_scores, axis=1)\n",
    "# train_std = np.std(train_scores, axis=1)\n",
    "# test_mean = np.mean(test_scores, axis=1)\n",
    "# test_std = np.std(test_scores, axis=1)\n",
    "\n",
    "# # Plot the learning curve\n",
    "# plt.plot(train_sizes, train_mean, label='Training accuracy')\n",
    "# plt.fill_between(train_sizes, train_mean - train_std, train_mean + train_std, alpha=0.1)\n",
    "# plt.plot(train_sizes, test_mean, label='Testing accuracy')\n",
    "# plt.fill_between(train_sizes, test_mean - test_std, test_mean + test_std, alpha=0.1)\n",
    "# plt.xlabel('Training set size')\n",
    "# plt.ylabel('Accuracy')\n",
    "# plt.legend(loc='best')\n",
    "# plt.show()"
   ]
  },
  {
   "cell_type": "code",
   "execution_count": 63,
   "id": "9b457277",
   "metadata": {},
   "outputs": [
    {
     "name": "stdout",
     "output_type": "stream",
     "text": [
      "18.565016098902493\n"
     ]
    }
   ],
   "source": [
    "# epsilon = 1e-15 # a very small number\n",
    "# y_pred = np.clip(y_pred, epsilon, 1 - epsilon)\n",
    "# y_pred = y_pred.astype(float) # convert to float type\n",
    "# loss = -1 * (y_test * np.log(y_pred) + (1 - y_test) * np.log(1 - y_pred))\n",
    "# avg_loss = np.mean(loss)\n",
    "# print(avg_loss)"
   ]
  },
  {
   "cell_type": "markdown",
   "id": "86ea89f2",
   "metadata": {},
   "source": [
    "#### SVM"
   ]
  },
  {
   "cell_type": "code",
   "execution_count": 128,
   "id": "c0020d91",
   "metadata": {},
   "outputs": [
    {
     "data": {
      "text/html": [
       "<style>#sk-container-id-20 {color: black;background-color: white;}#sk-container-id-20 pre{padding: 0;}#sk-container-id-20 div.sk-toggleable {background-color: white;}#sk-container-id-20 label.sk-toggleable__label {cursor: pointer;display: block;width: 100%;margin-bottom: 0;padding: 0.3em;box-sizing: border-box;text-align: center;}#sk-container-id-20 label.sk-toggleable__label-arrow:before {content: \"▸\";float: left;margin-right: 0.25em;color: #696969;}#sk-container-id-20 label.sk-toggleable__label-arrow:hover:before {color: black;}#sk-container-id-20 div.sk-estimator:hover label.sk-toggleable__label-arrow:before {color: black;}#sk-container-id-20 div.sk-toggleable__content {max-height: 0;max-width: 0;overflow: hidden;text-align: left;background-color: #f0f8ff;}#sk-container-id-20 div.sk-toggleable__content pre {margin: 0.2em;color: black;border-radius: 0.25em;background-color: #f0f8ff;}#sk-container-id-20 input.sk-toggleable__control:checked~div.sk-toggleable__content {max-height: 200px;max-width: 100%;overflow: auto;}#sk-container-id-20 input.sk-toggleable__control:checked~label.sk-toggleable__label-arrow:before {content: \"▾\";}#sk-container-id-20 div.sk-estimator input.sk-toggleable__control:checked~label.sk-toggleable__label {background-color: #d4ebff;}#sk-container-id-20 div.sk-label input.sk-toggleable__control:checked~label.sk-toggleable__label {background-color: #d4ebff;}#sk-container-id-20 input.sk-hidden--visually {border: 0;clip: rect(1px 1px 1px 1px);clip: rect(1px, 1px, 1px, 1px);height: 1px;margin: -1px;overflow: hidden;padding: 0;position: absolute;width: 1px;}#sk-container-id-20 div.sk-estimator {font-family: monospace;background-color: #f0f8ff;border: 1px dotted black;border-radius: 0.25em;box-sizing: border-box;margin-bottom: 0.5em;}#sk-container-id-20 div.sk-estimator:hover {background-color: #d4ebff;}#sk-container-id-20 div.sk-parallel-item::after {content: \"\";width: 100%;border-bottom: 1px solid gray;flex-grow: 1;}#sk-container-id-20 div.sk-label:hover label.sk-toggleable__label {background-color: #d4ebff;}#sk-container-id-20 div.sk-serial::before {content: \"\";position: absolute;border-left: 1px solid gray;box-sizing: border-box;top: 0;bottom: 0;left: 50%;z-index: 0;}#sk-container-id-20 div.sk-serial {display: flex;flex-direction: column;align-items: center;background-color: white;padding-right: 0.2em;padding-left: 0.2em;position: relative;}#sk-container-id-20 div.sk-item {position: relative;z-index: 1;}#sk-container-id-20 div.sk-parallel {display: flex;align-items: stretch;justify-content: center;background-color: white;position: relative;}#sk-container-id-20 div.sk-item::before, #sk-container-id-20 div.sk-parallel-item::before {content: \"\";position: absolute;border-left: 1px solid gray;box-sizing: border-box;top: 0;bottom: 0;left: 50%;z-index: -1;}#sk-container-id-20 div.sk-parallel-item {display: flex;flex-direction: column;z-index: 1;position: relative;background-color: white;}#sk-container-id-20 div.sk-parallel-item:first-child::after {align-self: flex-end;width: 50%;}#sk-container-id-20 div.sk-parallel-item:last-child::after {align-self: flex-start;width: 50%;}#sk-container-id-20 div.sk-parallel-item:only-child::after {width: 0;}#sk-container-id-20 div.sk-dashed-wrapped {border: 1px dashed gray;margin: 0 0.4em 0.5em 0.4em;box-sizing: border-box;padding-bottom: 0.4em;background-color: white;}#sk-container-id-20 div.sk-label label {font-family: monospace;font-weight: bold;display: inline-block;line-height: 1.2em;}#sk-container-id-20 div.sk-label-container {text-align: center;}#sk-container-id-20 div.sk-container {/* jupyter's `normalize.less` sets `[hidden] { display: none; }` but bootstrap.min.css set `[hidden] { display: none !important; }` so we also need the `!important` here to be able to override the default hidden behavior on the sphinx rendered scikit-learn.org. See: https://github.com/scikit-learn/scikit-learn/issues/21755 */display: inline-block !important;position: relative;}#sk-container-id-20 div.sk-text-repr-fallback {display: none;}</style><div id=\"sk-container-id-20\" class=\"sk-top-container\"><div class=\"sk-text-repr-fallback\"><pre>SVC(kernel=&#x27;linear&#x27;)</pre><b>In a Jupyter environment, please rerun this cell to show the HTML representation or trust the notebook. <br />On GitHub, the HTML representation is unable to render, please try loading this page with nbviewer.org.</b></div><div class=\"sk-container\" hidden><div class=\"sk-item\"><div class=\"sk-estimator sk-toggleable\"><input class=\"sk-toggleable__control sk-hidden--visually\" id=\"sk-estimator-id-20\" type=\"checkbox\" checked><label for=\"sk-estimator-id-20\" class=\"sk-toggleable__label sk-toggleable__label-arrow\">SVC</label><div class=\"sk-toggleable__content\"><pre>SVC(kernel=&#x27;linear&#x27;)</pre></div></div></div></div></div>"
      ],
      "text/plain": [
       "SVC(kernel='linear')"
      ]
     },
     "execution_count": 128,
     "metadata": {},
     "output_type": "execute_result"
    }
   ],
   "source": [
    "X_train, X_test, y_train, y_test = train_test_split(X, y, test_size=0.2,random_state=6)\n",
    "\n",
    "svm_model = SVC(kernel='linear')\n",
    "\n",
    "svm_model.fit(X_train, y_train)"
   ]
  },
  {
   "cell_type": "code",
   "execution_count": 129,
   "id": "ec03d987",
   "metadata": {},
   "outputs": [
    {
     "name": "stdout",
     "output_type": "stream",
     "text": [
      "Training accuracy is 98.25%\n",
      "Testing accuracy is 90.0%\n",
      "\n",
      "Accuracy is  0.9\n"
     ]
    }
   ],
   "source": [
    "print(f'Training accuracy is {round(svm_model.score(X_train, y_train) * 100,2)}%')\n",
    "print(f'Testing accuracy is {round(svm_model.score(X_test, y_test) * 100,2)}%')\n",
    "\n",
    "y_pred = svm_model.predict(X_test)\n",
    "print()\n",
    "print(f'Accuracy is ', accuracy_score(y_test, y_pred) )"
   ]
  },
  {
   "cell_type": "code",
   "execution_count": 130,
   "id": "a9f256ec",
   "metadata": {},
   "outputs": [
    {
     "data": {
      "image/png": "[encoded data removed]",
      "text/plain": [
       "<Figure size 432x288 with 1 Axes>"
      ]
     },
     "metadata": {
      "needs_background": "light"
     },
     "output_type": "display_data"
    }
   ],
   "source": [
    "# Vary the size of the training set\n",
    "train_sizes, train_scores, test_scores = learning_curve(svm_model, X, y, cv=10, train_sizes=np.linspace(0.1, 1.0, 10))\n",
    "\n",
    "# Calculate the mean and standard deviation of the training and testing scores\n",
    "train_mean = np.mean(train_scores, axis=1)\n",
    "train_std = np.std(train_scores, axis=1)\n",
    "test_mean = np.mean(test_scores, axis=1)\n",
    "test_std = np.std(test_scores, axis=1)\n",
    "\n",
    "# Plot the learning curve\n",
    "plt.plot(train_sizes, train_mean, label='Training accuracy')\n",
    "plt.fill_between(train_sizes, train_mean - train_std, train_mean + train_std, alpha=0.1)\n",
    "plt.plot(train_sizes, test_mean, label='Testing accuracy')\n",
    "plt.fill_between(train_sizes, test_mean - test_std, test_mean + test_std, alpha=0.1)\n",
    "plt.xlabel('Training set size')\n",
    "plt.ylabel('Accuracy')\n",
    "plt.legend(loc='best')\n",
    "plt.show()"
   ]
  },
  {
   "cell_type": "code",
   "execution_count": 131,
   "id": "8c534bbb",
   "metadata": {},
   "outputs": [
    {
     "name": "stdout",
     "output_type": "stream",
     "text": [
      "Confusion Matrix\n",
      "[[189  27]\n",
      " [ 13 171]]\n"
     ]
    }
   ],
   "source": [
    "# calculate confusion matrix\n",
    "cm = confusion_matrix(y_test, y_pred)\n",
    "print(\"Confusion Matrix\")\n",
    "print(cm)"
   ]
  },
  {
   "cell_type": "code",
   "execution_count": 132,
   "id": "41ceab6e",
   "metadata": {},
   "outputs": [
    {
     "name": "stdout",
     "output_type": "stream",
     "text": [
      "Classfication Report \n",
      "              precision    recall  f1-score   support\n",
      "\n",
      "           0       0.94      0.88      0.90       216\n",
      "           1       0.86      0.93      0.90       184\n",
      "\n",
      "    accuracy                           0.90       400\n",
      "   macro avg       0.90      0.90      0.90       400\n",
      "weighted avg       0.90      0.90      0.90       400\n",
      "\n"
     ]
    }
   ],
   "source": [
    "# Calculate precision, recall, and F1-score\n",
    "report = classification_report(y_test, y_pred.astype(int))\n",
    "print(\"Classfication Report \")\n",
    "print(report)"
   ]
  },
  {
   "cell_type": "code",
   "execution_count": 133,
   "id": "57a6f6dd",
   "metadata": {},
   "outputs": [
    {
     "name": "stdout",
     "output_type": "stream",
     "text": [
      "3.453931612317607\n"
     ]
    }
   ],
   "source": [
    "epsilon = 1e-15 # a very small number\n",
    "y_pred = np.clip(y_pred, epsilon, 1 - epsilon)\n",
    "y_pred = y_pred.astype(float) # convert to float type\n",
    "loss = -1 * (y_test * np.log(y_pred) + (1 - y_test) * np.log(1 - y_pred))\n",
    "avg_loss = np.mean(loss)\n",
    "print(avg_loss)"
   ]
  },
  {
   "cell_type": "code",
   "execution_count": null,
   "id": "47c66661",
   "metadata": {},
   "outputs": [],
   "source": []
  },
  {
   "cell_type": "code",
   "execution_count": 165,
   "id": "5ed6871e",
   "metadata": {},
   "outputs": [],
   "source": [
    "# mutual_info = mutual_info_classif(X, y)\n",
    "\n",
    "# selector = SelectKBest(mutual_info_classif, k=int(len(mutual_info)*0.6))\n",
    "# X_new = selector.fit_transform(X,y)\n",
    "\n"
   ]
  },
  {
   "cell_type": "code",
   "execution_count": 202,
   "id": "fec40914",
   "metadata": {},
   "outputs": [
    {
     "data": {
      "text/html": [
       "<style>#sk-container-id-39 {color: black;background-color: white;}#sk-container-id-39 pre{padding: 0;}#sk-container-id-39 div.sk-toggleable {background-color: white;}#sk-container-id-39 label.sk-toggleable__label {cursor: pointer;display: block;width: 100%;margin-bottom: 0;padding: 0.3em;box-sizing: border-box;text-align: center;}#sk-container-id-39 label.sk-toggleable__label-arrow:before {content: \"▸\";float: left;margin-right: 0.25em;color: #696969;}#sk-container-id-39 label.sk-toggleable__label-arrow:hover:before {color: black;}#sk-container-id-39 div.sk-estimator:hover label.sk-toggleable__label-arrow:before {color: black;}#sk-container-id-39 div.sk-toggleable__content {max-height: 0;max-width: 0;overflow: hidden;text-align: left;background-color: #f0f8ff;}#sk-container-id-39 div.sk-toggleable__content pre {margin: 0.2em;color: black;border-radius: 0.25em;background-color: #f0f8ff;}#sk-container-id-39 input.sk-toggleable__control:checked~div.sk-toggleable__content {max-height: 200px;max-width: 100%;overflow: auto;}#sk-container-id-39 input.sk-toggleable__control:checked~label.sk-toggleable__label-arrow:before {content: \"▾\";}#sk-container-id-39 div.sk-estimator input.sk-toggleable__control:checked~label.sk-toggleable__label {background-color: #d4ebff;}#sk-container-id-39 div.sk-label input.sk-toggleable__control:checked~label.sk-toggleable__label {background-color: #d4ebff;}#sk-container-id-39 input.sk-hidden--visually {border: 0;clip: rect(1px 1px 1px 1px);clip: rect(1px, 1px, 1px, 1px);height: 1px;margin: -1px;overflow: hidden;padding: 0;position: absolute;width: 1px;}#sk-container-id-39 div.sk-estimator {font-family: monospace;background-color: #f0f8ff;border: 1px dotted black;border-radius: 0.25em;box-sizing: border-box;margin-bottom: 0.5em;}#sk-container-id-39 div.sk-estimator:hover {background-color: #d4ebff;}#sk-container-id-39 div.sk-parallel-item::after {content: \"\";width: 100%;border-bottom: 1px solid gray;flex-grow: 1;}#sk-container-id-39 div.sk-label:hover label.sk-toggleable__label {background-color: #d4ebff;}#sk-container-id-39 div.sk-serial::before {content: \"\";position: absolute;border-left: 1px solid gray;box-sizing: border-box;top: 0;bottom: 0;left: 50%;z-index: 0;}#sk-container-id-39 div.sk-serial {display: flex;flex-direction: column;align-items: center;background-color: white;padding-right: 0.2em;padding-left: 0.2em;position: relative;}#sk-container-id-39 div.sk-item {position: relative;z-index: 1;}#sk-container-id-39 div.sk-parallel {display: flex;align-items: stretch;justify-content: center;background-color: white;position: relative;}#sk-container-id-39 div.sk-item::before, #sk-container-id-39 div.sk-parallel-item::before {content: \"\";position: absolute;border-left: 1px solid gray;box-sizing: border-box;top: 0;bottom: 0;left: 50%;z-index: -1;}#sk-container-id-39 div.sk-parallel-item {display: flex;flex-direction: column;z-index: 1;position: relative;background-color: white;}#sk-container-id-39 div.sk-parallel-item:first-child::after {align-self: flex-end;width: 50%;}#sk-container-id-39 div.sk-parallel-item:last-child::after {align-self: flex-start;width: 50%;}#sk-container-id-39 div.sk-parallel-item:only-child::after {width: 0;}#sk-container-id-39 div.sk-dashed-wrapped {border: 1px dashed gray;margin: 0 0.4em 0.5em 0.4em;box-sizing: border-box;padding-bottom: 0.4em;background-color: white;}#sk-container-id-39 div.sk-label label {font-family: monospace;font-weight: bold;display: inline-block;line-height: 1.2em;}#sk-container-id-39 div.sk-label-container {text-align: center;}#sk-container-id-39 div.sk-container {/* jupyter's `normalize.less` sets `[hidden] { display: none; }` but bootstrap.min.css set `[hidden] { display: none !important; }` so we also need the `!important` here to be able to override the default hidden behavior on the sphinx rendered scikit-learn.org. See: https://github.com/scikit-learn/scikit-learn/issues/21755 */display: inline-block !important;position: relative;}#sk-container-id-39 div.sk-text-repr-fallback {display: none;}</style><div id=\"sk-container-id-39\" class=\"sk-top-container\"><div class=\"sk-text-repr-fallback\"><pre>SVC(kernel=&#x27;linear&#x27;)</pre><b>In a Jupyter environment, please rerun this cell to show the HTML representation or trust the notebook. <br />On GitHub, the HTML representation is unable to render, please try loading this page with nbviewer.org.</b></div><div class=\"sk-container\" hidden><div class=\"sk-item\"><div class=\"sk-estimator sk-toggleable\"><input class=\"sk-toggleable__control sk-hidden--visually\" id=\"sk-estimator-id-39\" type=\"checkbox\" checked><label for=\"sk-estimator-id-39\" class=\"sk-toggleable__label sk-toggleable__label-arrow\">SVC</label><div class=\"sk-toggleable__content\"><pre>SVC(kernel=&#x27;linear&#x27;)</pre></div></div></div></div></div>"
      ],
      "text/plain": [
       "SVC(kernel='linear')"
      ]
     },
     "execution_count": 202,
     "metadata": {},
     "output_type": "execute_result"
    }
   ],
   "source": [
    "from sklearn.feature_selection import SelectFromModel\n",
    "from sklearn.linear_model import LogisticRegression\n",
    "\n",
    "logit = LogisticRegression(penalty='l1', solver='liblinear')\n",
    "\n",
    "sfm = SelectFromModel(logit)\n",
    "\n",
    "X_new = sfm.fit_transform(X, y)\n",
    "\n",
    "X_train, X_test, y_train, y_test = train_test_split(X_new, y, test_size=0.2,random_state=2)\n",
    "\n",
    "svm_model_s = SVC(kernel='linear')\n",
    "\n",
    "svm_model_s.fit(X_train, y_train)"
   ]
  },
  {
   "cell_type": "code",
   "execution_count": 203,
   "id": "3c71ee0a",
   "metadata": {},
   "outputs": [],
   "source": [
    "# print(rfc.feature_importances_)"
   ]
  },
  {
   "cell_type": "code",
   "execution_count": 204,
   "id": "cac27fd5",
   "metadata": {},
   "outputs": [],
   "source": [
    "# k=int(len(rfc.feature_importances_) /2)\n",
    "# top_k_indices = rfc.feature_importances_.argsort()[-k:][::-1]\n",
    "# X_train_top_k = X_train[:, top_k_indices]\n",
    "# X_test_top_k = X_test[:,top_k_indices]"
   ]
  },
  {
   "cell_type": "code",
   "execution_count": 205,
   "id": "a0a8c81f",
   "metadata": {},
   "outputs": [],
   "source": [
    "# svm_model_s.fit(X_train_top_k, y_train)"
   ]
  },
  {
   "cell_type": "code",
   "execution_count": null,
   "id": "863f72c8",
   "metadata": {},
   "outputs": [],
   "source": []
  },
  {
   "cell_type": "code",
   "execution_count": 197,
   "id": "eb17538c",
   "metadata": {},
   "outputs": [],
   "source": [
    "# svm_model_s = SVC(kernel='linear')\n",
    "\n",
    "# X_train, X_test, y_train, y_test = train_test_split(X_new, y, test_size=0.2,random_state=2)\n",
    "\n",
    "# svm_model_s.fit(X_train, y_train)"
   ]
  },
  {
   "cell_type": "code",
   "execution_count": 206,
   "id": "0e503f41",
   "metadata": {},
   "outputs": [
    {
     "name": "stdout",
     "output_type": "stream",
     "text": [
      " Training accuracy is 91.75%\n",
      " Testing accuracy is 87.75%\n",
      "\n",
      "Accuracy is  0.8775\n"
     ]
    }
   ],
   "source": [
    "print(f' Training accuracy is {round(svm_model_s.score(X_train, y_train) * 100,2)}%')\n",
    "print(f' Testing accuracy is {round(svm_model_s.score(X_test, y_test) * 100,2)}%')\n",
    "\n",
    "print()\n",
    "y_pred = svm_model_s.predict(X_test)\n",
    "\n",
    "print(\"Accuracy is \", accuracy_score(y_test, y_pred))"
   ]
  },
  {
   "cell_type": "code",
   "execution_count": 207,
   "id": "801d11f1",
   "metadata": {},
   "outputs": [
    {
     "name": "stdout",
     "output_type": "stream",
     "text": [
      "Confusion Matrix\n",
      "[[170  48]\n",
      " [  1 181]]\n"
     ]
    }
   ],
   "source": [
    "# calculate confusion matrix\n",
    "cm = confusion_matrix(y_test, y_pred)\n",
    "print(\"Confusion Matrix\")\n",
    "print(cm)"
   ]
  },
  {
   "cell_type": "code",
   "execution_count": null,
   "id": "34bc08e4",
   "metadata": {},
   "outputs": [],
   "source": []
  },
  {
   "cell_type": "code",
   "execution_count": 64,
   "id": "b8fe2ad0",
   "metadata": {},
   "outputs": [
    {
     "name": "stdout",
     "output_type": "stream",
     "text": [
      "Bagging Accuracy: 0.905\n"
     ]
    }
   ],
   "source": [
    "# Initialize the bagging classifier with Naive Bayes as the base estimator\n",
    "bagging_svm = BaggingClassifier(base_estimator=svm_model, n_estimators=10)\n",
    "\n",
    "# Fit the bagging classifier on the training data\n",
    "bagging_svm.fit(X_train, y_train)\n",
    "\n",
    "# Make predictions on the testing data\n",
    "y_pred = bagging_svm.predict(X_test)\n",
    "\n",
    "# Calculate the accuracy of the bagging classifier\n",
    "accuracy = accuracy_score(y_test, y_pred)\n",
    "print(\"Bagging Accuracy:\", accuracy)"
   ]
  },
  {
   "cell_type": "code",
   "execution_count": 65,
   "id": "39944a6c",
   "metadata": {},
   "outputs": [
    {
     "data": {
      "image/png": "[encoded data removed]",
      "text/plain": [
       "<Figure size 432x288 with 1 Axes>"
      ]
     },
     "metadata": {
      "needs_background": "light"
     },
     "output_type": "display_data"
    }
   ],
   "source": [
    "# Vary the size of the training set\n",
    "train_sizes, train_scores, test_scores = learning_curve(bagging_svm, X, y, cv=10, train_sizes=np.linspace(0.1, 1.0, 10))\n",
    "\n",
    "# Calculate the mean and standard deviation of the training and testing scores\n",
    "train_mean = np.mean(train_scores, axis=1)\n",
    "train_std = np.std(train_scores, axis=1)\n",
    "test_mean = np.mean(test_scores, axis=1)\n",
    "test_std = np.std(test_scores, axis=1)\n",
    "\n",
    "# Plot the learning curve\n",
    "plt.plot(train_sizes, train_mean, label='Training accuracy')\n",
    "plt.fill_between(train_sizes, train_mean - train_std, train_mean + train_std, alpha=0.1)\n",
    "plt.plot(train_sizes, test_mean, label='Testing accuracy')\n",
    "plt.fill_between(train_sizes, test_mean - test_std, test_mean + test_std, alpha=0.1)\n",
    "plt.xlabel('Training set size')\n",
    "plt.ylabel('Accuracy')\n",
    "plt.legend(loc='best')\n",
    "plt.show()"
   ]
  },
  {
   "cell_type": "code",
   "execution_count": 219,
   "id": "8ae8c545",
   "metadata": {},
   "outputs": [
    {
     "data": {
      "text/html": [
       "<style>#sk-container-id-26 {color: black;background-color: white;}#sk-container-id-26 pre{padding: 0;}#sk-container-id-26 div.sk-toggleable {background-color: white;}#sk-container-id-26 label.sk-toggleable__label {cursor: pointer;display: block;width: 100%;margin-bottom: 0;padding: 0.3em;box-sizing: border-box;text-align: center;}#sk-container-id-26 label.sk-toggleable__label-arrow:before {content: \"▸\";float: left;margin-right: 0.25em;color: #696969;}#sk-container-id-26 label.sk-toggleable__label-arrow:hover:before {color: black;}#sk-container-id-26 div.sk-estimator:hover label.sk-toggleable__label-arrow:before {color: black;}#sk-container-id-26 div.sk-toggleable__content {max-height: 0;max-width: 0;overflow: hidden;text-align: left;background-color: #f0f8ff;}#sk-container-id-26 div.sk-toggleable__content pre {margin: 0.2em;color: black;border-radius: 0.25em;background-color: #f0f8ff;}#sk-container-id-26 input.sk-toggleable__control:checked~div.sk-toggleable__content {max-height: 200px;max-width: 100%;overflow: auto;}#sk-container-id-26 input.sk-toggleable__control:checked~label.sk-toggleable__label-arrow:before {content: \"▾\";}#sk-container-id-26 div.sk-estimator input.sk-toggleable__control:checked~label.sk-toggleable__label {background-color: #d4ebff;}#sk-container-id-26 div.sk-label input.sk-toggleable__control:checked~label.sk-toggleable__label {background-color: #d4ebff;}#sk-container-id-26 input.sk-hidden--visually {border: 0;clip: rect(1px 1px 1px 1px);clip: rect(1px, 1px, 1px, 1px);height: 1px;margin: -1px;overflow: hidden;padding: 0;position: absolute;width: 1px;}#sk-container-id-26 div.sk-estimator {font-family: monospace;background-color: #f0f8ff;border: 1px dotted black;border-radius: 0.25em;box-sizing: border-box;margin-bottom: 0.5em;}#sk-container-id-26 div.sk-estimator:hover {background-color: #d4ebff;}#sk-container-id-26 div.sk-parallel-item::after {content: \"\";width: 100%;border-bottom: 1px solid gray;flex-grow: 1;}#sk-container-id-26 div.sk-label:hover label.sk-toggleable__label {background-color: #d4ebff;}#sk-container-id-26 div.sk-serial::before {content: \"\";position: absolute;border-left: 1px solid gray;box-sizing: border-box;top: 0;bottom: 0;left: 50%;z-index: 0;}#sk-container-id-26 div.sk-serial {display: flex;flex-direction: column;align-items: center;background-color: white;padding-right: 0.2em;padding-left: 0.2em;position: relative;}#sk-container-id-26 div.sk-item {position: relative;z-index: 1;}#sk-container-id-26 div.sk-parallel {display: flex;align-items: stretch;justify-content: center;background-color: white;position: relative;}#sk-container-id-26 div.sk-item::before, #sk-container-id-26 div.sk-parallel-item::before {content: \"\";position: absolute;border-left: 1px solid gray;box-sizing: border-box;top: 0;bottom: 0;left: 50%;z-index: -1;}#sk-container-id-26 div.sk-parallel-item {display: flex;flex-direction: column;z-index: 1;position: relative;background-color: white;}#sk-container-id-26 div.sk-parallel-item:first-child::after {align-self: flex-end;width: 50%;}#sk-container-id-26 div.sk-parallel-item:last-child::after {align-self: flex-start;width: 50%;}#sk-container-id-26 div.sk-parallel-item:only-child::after {width: 0;}#sk-container-id-26 div.sk-dashed-wrapped {border: 1px dashed gray;margin: 0 0.4em 0.5em 0.4em;box-sizing: border-box;padding-bottom: 0.4em;background-color: white;}#sk-container-id-26 div.sk-label label {font-family: monospace;font-weight: bold;display: inline-block;line-height: 1.2em;}#sk-container-id-26 div.sk-label-container {text-align: center;}#sk-container-id-26 div.sk-container {/* jupyter's `normalize.less` sets `[hidden] { display: none; }` but bootstrap.min.css set `[hidden] { display: none !important; }` so we also need the `!important` here to be able to override the default hidden behavior on the sphinx rendered scikit-learn.org. See: https://github.com/scikit-learn/scikit-learn/issues/21755 */display: inline-block !important;position: relative;}#sk-container-id-26 div.sk-text-repr-fallback {display: none;}</style><div id=\"sk-container-id-26\" class=\"sk-top-container\"><div class=\"sk-text-repr-fallback\"><pre>SVC(kernel=&#x27;linear&#x27;)</pre><b>In a Jupyter environment, please rerun this cell to show the HTML representation or trust the notebook. <br />On GitHub, the HTML representation is unable to render, please try loading this page with nbviewer.org.</b></div><div class=\"sk-container\" hidden><div class=\"sk-item\"><div class=\"sk-estimator sk-toggleable\"><input class=\"sk-toggleable__control sk-hidden--visually\" id=\"sk-estimator-id-26\" type=\"checkbox\" checked><label for=\"sk-estimator-id-26\" class=\"sk-toggleable__label sk-toggleable__label-arrow\">SVC</label><div class=\"sk-toggleable__content\"><pre>SVC(kernel=&#x27;linear&#x27;)</pre></div></div></div></div></div>"
      ],
      "text/plain": [
       "SVC(kernel='linear')"
      ]
     },
     "execution_count": 219,
     "metadata": {},
     "output_type": "execute_result"
    }
   ],
   "source": [
    "from sklearn.decomposition import TruncatedSVD\n",
    "\n",
    "# Feature selection using PCA\n",
    "pca = TruncatedSVD(n_components=5)\n",
    "X_new = pca.fit_transform(X)\n",
    "\n",
    "X_train, X_test, y_train, y_test = train_test_split(X_new, y, test_size=0.2,random_state=6)\n",
    "\n",
    "svm_model = SVC(kernel='linear')\n",
    "\n",
    "svm_model.fit(X_train, y_train)"
   ]
  },
  {
   "cell_type": "code",
   "execution_count": 220,
   "id": "83f566bd",
   "metadata": {},
   "outputs": [
    {
     "name": "stdout",
     "output_type": "stream",
     "text": [
      "Training accuracy is 86.19%\n",
      "Testing accuracy is 86.5%\n",
      "\n",
      "Accuracy is 0.865\n"
     ]
    }
   ],
   "source": [
    "print(f'Training accuracy is {round(svm_model.score(X_train, y_train) * 100,2)}%')\n",
    "print(f'Testing accuracy is {round(svm_model.score(X_test, y_test) * 100,2)}%')\n",
    "\n",
    "# Make predictions on the testing data\n",
    "y_pred = svm_model.predict(X_test)\n",
    "\n",
    "# Calculate the accuracy of the bagging classifier\n",
    "accuracy = accuracy_score(y_test, y_pred)\n",
    "\n",
    "print()\n",
    "print(f'Accuracy is {accuracy}')"
   ]
  },
  {
   "cell_type": "code",
   "execution_count": 221,
   "id": "93ebb245",
   "metadata": {},
   "outputs": [
    {
     "data": {
      "image/png": "[encoded data removed]",
      "text/plain": [
       "<Figure size 432x288 with 1 Axes>"
      ]
     },
     "metadata": {
      "needs_background": "light"
     },
     "output_type": "display_data"
    }
   ],
   "source": [
    "# Vary the size of the training set\n",
    "train_sizes, train_scores, test_scores = learning_curve(svm_model, X_new, y, cv=10, train_sizes=np.linspace(0.1, 1.0, 10))\n",
    "\n",
    "# Calculate the mean and standard deviation of the training and testing scores\n",
    "train_mean = np.mean(train_scores, axis=1)\n",
    "train_std = np.std(train_scores, axis=1)\n",
    "test_mean = np.mean(test_scores, axis=1)\n",
    "test_std = np.std(test_scores, axis=1)\n",
    "\n",
    "# Plot the learning curve\n",
    "plt.plot(train_sizes, train_mean, label='Training accuracy')\n",
    "plt.fill_between(train_sizes, train_mean - train_std, train_mean + train_std, alpha=0.1)\n",
    "plt.plot(train_sizes, test_mean, label='Testing accuracy')\n",
    "plt.fill_between(train_sizes, test_mean - test_std, test_mean + test_std, alpha=0.1)\n",
    "plt.xlabel('Training set size')\n",
    "plt.ylabel('Accuracy')\n",
    "plt.legend(loc='best')\n",
    "plt.show()"
   ]
  },
  {
   "cell_type": "code",
   "execution_count": 222,
   "id": "41f2ce9a",
   "metadata": {},
   "outputs": [
    {
     "name": "stdout",
     "output_type": "stream",
     "text": [
      "Confusion Matrix\n",
      "[[172  44]\n",
      " [ 10 174]]\n"
     ]
    }
   ],
   "source": [
    "# calculate confusion matrix\n",
    "cm = confusion_matrix(y_test, y_pred)\n",
    "print(\"Confusion Matrix\")\n",
    "print(cm)"
   ]
  },
  {
   "cell_type": "code",
   "execution_count": 223,
   "id": "a9036a9c",
   "metadata": {},
   "outputs": [
    {
     "name": "stdout",
     "output_type": "stream",
     "text": [
      "Classfication Report \n",
      "              precision    recall  f1-score   support\n",
      "\n",
      "           0       0.95      0.80      0.86       216\n",
      "           1       0.80      0.95      0.87       184\n",
      "\n",
      "    accuracy                           0.86       400\n",
      "   macro avg       0.87      0.87      0.86       400\n",
      "weighted avg       0.88      0.86      0.86       400\n",
      "\n"
     ]
    }
   ],
   "source": [
    "# Calculate precision, recall, and F1-score\n",
    "report = classification_report(y_test, y_pred.astype(int))\n",
    "print(\"Classfication Report \")\n",
    "print(report)"
   ]
  },
  {
   "cell_type": "code",
   "execution_count": 224,
   "id": "cd62499a",
   "metadata": {},
   "outputs": [
    {
     "name": "stdout",
     "output_type": "stream",
     "text": [
      "4.662822769030264\n"
     ]
    }
   ],
   "source": [
    "epsilon = 1e-15 # a very small number\n",
    "y_pred = np.clip(y_pred, epsilon, 1 - epsilon)\n",
    "y_pred = y_pred.astype(float) # convert to float type\n",
    "loss = -1 * (y_test * np.log(y_pred) + (1 - y_test) * np.log(1 - y_pred))\n",
    "avg_loss = np.mean(loss)\n",
    "print(avg_loss)"
   ]
  },
  {
   "cell_type": "markdown",
   "id": "5e6718f7",
   "metadata": {},
   "source": [
    "#### CNN"
   ]
  },
  {
   "cell_type": "code",
   "execution_count": 225,
   "id": "f271ec2e",
   "metadata": {},
   "outputs": [],
   "source": [
    "from keras.models import Sequential\n",
    "from keras.layers import Conv1D, GlobalMaxPooling1D, Dense, Dropout,MaxPool1D, Flatten\n",
    "from sklearn.model_selection import GridSearchCV\n",
    "from keras.wrappers.scikit_learn import KerasClassifier\n",
    "from keras.regularizers import l2"
   ]
  },
  {
   "cell_type": "code",
   "execution_count": 226,
   "id": "31d4e64a",
   "metadata": {},
   "outputs": [],
   "source": [
    "def create_cnn_model(max_features):\n",
    "    model = Sequential()\n",
    "#     model.add(Conv1D(filters=128, kernel_size=5, activation='relu',input_shape=(max_features,1)))\n",
    "#     model.add(GlobalMaxPooling1D())\n",
    "#     model.add(Dense(64, activation='relu'))\n",
    "#     model.add(Dropout(0.2))\n",
    "#     model.add(Dense(1, activation='sigmoid'))\n",
    "\n",
    "    model.add(Conv1D(256, 3, activation='relu', padding='same', input_shape=(max_features,1), kernel_regularizer=l2(0.01)))\n",
    "    model.add(MaxPool1D(2))\n",
    "    model.add(Dropout(0.2))\n",
    "    model.add(Conv1D(128, 3, activation='relu', padding='same'))\n",
    "    model.add(MaxPool1D(2))\n",
    "    model.add(Dropout(0.2))\n",
    "    model.add(Flatten())\n",
    "    model.add(Dense(250, activation='relu'))\n",
    "\n",
    "    model.add(Dense(1, activation='sigmoid'))\n",
    "\n",
    "    model.compile(optimizer='adam', loss='binary_crossentropy', metrics=[\"accuracy\"])\n",
    "    \n",
    "    model.summary()\n",
    "    \n",
    "    return model"
   ]
  },
  {
   "cell_type": "code",
   "execution_count": 227,
   "id": "d6f6a8bd",
   "metadata": {},
   "outputs": [
    {
     "name": "stdout",
     "output_type": "stream",
     "text": [
      "(2000,)\n",
      "(2000, 2990)\n"
     ]
    }
   ],
   "source": [
    "temp_X = df.clean_post +\" \"+ df.clean_emoji_text\n",
    "\n",
    "# max_len = len(set(\" \".join(X).split()))\n",
    "# max_features = 1000\n",
    "\n",
    "# TFIDF vectorizer\n",
    "\n",
    "vectorizer = TfidfVectorizer(use_idf=True, lowercase=True,\n",
    "                            strip_accents='ascii', stop_words=stop_words)\n",
    "\n",
    "y = df.sentiment\n",
    "\n",
    "X = vectorizer.fit_transform(df.clean_post +\" \"+ df.clean_emoji_text)\n",
    "\n",
    "print(y.shape)\n",
    "print(X.shape)"
   ]
  },
  {
   "cell_type": "code",
   "execution_count": 228,
   "id": "185bf5ff",
   "metadata": {},
   "outputs": [
    {
     "name": "stdout",
     "output_type": "stream",
     "text": [
      "Model: \"sequential_5\"\n",
      "_________________________________________________________________\n",
      " Layer (type)                Output Shape              Param #   \n",
      "=================================================================\n",
      " conv1d_10 (Conv1D)          (None, 2990, 256)         1024      \n",
      "                                                                 \n",
      " max_pooling1d_10 (MaxPoolin  (None, 1495, 256)        0         \n",
      " g1D)                                                            \n",
      "                                                                 \n",
      " dropout_10 (Dropout)        (None, 1495, 256)         0         \n",
      "                                                                 \n",
      " conv1d_11 (Conv1D)          (None, 1495, 128)         98432     \n",
      "                                                                 \n",
      " max_pooling1d_11 (MaxPoolin  (None, 747, 128)         0         \n",
      " g1D)                                                            \n",
      "                                                                 \n",
      " dropout_11 (Dropout)        (None, 747, 128)          0         \n",
      "                                                                 \n",
      " flatten_5 (Flatten)         (None, 95616)             0         \n",
      "                                                                 \n",
      " dense_10 (Dense)            (None, 250)               23904250  \n",
      "                                                                 \n",
      " dense_11 (Dense)            (None, 1)                 251       \n",
      "                                                                 \n",
      "=================================================================\n",
      "Total params: 24,003,957\n",
      "Trainable params: 24,003,957\n",
      "Non-trainable params: 0\n",
      "_________________________________________________________________\n",
      "Epoch 1/10\n",
      "13/13 [==============================] - 49s 4s/step - loss: 0.5485 - accuracy: 0.7250\n",
      "Epoch 2/10\n",
      "13/13 [==============================] - 47s 4s/step - loss: 0.2313 - accuracy: 0.9100\n",
      "Epoch 3/10\n",
      "13/13 [==============================] - 46s 3s/step - loss: 0.1256 - accuracy: 0.9606\n",
      "Epoch 4/10\n",
      "13/13 [==============================] - 45s 3s/step - loss: 0.0726 - accuracy: 0.9812\n",
      "Epoch 5/10\n",
      "13/13 [==============================] - 53s 4s/step - loss: 0.0488 - accuracy: 0.9887\n",
      "Epoch 6/10\n",
      "13/13 [==============================] - 53s 4s/step - loss: 0.0386 - accuracy: 0.9937\n",
      "Epoch 7/10\n",
      "13/13 [==============================] - 55s 4s/step - loss: 0.0340 - accuracy: 0.9906\n",
      "Epoch 8/10\n",
      "13/13 [==============================] - 49s 4s/step - loss: 0.0287 - accuracy: 0.9950\n",
      "Epoch 9/10\n",
      "13/13 [==============================] - 49s 4s/step - loss: 0.0256 - accuracy: 0.9944\n",
      "Epoch 10/10\n",
      "13/13 [==============================] - 49s 4s/step - loss: 0.0247 - accuracy: 0.9950\n"
     ]
    },
    {
     "data": {
      "text/plain": [
       "<keras.callbacks.History at 0x23b464dc940>"
      ]
     },
     "execution_count": 228,
     "metadata": {},
     "output_type": "execute_result"
    }
   ],
   "source": [
    "from scipy.sparse import csr_matrix\n",
    "\n",
    "# Feature selection using PCA\n",
    "# pca = TruncatedSVD(n_components=max_features)\n",
    "# X_new = pca.fit_transform(X)\n",
    "\n",
    "# X_new = csr_matrix(X_new)\n",
    "\n",
    "X_train, X_test, y_train, y_test = train_test_split(X.toarray(), y, test_size=0.2,random_state=6)\n",
    "\n",
    "\n",
    "# reshape the input data\n",
    "X_train = np.reshape(X_train, (X_train.shape[0], X_train.shape[1], 1))\n",
    "X_test = np.reshape(X_test, (X_test.shape[0], X_test.shape[1], 1))\n",
    "\n",
    "\n",
    "cnn_model = create_cnn_model(X.shape[1])\n",
    "\n",
    "cnn_model.fit(X_train, y_train, epochs=10, batch_size=128)\n"
   ]
  },
  {
   "cell_type": "code",
   "execution_count": 229,
   "id": "3e1c3676",
   "metadata": {},
   "outputs": [
    {
     "name": "stdout",
     "output_type": "stream",
     "text": [
      "Test accuracy: 0.9125000238418579 and Loss : 0.3865605890750885\n",
      "Train accuracy: 0.9962499737739563 and Loss : 0.022025613114237785\n"
     ]
    }
   ],
   "source": [
    "loss, accuracy = cnn_model.evaluate(X_test, y_test, verbose=0)\n",
    "print(f'Test accuracy: {accuracy} and Loss : {loss}')\n",
    "\n",
    "loss, accuracy = cnn_model.evaluate(X_train, y_train, verbose=0)\n",
    "print(f'Train accuracy: {accuracy} and Loss : {loss}')"
   ]
  },
  {
   "cell_type": "code",
   "execution_count": 230,
   "id": "46be3d27",
   "metadata": {},
   "outputs": [
    {
     "name": "stdout",
     "output_type": "stream",
     "text": [
      "Classfication Report \n",
      "              precision    recall  f1-score   support\n",
      "\n",
      "           0       0.90      0.94      0.92       216\n",
      "           1       0.93      0.88      0.90       184\n",
      "\n",
      "    accuracy                           0.91       400\n",
      "   macro avg       0.91      0.91      0.91       400\n",
      "weighted avg       0.91      0.91      0.91       400\n",
      "\n"
     ]
    }
   ],
   "source": [
    "from sklearn.metrics import classification_report\n",
    "from sklearn.metrics import confusion_matrix\n",
    "\n",
    "# Make predictions on test data\n",
    "y_pred = cnn_model.predict(X_test)\n",
    "\n",
    "# Convert predictions to binary class labels\n",
    "y_pred = (y_pred > 0.5)\n",
    "\n",
    "# Calculate precision, recall, and F1-score\n",
    "report = classification_report(y_test, y_pred.astype(int))\n",
    "print(\"Classfication Report \")\n",
    "print(report)\n"
   ]
  },
  {
   "cell_type": "code",
   "execution_count": 231,
   "id": "76fb2e57",
   "metadata": {},
   "outputs": [
    {
     "name": "stdout",
     "output_type": "stream",
     "text": [
      "Confusion Matrix\n",
      "[[203  13]\n",
      " [ 22 162]]\n"
     ]
    }
   ],
   "source": [
    "# calculate confusion matrix\n",
    "cm = confusion_matrix(y_test, y_pred)\n",
    "print(\"Confusion Matrix\")\n",
    "print(cm)"
   ]
  },
  {
   "cell_type": "markdown",
   "id": "a7ed17a2",
   "metadata": {},
   "source": [
    "The confusion matrix shows that the model correctly classified 197 instances of the first class (usually represented as a negative class) and 163 instances of the second class (usually represented as a positive class). It misclassified 19 instances of the first class as the second class (false positives) and 21 instances of the second class as the first class (false negatives)."
   ]
  },
  {
   "cell_type": "code",
   "execution_count": 232,
   "id": "2b39a226",
   "metadata": {},
   "outputs": [
    {
     "ename": "ValueError",
     "evalue": "Data must be 1-dimensional",
     "output_type": "error",
     "traceback": [
      "\u001b[1;31m---------------------------------------------------------------------------\u001b[0m",
      "\u001b[1;31mValueError\u001b[0m                                Traceback (most recent call last)",
      "Input \u001b[1;32mIn [232]\u001b[0m, in \u001b[0;36m<cell line: 4>\u001b[1;34m()\u001b[0m\n\u001b[0;32m      2\u001b[0m y_pred \u001b[38;5;241m=\u001b[39m np\u001b[38;5;241m.\u001b[39mclip(y_pred, epsilon, \u001b[38;5;241m1\u001b[39m \u001b[38;5;241m-\u001b[39m epsilon)\n\u001b[0;32m      3\u001b[0m y_pred \u001b[38;5;241m=\u001b[39m y_pred\u001b[38;5;241m.\u001b[39mastype(\u001b[38;5;28mfloat\u001b[39m) \u001b[38;5;66;03m# convert to float type\u001b[39;00m\n\u001b[1;32m----> 4\u001b[0m loss \u001b[38;5;241m=\u001b[39m \u001b[38;5;241m-\u001b[39m\u001b[38;5;241m1\u001b[39m \u001b[38;5;241m*\u001b[39m (\u001b[43my_test\u001b[49m\u001b[43m \u001b[49m\u001b[38;5;241;43m*\u001b[39;49m\u001b[43m \u001b[49m\u001b[43mnp\u001b[49m\u001b[38;5;241;43m.\u001b[39;49m\u001b[43mlog\u001b[49m\u001b[43m(\u001b[49m\u001b[43my_pred\u001b[49m\u001b[43m)\u001b[49m \u001b[38;5;241m+\u001b[39m (\u001b[38;5;241m1\u001b[39m \u001b[38;5;241m-\u001b[39m y_test) \u001b[38;5;241m*\u001b[39m np\u001b[38;5;241m.\u001b[39mlog(\u001b[38;5;241m1\u001b[39m \u001b[38;5;241m-\u001b[39m y_pred))\n\u001b[0;32m      5\u001b[0m avg_loss \u001b[38;5;241m=\u001b[39m np\u001b[38;5;241m.\u001b[39mmean(loss)\n\u001b[0;32m      6\u001b[0m \u001b[38;5;28mprint\u001b[39m(avg_loss)\n",
      "File \u001b[1;32m~\\AppData\\Local\\Programs\\Python\\Python310\\lib\\site-packages\\pandas\\core\\ops\\common.py:70\u001b[0m, in \u001b[0;36m_unpack_zerodim_and_defer.<locals>.new_method\u001b[1;34m(self, other)\u001b[0m\n\u001b[0;32m     66\u001b[0m             \u001b[38;5;28;01mreturn\u001b[39;00m \u001b[38;5;28mNotImplemented\u001b[39m\n\u001b[0;32m     68\u001b[0m other \u001b[38;5;241m=\u001b[39m item_from_zerodim(other)\n\u001b[1;32m---> 70\u001b[0m \u001b[38;5;28;01mreturn\u001b[39;00m \u001b[43mmethod\u001b[49m\u001b[43m(\u001b[49m\u001b[38;5;28;43mself\u001b[39;49m\u001b[43m,\u001b[49m\u001b[43m \u001b[49m\u001b[43mother\u001b[49m\u001b[43m)\u001b[49m\n",
      "File \u001b[1;32m~\\AppData\\Local\\Programs\\Python\\Python310\\lib\\site-packages\\pandas\\core\\arraylike.py:116\u001b[0m, in \u001b[0;36mOpsMixin.__mul__\u001b[1;34m(self, other)\u001b[0m\n\u001b[0;32m    114\u001b[0m \u001b[38;5;129m@unpack_zerodim_and_defer\u001b[39m(\u001b[38;5;124m\"\u001b[39m\u001b[38;5;124m__mul__\u001b[39m\u001b[38;5;124m\"\u001b[39m)\n\u001b[0;32m    115\u001b[0m \u001b[38;5;28;01mdef\u001b[39;00m \u001b[38;5;21m__mul__\u001b[39m(\u001b[38;5;28mself\u001b[39m, other):\n\u001b[1;32m--> 116\u001b[0m     \u001b[38;5;28;01mreturn\u001b[39;00m \u001b[38;5;28;43mself\u001b[39;49m\u001b[38;5;241;43m.\u001b[39;49m\u001b[43m_arith_method\u001b[49m\u001b[43m(\u001b[49m\u001b[43mother\u001b[49m\u001b[43m,\u001b[49m\u001b[43m \u001b[49m\u001b[43moperator\u001b[49m\u001b[38;5;241;43m.\u001b[39;49m\u001b[43mmul\u001b[49m\u001b[43m)\u001b[49m\n",
      "File \u001b[1;32m~\\AppData\\Local\\Programs\\Python\\Python310\\lib\\site-packages\\pandas\\core\\series.py:5639\u001b[0m, in \u001b[0;36mSeries._arith_method\u001b[1;34m(self, other, op)\u001b[0m\n\u001b[0;32m   5637\u001b[0m \u001b[38;5;28;01mdef\u001b[39;00m \u001b[38;5;21m_arith_method\u001b[39m(\u001b[38;5;28mself\u001b[39m, other, op):\n\u001b[0;32m   5638\u001b[0m     \u001b[38;5;28mself\u001b[39m, other \u001b[38;5;241m=\u001b[39m ops\u001b[38;5;241m.\u001b[39malign_method_SERIES(\u001b[38;5;28mself\u001b[39m, other)\n\u001b[1;32m-> 5639\u001b[0m     \u001b[38;5;28;01mreturn\u001b[39;00m \u001b[43mbase\u001b[49m\u001b[38;5;241;43m.\u001b[39;49m\u001b[43mIndexOpsMixin\u001b[49m\u001b[38;5;241;43m.\u001b[39;49m\u001b[43m_arith_method\u001b[49m\u001b[43m(\u001b[49m\u001b[38;5;28;43mself\u001b[39;49m\u001b[43m,\u001b[49m\u001b[43m \u001b[49m\u001b[43mother\u001b[49m\u001b[43m,\u001b[49m\u001b[43m \u001b[49m\u001b[43mop\u001b[49m\u001b[43m)\u001b[49m\n",
      "File \u001b[1;32m~\\AppData\\Local\\Programs\\Python\\Python310\\lib\\site-packages\\pandas\\core\\base.py:1297\u001b[0m, in \u001b[0;36mIndexOpsMixin._arith_method\u001b[1;34m(self, other, op)\u001b[0m\n\u001b[0;32m   1294\u001b[0m \u001b[38;5;28;01mwith\u001b[39;00m np\u001b[38;5;241m.\u001b[39merrstate(\u001b[38;5;28mall\u001b[39m\u001b[38;5;241m=\u001b[39m\u001b[38;5;124m\"\u001b[39m\u001b[38;5;124mignore\u001b[39m\u001b[38;5;124m\"\u001b[39m):\n\u001b[0;32m   1295\u001b[0m     result \u001b[38;5;241m=\u001b[39m ops\u001b[38;5;241m.\u001b[39marithmetic_op(lvalues, rvalues, op)\n\u001b[1;32m-> 1297\u001b[0m \u001b[38;5;28;01mreturn\u001b[39;00m \u001b[38;5;28;43mself\u001b[39;49m\u001b[38;5;241;43m.\u001b[39;49m\u001b[43m_construct_result\u001b[49m\u001b[43m(\u001b[49m\u001b[43mresult\u001b[49m\u001b[43m,\u001b[49m\u001b[43m \u001b[49m\u001b[43mname\u001b[49m\u001b[38;5;241;43m=\u001b[39;49m\u001b[43mres_name\u001b[49m\u001b[43m)\u001b[49m\n",
      "File \u001b[1;32m~\\AppData\\Local\\Programs\\Python\\Python310\\lib\\site-packages\\pandas\\core\\series.py:3017\u001b[0m, in \u001b[0;36mSeries._construct_result\u001b[1;34m(self, result, name)\u001b[0m\n\u001b[0;32m   3013\u001b[0m     \u001b[38;5;28;01mreturn\u001b[39;00m (res1, res2)\n\u001b[0;32m   3015\u001b[0m \u001b[38;5;66;03m# We do not pass dtype to ensure that the Series constructor\u001b[39;00m\n\u001b[0;32m   3016\u001b[0m \u001b[38;5;66;03m#  does inference in the case where `result` has object-dtype.\u001b[39;00m\n\u001b[1;32m-> 3017\u001b[0m out \u001b[38;5;241m=\u001b[39m \u001b[38;5;28;43mself\u001b[39;49m\u001b[38;5;241;43m.\u001b[39;49m\u001b[43m_constructor\u001b[49m\u001b[43m(\u001b[49m\u001b[43mresult\u001b[49m\u001b[43m,\u001b[49m\u001b[43m \u001b[49m\u001b[43mindex\u001b[49m\u001b[38;5;241;43m=\u001b[39;49m\u001b[38;5;28;43mself\u001b[39;49m\u001b[38;5;241;43m.\u001b[39;49m\u001b[43mindex\u001b[49m\u001b[43m)\u001b[49m\n\u001b[0;32m   3018\u001b[0m out \u001b[38;5;241m=\u001b[39m out\u001b[38;5;241m.\u001b[39m__finalize__(\u001b[38;5;28mself\u001b[39m)\n\u001b[0;32m   3020\u001b[0m \u001b[38;5;66;03m# Set the result's name after __finalize__ is called because __finalize__\u001b[39;00m\n\u001b[0;32m   3021\u001b[0m \u001b[38;5;66;03m#  would set it back to self.name\u001b[39;00m\n",
      "File \u001b[1;32m~\\AppData\\Local\\Programs\\Python\\Python310\\lib\\site-packages\\pandas\\core\\series.py:451\u001b[0m, in \u001b[0;36mSeries.__init__\u001b[1;34m(self, data, index, dtype, name, copy, fastpath)\u001b[0m\n\u001b[0;32m    449\u001b[0m         data \u001b[38;5;241m=\u001b[39m data\u001b[38;5;241m.\u001b[39mcopy()\n\u001b[0;32m    450\u001b[0m \u001b[38;5;28;01melse\u001b[39;00m:\n\u001b[1;32m--> 451\u001b[0m     data \u001b[38;5;241m=\u001b[39m \u001b[43msanitize_array\u001b[49m\u001b[43m(\u001b[49m\u001b[43mdata\u001b[49m\u001b[43m,\u001b[49m\u001b[43m \u001b[49m\u001b[43mindex\u001b[49m\u001b[43m,\u001b[49m\u001b[43m \u001b[49m\u001b[43mdtype\u001b[49m\u001b[43m,\u001b[49m\u001b[43m \u001b[49m\u001b[43mcopy\u001b[49m\u001b[43m)\u001b[49m\n\u001b[0;32m    453\u001b[0m     manager \u001b[38;5;241m=\u001b[39m get_option(\u001b[38;5;124m\"\u001b[39m\u001b[38;5;124mmode.data_manager\u001b[39m\u001b[38;5;124m\"\u001b[39m)\n\u001b[0;32m    454\u001b[0m     \u001b[38;5;28;01mif\u001b[39;00m manager \u001b[38;5;241m==\u001b[39m \u001b[38;5;124m\"\u001b[39m\u001b[38;5;124mblock\u001b[39m\u001b[38;5;124m\"\u001b[39m:\n",
      "File \u001b[1;32m~\\AppData\\Local\\Programs\\Python\\Python310\\lib\\site-packages\\pandas\\core\\construction.py:598\u001b[0m, in \u001b[0;36msanitize_array\u001b[1;34m(data, index, dtype, copy, raise_cast_failure, allow_2d)\u001b[0m\n\u001b[0;32m    595\u001b[0m             subarr \u001b[38;5;241m=\u001b[39m cast(np\u001b[38;5;241m.\u001b[39mndarray, subarr)\n\u001b[0;32m    596\u001b[0m             subarr \u001b[38;5;241m=\u001b[39m maybe_infer_to_datetimelike(subarr)\n\u001b[1;32m--> 598\u001b[0m subarr \u001b[38;5;241m=\u001b[39m \u001b[43m_sanitize_ndim\u001b[49m\u001b[43m(\u001b[49m\u001b[43msubarr\u001b[49m\u001b[43m,\u001b[49m\u001b[43m \u001b[49m\u001b[43mdata\u001b[49m\u001b[43m,\u001b[49m\u001b[43m \u001b[49m\u001b[43mdtype\u001b[49m\u001b[43m,\u001b[49m\u001b[43m \u001b[49m\u001b[43mindex\u001b[49m\u001b[43m,\u001b[49m\u001b[43m \u001b[49m\u001b[43mallow_2d\u001b[49m\u001b[38;5;241;43m=\u001b[39;49m\u001b[43mallow_2d\u001b[49m\u001b[43m)\u001b[49m\n\u001b[0;32m    600\u001b[0m \u001b[38;5;28;01mif\u001b[39;00m \u001b[38;5;28misinstance\u001b[39m(subarr, np\u001b[38;5;241m.\u001b[39mndarray):\n\u001b[0;32m    601\u001b[0m     \u001b[38;5;66;03m# at this point we should have dtype be None or subarr.dtype == dtype\u001b[39;00m\n\u001b[0;32m    602\u001b[0m     dtype \u001b[38;5;241m=\u001b[39m cast(np\u001b[38;5;241m.\u001b[39mdtype, dtype)\n",
      "File \u001b[1;32m~\\AppData\\Local\\Programs\\Python\\Python310\\lib\\site-packages\\pandas\\core\\construction.py:649\u001b[0m, in \u001b[0;36m_sanitize_ndim\u001b[1;34m(result, data, dtype, index, allow_2d)\u001b[0m\n\u001b[0;32m    647\u001b[0m     \u001b[38;5;28;01mif\u001b[39;00m allow_2d:\n\u001b[0;32m    648\u001b[0m         \u001b[38;5;28;01mreturn\u001b[39;00m result\n\u001b[1;32m--> 649\u001b[0m     \u001b[38;5;28;01mraise\u001b[39;00m \u001b[38;5;167;01mValueError\u001b[39;00m(\u001b[38;5;124m\"\u001b[39m\u001b[38;5;124mData must be 1-dimensional\u001b[39m\u001b[38;5;124m\"\u001b[39m)\n\u001b[0;32m    650\u001b[0m \u001b[38;5;28;01mif\u001b[39;00m is_object_dtype(dtype) \u001b[38;5;129;01mand\u001b[39;00m \u001b[38;5;28misinstance\u001b[39m(dtype, ExtensionDtype):\n\u001b[0;32m    651\u001b[0m     \u001b[38;5;66;03m# i.e. PandasDtype(\"O\")\u001b[39;00m\n\u001b[0;32m    653\u001b[0m     result \u001b[38;5;241m=\u001b[39m com\u001b[38;5;241m.\u001b[39masarray_tuplesafe(data, dtype\u001b[38;5;241m=\u001b[39mnp\u001b[38;5;241m.\u001b[39mdtype(\u001b[38;5;124m\"\u001b[39m\u001b[38;5;124mobject\u001b[39m\u001b[38;5;124m\"\u001b[39m))\n",
      "\u001b[1;31mValueError\u001b[0m: Data must be 1-dimensional"
     ]
    }
   ],
   "source": [
    "epsilon = 1e-15 # a very small number\n",
    "y_pred = np.clip(y_pred, epsilon, 1 - epsilon)\n",
    "y_pred = y_pred.astype(float) # convert to float type\n",
    "loss = -1 * (y_test * np.log(y_pred) + (1 - y_test) * np.log(1 - y_pred))\n",
    "avg_loss = np.mean(loss)\n",
    "print(avg_loss)"
   ]
  },
  {
   "cell_type": "code",
   "execution_count": 116,
   "id": "a6dfc028",
   "metadata": {},
   "outputs": [
    {
     "data": {
      "image/png": "[encoded data removed]",
      "text/plain": [
       "<Figure size 432x288 with 1 Axes>"
      ]
     },
     "metadata": {
      "needs_background": "light"
     },
     "output_type": "display_data"
    }
   ],
   "source": [
    "from sklearn.metrics import roc_curve, auc\n",
    "\n",
    "# calculate false positive rate, true positive rate, and threshold\n",
    "fpr, tpr, threshold = roc_curve(y_test, y_pred)\n",
    "\n",
    "# calculate AUC\n",
    "roc_auc = auc(fpr, tpr)\n",
    "\n",
    "# plot ROC curve\n",
    "import matplotlib.pyplot as plt\n",
    "plt.title('ROC Curve')\n",
    "plt.plot(fpr, tpr, 'b', label = 'AUC = %0.2f' % roc_auc)\n",
    "plt.legend(loc = 'lower right')\n",
    "plt.plot([0, 1], [0, 1],'r--')\n",
    "plt.xlim([0, 1])\n",
    "plt.ylim([0, 1])\n",
    "plt.ylabel('True Positive Rate')\n",
    "plt.xlabel('False Positive Rate')\n",
    "plt.show()"
   ]
  },
  {
   "cell_type": "code",
   "execution_count": 117,
   "id": "c6bd727e",
   "metadata": {},
   "outputs": [
    {
     "name": "stdout",
     "output_type": "stream",
     "text": [
      "Model: \"sequential_1\"\n",
      "_________________________________________________________________\n",
      " Layer (type)                Output Shape              Param #   \n",
      "=================================================================\n",
      " conv1d_2 (Conv1D)           (None, 1000, 256)         1024      \n",
      "                                                                 \n",
      " max_pooling1d_2 (MaxPooling  (None, 500, 256)         0         \n",
      " 1D)                                                             \n",
      "                                                                 \n",
      " dropout_2 (Dropout)         (None, 500, 256)          0         \n",
      "                                                                 \n",
      " conv1d_3 (Conv1D)           (None, 500, 128)          98432     \n",
      "                                                                 \n",
      " max_pooling1d_3 (MaxPooling  (None, 250, 128)         0         \n",
      " 1D)                                                             \n",
      "                                                                 \n",
      " dropout_3 (Dropout)         (None, 250, 128)          0         \n",
      "                                                                 \n",
      " flatten_1 (Flatten)         (None, 32000)             0         \n",
      "                                                                 \n",
      " dense_2 (Dense)             (None, 250)               8000250   \n",
      "                                                                 \n",
      " dense_3 (Dense)             (None, 1)                 251       \n",
      "                                                                 \n",
      "=================================================================\n",
      "Total params: 8,099,957\n",
      "Trainable params: 8,099,957\n",
      "Non-trainable params: 0\n",
      "_________________________________________________________________\n",
      "Epoch 1/10\n",
      "13/13 [==============================] - 16s 1s/step - loss: 0.5350 - accuracy: 0.7456\n",
      "Epoch 2/10\n",
      "13/13 [==============================] - 15s 1s/step - loss: 0.2682 - accuracy: 0.8863\n",
      "Epoch 3/10\n",
      "13/13 [==============================] - 15s 1s/step - loss: 0.1833 - accuracy: 0.9237\n",
      "Epoch 4/10\n",
      "13/13 [==============================] - 15s 1s/step - loss: 0.1311 - accuracy: 0.9456\n",
      "Epoch 5/10\n",
      "13/13 [==============================] - 15s 1s/step - loss: 0.1013 - accuracy: 0.9619\n",
      "Epoch 6/10\n",
      "13/13 [==============================] - 15s 1s/step - loss: 0.0845 - accuracy: 0.9712\n",
      "Epoch 7/10\n",
      "13/13 [==============================] - 15s 1s/step - loss: 0.0673 - accuracy: 0.9781\n",
      "Epoch 8/10\n",
      "13/13 [==============================] - 14s 1s/step - loss: 0.0678 - accuracy: 0.9781\n",
      "Epoch 9/10\n",
      "13/13 [==============================] - 15s 1s/step - loss: 0.0587 - accuracy: 0.9775\n",
      "Epoch 10/10\n",
      "13/13 [==============================] - 16s 1s/step - loss: 0.0540 - accuracy: 0.9837\n"
     ]
    },
    {
     "data": {
      "text/plain": [
       "<keras.callbacks.History at 0x23b41a83d00>"
      ]
     },
     "execution_count": 117,
     "metadata": {},
     "output_type": "execute_result"
    }
   ],
   "source": [
    "from scipy.sparse import csr_matrix\n",
    "\n",
    "# Feature selection using PCA\n",
    "pca = TruncatedSVD(n_components=max_features)\n",
    "X_new = pca.fit_transform(X)\n",
    "\n",
    "X_new = csr_matrix(X_new)\n",
    "\n",
    "X_train, X_test, y_train, y_test = train_test_split(X.toarray(), y, test_size=0.2,random_state=6)\n",
    "\n",
    "\n",
    "# reshape the input data\n",
    "X_train = np.reshape(X_train, (X_train.shape[0], X_train.shape[1], 1))\n",
    "X_test = np.reshape(X_test, (X_test.shape[0], X_test.shape[1], 1))\n",
    "\n",
    "\n",
    "cnn_model = create_cnn_model(max_features)\n",
    "\n",
    "cnn_model.fit(X_train, y_train, epochs=10, batch_size=128)"
   ]
  },
  {
   "cell_type": "code",
   "execution_count": 118,
   "id": "0544043c",
   "metadata": {},
   "outputs": [
    {
     "name": "stdout",
     "output_type": "stream",
     "text": [
      "Test accuracy: 0.9049999713897705 and Loss : 0.3774769902229309\n",
      "Train accuracy: 0.9850000143051147 and Loss : 0.0465228408575058\n"
     ]
    }
   ],
   "source": [
    "loss, accuracy = cnn_model.evaluate(X_test, y_test, verbose=0)\n",
    "print(f'Test accuracy: {accuracy} and Loss : {loss}')\n",
    "\n",
    "loss, accuracy = cnn_model.evaluate(X_train, y_train, verbose=0)\n",
    "print(f'Train accuracy: {accuracy} and Loss : {loss}')"
   ]
  },
  {
   "cell_type": "code",
   "execution_count": 119,
   "id": "5eec69f2",
   "metadata": {},
   "outputs": [
    {
     "name": "stdout",
     "output_type": "stream",
     "text": [
      "Classfication Report \n",
      "              precision    recall  f1-score   support\n",
      "\n",
      "           0       0.89      0.94      0.91       216\n",
      "           1       0.92      0.87      0.89       184\n",
      "\n",
      "    accuracy                           0.91       400\n",
      "   macro avg       0.91      0.90      0.90       400\n",
      "weighted avg       0.91      0.91      0.90       400\n",
      "\n"
     ]
    }
   ],
   "source": [
    "from sklearn.metrics import classification_report\n",
    "from sklearn.metrics import confusion_matrix\n",
    "\n",
    "# Make predictions on test data\n",
    "y_pred = cnn_model.predict(X_test)\n",
    "\n",
    "# Convert predictions to binary class labels\n",
    "y_pred = (y_pred > 0.5)\n",
    "\n",
    "# Calculate precision, recall, and F1-score\n",
    "report = classification_report(y_test, y_pred.astype(int))\n",
    "print(\"Classfication Report \")\n",
    "print(report)\n"
   ]
  },
  {
   "cell_type": "code",
   "execution_count": 120,
   "id": "24b72253",
   "metadata": {},
   "outputs": [
    {
     "name": "stdout",
     "output_type": "stream",
     "text": [
      "Confusion Matrix\n",
      "[[202  14]\n",
      " [ 24 160]]\n"
     ]
    }
   ],
   "source": [
    "# calculate confusion matrix\n",
    "cm = confusion_matrix(y_test, y_pred)\n",
    "print(\"Confusion Matrix\")\n",
    "print(cm)"
   ]
  },
  {
   "cell_type": "code",
   "execution_count": 121,
   "id": "cb10a04c",
   "metadata": {},
   "outputs": [
    {
     "data": {
      "image/png": "[encoded data removed]",
      "text/plain": [
       "<Figure size 432x288 with 1 Axes>"
      ]
     },
     "metadata": {
      "needs_background": "light"
     },
     "output_type": "display_data"
    }
   ],
   "source": [
    "from sklearn.metrics import roc_curve, auc\n",
    "\n",
    "# calculate false positive rate, true positive rate, and threshold\n",
    "fpr, tpr, threshold = roc_curve(y_test, y_pred)\n",
    "\n",
    "# calculate AUC\n",
    "roc_auc = auc(fpr, tpr)\n",
    "\n",
    "# plot ROC curve\n",
    "import matplotlib.pyplot as plt\n",
    "plt.title('ROC Curve')\n",
    "plt.plot(fpr, tpr, 'b', label = 'AUC = %0.2f' % roc_auc)\n",
    "plt.legend(loc = 'lower right')\n",
    "plt.plot([0, 1], [0, 1],'r--')\n",
    "plt.xlim([0, 1])\n",
    "plt.ylim([0, 1])\n",
    "plt.ylabel('True Positive Rate')\n",
    "plt.xlabel('False Positive Rate')\n",
    "plt.show()"
   ]
  },
  {
   "cell_type": "code",
   "execution_count": null,
   "id": "57b5d10c",
   "metadata": {},
   "outputs": [],
   "source": []
  }
 ],
 "metadata": {
  "kernelspec": {
   "display_name": "Python 3 (ipykernel)",
   "language": "python",
   "name": "python3"
  },
  "language_info": {
   "codemirror_mode": {
    "name": "ipython",
    "version": 3
   },
   "file_extension": ".py",
   "mimetype": "text/x-python",
   "name": "python",
   "nbconvert_exporter": "python",
   "pygments_lexer": "ipython3",
   "version": "3.10.4"
  }
 },
 "nbformat": 4,
 "nbformat_minor": 5
}
