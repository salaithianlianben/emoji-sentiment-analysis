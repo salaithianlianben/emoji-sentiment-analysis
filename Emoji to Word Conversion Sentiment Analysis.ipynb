{
 "cells": [
  {
   "cell_type": "code",
   "execution_count": 1,
   "id": "2d913286",
   "metadata": {},
   "outputs": [],
   "source": [
    "import pandas as pd\n",
    "import numpy as np\n",
    "import emoji\n",
    "import re\n",
    "import string\n",
    "\n",
    "from sklearn.feature_extraction.text import TfidfVectorizer\n",
    "from sklearn.model_selection import train_test_split, learning_curve, GridSearchCV, KFold\n",
    "from sklearn.svm import SVC\n",
    "from sklearn.naive_bayes import MultinomialNB, BernoulliNB\n",
    "from sklearn.ensemble import BaggingClassifier,AdaBoostClassifier\n",
    "from sklearn.metrics import classification_report, confusion_matrix, accuracy_score\n",
    "\n",
    "import nltk\n",
    "from nltk.corpus import stopwords\n",
    "from nltk.tokenize import TreebankWordTokenizer\n",
    "from nltk.stem import WordNetLemmatizer\n",
    "\n",
    "import matplotlib.pyplot as plt\n",
    "import seaborn as sns\n",
    "\n",
    "from keras.models import Sequential\n",
    "from keras.layers import Conv1D, GlobalMaxPooling1D, Dense, Dropout,MaxPool1D, Flatten\n",
    "from keras.wrappers.scikit_learn import KerasClassifier\n",
    "from keras.regularizers import l2\n",
    "\n",
    "from scipy.sparse import csr_matrix\n",
    "\n",
    "import warnings\n",
    "warnings.filterwarnings('ignore')"
   ]
  },
  {
   "cell_type": "markdown",
   "id": "737240af",
   "metadata": {},
   "source": [
    "#### Read and analyze the dataset"
   ]
  },
  {
   "cell_type": "code",
   "execution_count": 2,
   "id": "f252b124",
   "metadata": {},
   "outputs": [],
   "source": [
    "df = pd.read_csv(\"D:\\\\Datasets\\\\emoji_sentiment_tweets_dataset.csv\")"
   ]
  },
  {
   "cell_type": "code",
   "execution_count": 3,
   "id": "7246478d",
   "metadata": {},
   "outputs": [
    {
     "data": {
      "text/plain": [
       "(2000, 2)"
      ]
     },
     "execution_count": 3,
     "metadata": {},
     "output_type": "execute_result"
    }
   ],
   "source": [
    "df.shape"
   ]
  },
  {
   "cell_type": "code",
   "execution_count": 4,
   "id": "bf9b33ea",
   "metadata": {},
   "outputs": [
    {
     "data": {
      "text/html": [
       "<div>\n",
       "<style scoped>\n",
       "    .dataframe tbody tr th:only-of-type {\n",
       "        vertical-align: middle;\n",
       "    }\n",
       "\n",
       "    .dataframe tbody tr th {\n",
       "        vertical-align: top;\n",
       "    }\n",
       "\n",
       "    .dataframe thead th {\n",
       "        text-align: right;\n",
       "    }\n",
       "</style>\n",
       "<table border=\"1\" class=\"dataframe\">\n",
       "  <thead>\n",
       "    <tr style=\"text-align: right;\">\n",
       "      <th></th>\n",
       "      <th>sentiment</th>\n",
       "      <th>post</th>\n",
       "    </tr>\n",
       "  </thead>\n",
       "  <tbody>\n",
       "    <tr>\n",
       "      <th>980</th>\n",
       "      <td>1</td>\n",
       "      <td>have a great</td>\n",
       "    </tr>\n",
       "    <tr>\n",
       "      <th>983</th>\n",
       "      <td>1</td>\n",
       "      <td>It really is uplifting and inspiring</td>\n",
       "    </tr>\n",
       "    <tr>\n",
       "      <th>986</th>\n",
       "      <td>1</td>\n",
       "      <td>year old i am commenting on all the new ladyli...</td>\n",
       "    </tr>\n",
       "    <tr>\n",
       "      <th>989</th>\n",
       "      <td>1</td>\n",
       "      <td>Just delivered my Managing the Online Customer...</td>\n",
       "    </tr>\n",
       "    <tr>\n",
       "      <th>992</th>\n",
       "      <td>1</td>\n",
       "      <td>well..human. That's all i</td>\n",
       "    </tr>\n",
       "    <tr>\n",
       "      <th>995</th>\n",
       "      <td>1</td>\n",
       "      <td>big 😍 for Anne cox 😊</td>\n",
       "    </tr>\n",
       "    <tr>\n",
       "      <th>998</th>\n",
       "      <td>1</td>\n",
       "      <td>thanks for the recent follow. Much appreciated...</td>\n",
       "    </tr>\n",
       "    <tr>\n",
       "      <th>1001</th>\n",
       "      <td>0</td>\n",
       "      <td>talking to my over driver about where I'm goin...</td>\n",
       "    </tr>\n",
       "    <tr>\n",
       "      <th>1004</th>\n",
       "      <td>0</td>\n",
       "      <td>There isnt a new Riverdale tonight ? 😧</td>\n",
       "    </tr>\n",
       "    <tr>\n",
       "      <th>1007</th>\n",
       "      <td>0</td>\n",
       "      <td>don't like how jittery caffeine makes me 😔</td>\n",
       "    </tr>\n",
       "    <tr>\n",
       "      <th>1010</th>\n",
       "      <td>0</td>\n",
       "      <td>When can you notice me. 😧 what?</td>\n",
       "    </tr>\n",
       "  </tbody>\n",
       "</table>\n",
       "</div>"
      ],
      "text/plain": [
       "      sentiment                                               post\n",
       "980           1                                       have a great\n",
       "983           1               It really is uplifting and inspiring\n",
       "986           1  year old i am commenting on all the new ladyli...\n",
       "989           1  Just delivered my Managing the Online Customer...\n",
       "992           1                          well..human. That's all i\n",
       "995           1                               big 😍 for Anne cox 😊\n",
       "998           1  thanks for the recent follow. Much appreciated...\n",
       "1001          0  talking to my over driver about where I'm goin...\n",
       "1004          0             There isnt a new Riverdale tonight ? 😧\n",
       "1007          0         don't like how jittery caffeine makes me 😔\n",
       "1010          0                    When can you notice me. 😧 what?"
      ]
     },
     "execution_count": 4,
     "metadata": {},
     "output_type": "execute_result"
    }
   ],
   "source": [
    "df.loc[980:1010:3]"
   ]
  },
  {
   "cell_type": "code",
   "execution_count": 5,
   "id": "fa159dd7",
   "metadata": {},
   "outputs": [
    {
     "name": "stdout",
     "output_type": "stream",
     "text": [
      "<class 'pandas.core.frame.DataFrame'>\n",
      "RangeIndex: 2000 entries, 0 to 1999\n",
      "Data columns (total 2 columns):\n",
      " #   Column     Non-Null Count  Dtype \n",
      "---  ------     --------------  ----- \n",
      " 0   sentiment  2000 non-null   int64 \n",
      " 1   post       2000 non-null   object\n",
      "dtypes: int64(1), object(1)\n",
      "memory usage: 31.4+ KB\n"
     ]
    }
   ],
   "source": [
    "df.info()"
   ]
  },
  {
   "cell_type": "code",
   "execution_count": 6,
   "id": "2fbd7143",
   "metadata": {},
   "outputs": [
    {
     "data": {
      "text/plain": [
       "sentiment    0\n",
       "post         0\n",
       "dtype: int64"
      ]
     },
     "execution_count": 6,
     "metadata": {},
     "output_type": "execute_result"
    }
   ],
   "source": [
    "df.isna().sum()"
   ]
  },
  {
   "cell_type": "code",
   "execution_count": 7,
   "id": "160f700c",
   "metadata": {},
   "outputs": [
    {
     "name": "stdout",
     "output_type": "stream",
     "text": [
      "Count of positive sentiment : 1000\n",
      "Count of negative sentiment : 1000\n"
     ]
    }
   ],
   "source": [
    "print(f'Count of positive sentiment : {df[ df.sentiment == 1 ].shape[0]}')\n",
    "print(f'Count of negative sentiment : {df[ df.sentiment == 0 ].shape[0]}')"
   ]
  },
  {
   "cell_type": "code",
   "execution_count": 8,
   "id": "11b6333b",
   "metadata": {},
   "outputs": [
    {
     "data": {
      "text/plain": [
       "<AxesSubplot:xlabel='sentiment', ylabel='count'>"
      ]
     },
     "execution_count": 8,
     "metadata": {},
     "output_type": "execute_result"
    },
    {
     "data": {
      "image/png": "[encoded data removed]",
      "text/plain": [
       "<Figure size 432x288 with 1 Axes>"
      ]
     },
     "metadata": {
      "needs_background": "light"
     },
     "output_type": "display_data"
    }
   ],
   "source": [
    "sns.countplot(data=df, x=df.sentiment)"
   ]
  },
  {
   "cell_type": "markdown",
   "id": "c66ae361",
   "metadata": {},
   "source": [
    "#### Data cleaning and preprocessing step"
   ]
  },
  {
   "cell_type": "code",
   "execution_count": 9,
   "id": "0077bc87",
   "metadata": {},
   "outputs": [],
   "source": [
    "# Retrive emojis list only\n",
    "\n",
    "retrive_emojis = lambda word_list: [match[\"emoji\"] for word in word_list for match in emoji.emoji_list(word)]"
   ]
  },
  {
   "cell_type": "code",
   "execution_count": 10,
   "id": "92d406cc",
   "metadata": {},
   "outputs": [],
   "source": [
    "# Split text and emoji\n",
    "\n",
    "def extract_text_and_emoji(text):\n",
    "    global allchars, emoji_list\n",
    "    # remove all tagging and links, not need for sentiments\n",
    "    remove_keys = ('@', 'http://', '&', '#')\n",
    "    clean_text = ' '.join(txt for txt in text.split() if not txt.startswith(remove_keys))\n",
    "#     print(clean_text)\n",
    "    \n",
    "    # setup the input, get the characters and the emoji lists\n",
    "    allchars = [str for str in text]\n",
    "    emoji_list = retrive_emojis(text)\n",
    "    \n",
    "    # extract text\n",
    "    clean_text = ' '.join([str for str in clean_text.split() if not any(i in str for i in emoji_list)])\n",
    "    \n",
    "    # extract emoji\n",
    "    clean_emoji = ' '.join([str for str in text.split() if any(i in str for i in emoji_list)])\n",
    "    return (clean_text, clean_emoji)"
   ]
  },
  {
   "cell_type": "code",
   "execution_count": 11,
   "id": "90bbc4a8",
   "metadata": {},
   "outputs": [],
   "source": [
    "temp_df_emoji = []\n",
    "temp_df_text = []\n",
    "\n",
    "for text in df.post:\n",
    "    temp_df_text.append(extract_text_and_emoji(text)[0])\n",
    "    temp_df_emoji.append(extract_text_and_emoji(text)[1])\n",
    "    \n",
    "df[\"post_text\"], df[\"emoji\"] = temp_df_text, temp_df_emoji"
   ]
  },
  {
   "cell_type": "code",
   "execution_count": 12,
   "id": "7d457616",
   "metadata": {},
   "outputs": [
    {
     "data": {
      "text/html": [
       "<div>\n",
       "<style scoped>\n",
       "    .dataframe tbody tr th:only-of-type {\n",
       "        vertical-align: middle;\n",
       "    }\n",
       "\n",
       "    .dataframe tbody tr th {\n",
       "        vertical-align: top;\n",
       "    }\n",
       "\n",
       "    .dataframe thead th {\n",
       "        text-align: right;\n",
       "    }\n",
       "</style>\n",
       "<table border=\"1\" class=\"dataframe\">\n",
       "  <thead>\n",
       "    <tr style=\"text-align: right;\">\n",
       "      <th></th>\n",
       "      <th>sentiment</th>\n",
       "      <th>post</th>\n",
       "      <th>post_text</th>\n",
       "      <th>emoji</th>\n",
       "    </tr>\n",
       "  </thead>\n",
       "  <tbody>\n",
       "    <tr>\n",
       "      <th>0</th>\n",
       "      <td>1</td>\n",
       "      <td>An inspiration in all aspects: Fashion</td>\n",
       "      <td>An inspiration in all aspects: Fashion</td>\n",
       "      <td></td>\n",
       "    </tr>\n",
       "    <tr>\n",
       "      <th>1</th>\n",
       "      <td>1</td>\n",
       "      <td>fitness</td>\n",
       "      <td>fitness</td>\n",
       "      <td></td>\n",
       "    </tr>\n",
       "    <tr>\n",
       "      <th>2</th>\n",
       "      <td>1</td>\n",
       "      <td>beauty and personality. 😊 😘 TheFashionIcon</td>\n",
       "      <td>beauty and personality. TheFashionIcon</td>\n",
       "      <td>😊 😘</td>\n",
       "    </tr>\n",
       "    <tr>\n",
       "      <th>3</th>\n",
       "      <td>1</td>\n",
       "      <td>Apka Apna Awam Ka Channel Frankline Tv Aam Adm...</td>\n",
       "      <td>Apka Apna Awam Ka Channel Frankline Tv Aam Adm...</td>\n",
       "      <td>😊</td>\n",
       "    </tr>\n",
       "    <tr>\n",
       "      <th>4</th>\n",
       "      <td>1</td>\n",
       "      <td>Beautiful album from the greatest unsung guita...</td>\n",
       "      <td>Beautiful album from the greatest unsung guita...</td>\n",
       "      <td></td>\n",
       "    </tr>\n",
       "    <tr>\n",
       "      <th>5</th>\n",
       "      <td>1</td>\n",
       "      <td>Good luck to Rich riding for great project in ...</td>\n",
       "      <td>Good luck to Rich riding for great project in ...</td>\n",
       "      <td></td>\n",
       "    </tr>\n",
       "    <tr>\n",
       "      <th>6</th>\n",
       "      <td>1</td>\n",
       "      <td>Omg he... kissed... him 😆 with joy</td>\n",
       "      <td>Omg he... kissed... him with joy</td>\n",
       "      <td>😆</td>\n",
       "    </tr>\n",
       "    <tr>\n",
       "      <th>7</th>\n",
       "      <td>1</td>\n",
       "      <td>😊 anniv ming and papi!!!!! 😍 😍 😊</td>\n",
       "      <td>anniv ming and papi!!!!!</td>\n",
       "      <td>😊 😍 😍 😊</td>\n",
       "    </tr>\n",
       "    <tr>\n",
       "      <th>8</th>\n",
       "      <td>1</td>\n",
       "      <td>thanks 😊</td>\n",
       "      <td>thanks</td>\n",
       "      <td>😊</td>\n",
       "    </tr>\n",
       "    <tr>\n",
       "      <th>9</th>\n",
       "      <td>1</td>\n",
       "      <td>C'mon Tweeps</td>\n",
       "      <td>C'mon Tweeps</td>\n",
       "      <td></td>\n",
       "    </tr>\n",
       "  </tbody>\n",
       "</table>\n",
       "</div>"
      ],
      "text/plain": [
       "   sentiment                                               post  \\\n",
       "0          1             An inspiration in all aspects: Fashion   \n",
       "1          1                                            fitness   \n",
       "2          1         beauty and personality. 😊 😘 TheFashionIcon   \n",
       "3          1  Apka Apna Awam Ka Channel Frankline Tv Aam Adm...   \n",
       "4          1  Beautiful album from the greatest unsung guita...   \n",
       "5          1  Good luck to Rich riding for great project in ...   \n",
       "6          1                 Omg he... kissed... him 😆 with joy   \n",
       "7          1                   😊 anniv ming and papi!!!!! 😍 😍 😊   \n",
       "8          1                                           thanks 😊   \n",
       "9          1                                       C'mon Tweeps   \n",
       "\n",
       "                                           post_text    emoji  \n",
       "0             An inspiration in all aspects: Fashion           \n",
       "1                                            fitness           \n",
       "2             beauty and personality. TheFashionIcon      😊 😘  \n",
       "3  Apka Apna Awam Ka Channel Frankline Tv Aam Adm...        😊  \n",
       "4  Beautiful album from the greatest unsung guita...           \n",
       "5  Good luck to Rich riding for great project in ...           \n",
       "6                   Omg he... kissed... him with joy        😆  \n",
       "7                           anniv ming and papi!!!!!  😊 😍 😍 😊  \n",
       "8                                             thanks        😊  \n",
       "9                                       C'mon Tweeps           "
      ]
     },
     "execution_count": 12,
     "metadata": {},
     "output_type": "execute_result"
    }
   ],
   "source": [
    "df.head(10)"
   ]
  },
  {
   "cell_type": "code",
   "execution_count": 13,
   "id": "f269a3bf",
   "metadata": {},
   "outputs": [],
   "source": [
    "# convert emoji to same meaning text of emoji\n",
    "\n",
    "def convert_emoji_to_text(emo):\n",
    "    if len(emo) > 0:\n",
    "        return emoji.demojize(emo)\n",
    "    return \"\""
   ]
  },
  {
   "cell_type": "code",
   "execution_count": 14,
   "id": "5dd87062",
   "metadata": {},
   "outputs": [],
   "source": [
    "df[\"emoji_text\"] = df.emoji.apply(convert_emoji_to_text)"
   ]
  },
  {
   "cell_type": "code",
   "execution_count": 18,
   "id": "e76cce05",
   "metadata": {},
   "outputs": [
    {
     "data": {
      "text/plain": [
       "':pensive_face::enraged_face: I was extremely disappointed with the customer service at this store - not only were they unhelpful, but they were also rude and dismissive.'"
      ]
     },
     "execution_count": 18,
     "metadata": {},
     "output_type": "execute_result"
    }
   ],
   "source": [
    "convert_emoji_to_text(\"😔😡 I was extremely disappointed with the customer service at this store - not only were they unhelpful, but they were also rude and dismissive.\")"
   ]
  },
  {
   "cell_type": "code",
   "execution_count": 18,
   "id": "748dce1f",
   "metadata": {},
   "outputs": [],
   "source": [
    "NON_PUNCTUATION = r\"[!\\\"#\\$%&\\(\\)\\*\\+,-\\./:;<=>\\?@\\[\\\\\\]\\^_`{\\|}~0-9]\"\n",
    "\n",
    "def remove_punctuation(text):\n",
    "    no_punctuation_text = re.sub(NON_PUNCTUATION, \" \", text, 0, re.MULTILINE)\n",
    "    return no_punctuation_text\n",
    "\n",
    "df[\"clean_emoji_text\"] = df[\"emoji_text\"].apply(remove_punctuation)"
   ]
  },
  {
   "cell_type": "markdown",
   "id": "1a8d84e9",
   "metadata": {},
   "source": [
    "**Remove Twitter handles:** Twitter handles start with '@' and are used to mention other users. These do not add any value to the sentiment analysis and can be removed. You can use regular expressions to remove these handles"
   ]
  },
  {
   "cell_type": "code",
   "execution_count": 19,
   "id": "50172698",
   "metadata": {},
   "outputs": [],
   "source": [
    "def remove_twitter_handles(text):\n",
    "    return re.sub(r'@[A-Za-z0-9]+', '', text)\n",
    "\n",
    "df[\"clean_post\"] = df[\"post_text\"].apply(remove_twitter_handles)"
   ]
  },
  {
   "cell_type": "markdown",
   "id": "d1c5243a",
   "metadata": {},
   "source": [
    "**Remove URLs:** URLs are often included in tweets and can be removed as they do not contribute to sentiment analysis. You can use regular expressions to remove URLs."
   ]
  },
  {
   "cell_type": "code",
   "execution_count": 20,
   "id": "a1c1104c",
   "metadata": {},
   "outputs": [],
   "source": [
    "def remove_html_tags(text):\n",
    "    \"\"\"Remove html tags from a string\"\"\"\n",
    "    clean = re.compile('<.*?>')\n",
    "    return re.sub(clean, '', text)\n",
    "\n",
    "df[\"clean_post\"] = df[\"clean_post\"].apply(remove_html_tags)"
   ]
  },
  {
   "cell_type": "markdown",
   "id": "fe0119b3",
   "metadata": {},
   "source": [
    "**Remove special characters and punctuation:** Special characters and punctuation marks can also be removed as they do not add any meaning to sentiment analysis. You can use regular expressions to remove them."
   ]
  },
  {
   "cell_type": "code",
   "execution_count": 21,
   "id": "d890f800",
   "metadata": {},
   "outputs": [],
   "source": [
    "df[\"clean_post\"] = df[\"clean_post\"].apply(remove_punctuation)"
   ]
  },
  {
   "cell_type": "markdown",
   "id": "c709267e",
   "metadata": {},
   "source": [
    "**Handling abbreviations:** Twitter users often use abbreviations like \"lol\", \"omg\", etc. These can be expanded to their full form to avoid any issues with sentiment analysis. You can use dictionaries or regular expressions to expand abbreviations."
   ]
  },
  {
   "cell_type": "code",
   "execution_count": 22,
   "id": "d08a5d82",
   "metadata": {},
   "outputs": [],
   "source": [
    "abbreviations = {\n",
    "    'lol': 'laugh out loud',\n",
    "    'lmao': 'laughing my ass off',\n",
    "    'rofl': 'rolling on the floor laughing',\n",
    "    'omg': 'oh my god',\n",
    "    'wtf': 'what the fuck',\n",
    "    'fml': 'fuck my life',\n",
    "    'smh': 'shaking my head',\n",
    "    'btw': 'by the way',\n",
    "    'imho': 'in my humble opinion',\n",
    "    'idk': 'I do not know',\n",
    "    'rn': 'right now',\n",
    "    'ily': 'I love you',\n",
    "    'tbh': 'to be honest',\n",
    "    'ig': 'I guess',\n",
    "    'bae': 'before anyone else',\n",
    "    'yolo': 'you only live once',\n",
    "    'fomo': 'fear of missing out',\n",
    "    'tmi': 'too much information',\n",
    "    'afk': 'away from keyboard',\n",
    "    'afaik': 'as far as I know',\n",
    "    'brb': 'be right back',\n",
    "    'ftw': 'for the win',\n",
    "    'hmu': 'hit me up',\n",
    "    'idc': 'I do not care',\n",
    "    'ikr': 'I know, right?',\n",
    "    'jk': 'just kidding',\n",
    "    'nbd': 'no big deal',\n",
    "    'np': 'no problem',\n",
    "    'omw': 'on my way',\n",
    "    'ppl': 'people',\n",
    "    'rt': 'retweet',\n",
    "    'srsly': 'seriously',\n",
    "    'tbt': 'throwback Thursday',\n",
    "    'tg': 'thank god',\n",
    "    'tgif': 'thank god it is Friday',\n",
    "    'thx': 'thanks',\n",
    "    'ttyl': 'talk to you later',\n",
    "    'wyd': 'what you doing?',\n",
    "    'yw': 'you are welcome',\n",
    "}\n",
    "\n",
    "def handling_abbreviations(text):\n",
    "    return ' '.join([abbreviations.get(word.lower(), word) for word in text.split()])\n",
    "\n",
    "df[\"clean_post\"] = df[\"clean_post\"].apply(handling_abbreviations)"
   ]
  },
  {
   "cell_type": "markdown",
   "id": "48f51865",
   "metadata": {},
   "source": [
    "**POS tagging** involves labeling each word in a text with its corresponding part of speech (e.g., noun, verb, adjective, etc.), which can be useful for many tasks, including sentiment analysis.\n",
    "\n",
    "**Lemmatization:** Stemming and lemmatization can help in reducing the number of unique words and bring together words with similar meanings. You can use libraries like NLTK for stemming and lemmatization."
   ]
  },
  {
   "cell_type": "code",
   "execution_count": 23,
   "id": "7013c10b",
   "metadata": {},
   "outputs": [],
   "source": [
    "lemmatizer = WordNetLemmatizer()\n",
    "\n",
    "def get_pos(tag):\n",
    "    if tag in ['VB','VBD','VBG','VBN','VBP','VBZ']:\n",
    "        return 'v'\n",
    "    elif tag in [\"JJ\",\"JJR\",\"JJS\"]:\n",
    "        return 'a'\n",
    "    elif tag in [\"RB\",\"RBR\",\"RBS\"]:\n",
    "        return 'r'\n",
    "    else:\n",
    "        return 'n'\n",
    "\n",
    "def do_lemmatization(review):\n",
    "    lemma_new = \"\"\n",
    "    word_list = TreebankWordTokenizer().tokenize(review)\n",
    "    tags = nltk.pos_tag(word_list)\n",
    "    for word, tag in tags:\n",
    "        if tag in [\"JJ\",\"JJR\",\"JJS\",\"NN\",\"NNS\",\"NNP\",\"NNPS\",\"RB\",\"RBR\",\"RBS\",\"UH\",\"VB\",\"VBD\",\"VBG\",\"VBN\",\"VBP\",\"VBZ\"]:\n",
    "            word = word.lower()\n",
    "            if tag in [\"JJR\",\"JJS\"]:\n",
    "                lemma = lemmatizer.lemmatize(word)\n",
    "            lemma = lemmatizer.lemmatize(word,pos=get_pos(tag))\n",
    "            lemma_new = lemma_new + \" \" + lemma\n",
    "    return lemma_new\n",
    "\n",
    "df[\"clean_post\"] = df[\"clean_post\"].apply(do_lemmatization)"
   ]
  },
  {
   "cell_type": "code",
   "execution_count": 24,
   "id": "f94ab70c",
   "metadata": {},
   "outputs": [],
   "source": [
    "df[\"clean_emoji_text\"] = df[\"clean_emoji_text\"].apply(do_lemmatization)"
   ]
  },
  {
   "cell_type": "markdown",
   "id": "cad63dfa",
   "metadata": {},
   "source": [
    "**Remove stop words:** Stop words are common words like \"the\", \"is\", \"and\", etc., which do not add any value to sentiment analysis. You can use the NLTK library to remove stop words."
   ]
  },
  {
   "cell_type": "code",
   "execution_count": 26,
   "id": "54bce4b0",
   "metadata": {},
   "outputs": [],
   "source": [
    "stop_words = stopwords.words('english')\n",
    "\n",
    "temp_stop_words = [\"not\",\"no\",'do','very','don',\"don't\",\"ain\",\"aren\",\"aren't\",\"couldn\",\"couldn't\",'didn',\"didn't\",'doesn',\"doesn't\",'hadn',\"hadn't\",'hasn',\"hasn't\",'haven',\"haven't\",'isn',\"isn't\",'mightn',\"mightn't\",'mustn',\"mustn't\",'needn',\"needn't\",'shan',\"shan't\",'shouldn',\"shouldn't\",'wasn',\"wasn't\",'weren',\"weren't\",'won',\"won't\",'wouldn',\"wouldn't\"]\n",
    "for sword in temp_stop_words:\n",
    "    if sword in stop_words:\n",
    "        stop_words.remove(sword)"
   ]
  },
  {
   "cell_type": "markdown",
   "id": "ddb81268",
   "metadata": {},
   "source": [
    "**Vectorization**"
   ]
  },
  {
   "cell_type": "code",
   "execution_count": 27,
   "id": "516534e0",
   "metadata": {},
   "outputs": [],
   "source": [
    "# TFIDF vectorizer\n",
    "\n",
    "vectorizer = TfidfVectorizer(use_idf=True, lowercase=True,\n",
    "                            strip_accents='ascii', stop_words=stop_words)"
   ]
  },
  {
   "cell_type": "code",
   "execution_count": 28,
   "id": "f2a029c5",
   "metadata": {},
   "outputs": [
    {
     "name": "stdout",
     "output_type": "stream",
     "text": [
      "(2000,)\n",
      "(2000, 2990)\n"
     ]
    }
   ],
   "source": [
    "y = df.sentiment\n",
    "\n",
    "X = vectorizer.fit_transform(df.clean_post +\" \"+ df.clean_emoji_text)\n",
    "\n",
    "print(y.shape)\n",
    "print(X.shape)"
   ]
  },
  {
   "cell_type": "markdown",
   "id": "41625f47",
   "metadata": {},
   "source": [
    "#### Split the dataset into training and testing"
   ]
  },
  {
   "cell_type": "code",
   "execution_count": 30,
   "id": "813db22d",
   "metadata": {},
   "outputs": [],
   "source": [
    "X_train, X_test, y_train, y_test = train_test_split(X, y, test_size=0.2,random_state=6)"
   ]
  },
  {
   "cell_type": "markdown",
   "id": "080ea7b9",
   "metadata": {},
   "source": [
    "#### Naive Bayes Classifiers"
   ]
  },
  {
   "cell_type": "code",
   "execution_count": 31,
   "id": "27bc7f7e",
   "metadata": {},
   "outputs": [
    {
     "data": {
      "text/html": [
       "<style>#sk-container-id-1 {color: black;background-color: white;}#sk-container-id-1 pre{padding: 0;}#sk-container-id-1 div.sk-toggleable {background-color: white;}#sk-container-id-1 label.sk-toggleable__label {cursor: pointer;display: block;width: 100%;margin-bottom: 0;padding: 0.3em;box-sizing: border-box;text-align: center;}#sk-container-id-1 label.sk-toggleable__label-arrow:before {content: \"▸\";float: left;margin-right: 0.25em;color: #696969;}#sk-container-id-1 label.sk-toggleable__label-arrow:hover:before {color: black;}#sk-container-id-1 div.sk-estimator:hover label.sk-toggleable__label-arrow:before {color: black;}#sk-container-id-1 div.sk-toggleable__content {max-height: 0;max-width: 0;overflow: hidden;text-align: left;background-color: #f0f8ff;}#sk-container-id-1 div.sk-toggleable__content pre {margin: 0.2em;color: black;border-radius: 0.25em;background-color: #f0f8ff;}#sk-container-id-1 input.sk-toggleable__control:checked~div.sk-toggleable__content {max-height: 200px;max-width: 100%;overflow: auto;}#sk-container-id-1 input.sk-toggleable__control:checked~label.sk-toggleable__label-arrow:before {content: \"▾\";}#sk-container-id-1 div.sk-estimator input.sk-toggleable__control:checked~label.sk-toggleable__label {background-color: #d4ebff;}#sk-container-id-1 div.sk-label input.sk-toggleable__control:checked~label.sk-toggleable__label {background-color: #d4ebff;}#sk-container-id-1 input.sk-hidden--visually {border: 0;clip: rect(1px 1px 1px 1px);clip: rect(1px, 1px, 1px, 1px);height: 1px;margin: -1px;overflow: hidden;padding: 0;position: absolute;width: 1px;}#sk-container-id-1 div.sk-estimator {font-family: monospace;background-color: #f0f8ff;border: 1px dotted black;border-radius: 0.25em;box-sizing: border-box;margin-bottom: 0.5em;}#sk-container-id-1 div.sk-estimator:hover {background-color: #d4ebff;}#sk-container-id-1 div.sk-parallel-item::after {content: \"\";width: 100%;border-bottom: 1px solid gray;flex-grow: 1;}#sk-container-id-1 div.sk-label:hover label.sk-toggleable__label {background-color: #d4ebff;}#sk-container-id-1 div.sk-serial::before {content: \"\";position: absolute;border-left: 1px solid gray;box-sizing: border-box;top: 0;bottom: 0;left: 50%;z-index: 0;}#sk-container-id-1 div.sk-serial {display: flex;flex-direction: column;align-items: center;background-color: white;padding-right: 0.2em;padding-left: 0.2em;position: relative;}#sk-container-id-1 div.sk-item {position: relative;z-index: 1;}#sk-container-id-1 div.sk-parallel {display: flex;align-items: stretch;justify-content: center;background-color: white;position: relative;}#sk-container-id-1 div.sk-item::before, #sk-container-id-1 div.sk-parallel-item::before {content: \"\";position: absolute;border-left: 1px solid gray;box-sizing: border-box;top: 0;bottom: 0;left: 50%;z-index: -1;}#sk-container-id-1 div.sk-parallel-item {display: flex;flex-direction: column;z-index: 1;position: relative;background-color: white;}#sk-container-id-1 div.sk-parallel-item:first-child::after {align-self: flex-end;width: 50%;}#sk-container-id-1 div.sk-parallel-item:last-child::after {align-self: flex-start;width: 50%;}#sk-container-id-1 div.sk-parallel-item:only-child::after {width: 0;}#sk-container-id-1 div.sk-dashed-wrapped {border: 1px dashed gray;margin: 0 0.4em 0.5em 0.4em;box-sizing: border-box;padding-bottom: 0.4em;background-color: white;}#sk-container-id-1 div.sk-label label {font-family: monospace;font-weight: bold;display: inline-block;line-height: 1.2em;}#sk-container-id-1 div.sk-label-container {text-align: center;}#sk-container-id-1 div.sk-container {/* jupyter's `normalize.less` sets `[hidden] { display: none; }` but bootstrap.min.css set `[hidden] { display: none !important; }` so we also need the `!important` here to be able to override the default hidden behavior on the sphinx rendered scikit-learn.org. See: https://github.com/scikit-learn/scikit-learn/issues/21755 */display: inline-block !important;position: relative;}#sk-container-id-1 div.sk-text-repr-fallback {display: none;}</style><div id=\"sk-container-id-1\" class=\"sk-top-container\"><div class=\"sk-text-repr-fallback\"><pre>BernoulliNB()</pre><b>In a Jupyter environment, please rerun this cell to show the HTML representation or trust the notebook. <br />On GitHub, the HTML representation is unable to render, please try loading this page with nbviewer.org.</b></div><div class=\"sk-container\" hidden><div class=\"sk-item\"><div class=\"sk-estimator sk-toggleable\"><input class=\"sk-toggleable__control sk-hidden--visually\" id=\"sk-estimator-id-1\" type=\"checkbox\" checked><label for=\"sk-estimator-id-1\" class=\"sk-toggleable__label sk-toggleable__label-arrow\">BernoulliNB</label><div class=\"sk-toggleable__content\"><pre>BernoulliNB()</pre></div></div></div></div></div>"
      ],
      "text/plain": [
       "BernoulliNB()"
      ]
     },
     "execution_count": 31,
     "metadata": {},
     "output_type": "execute_result"
    }
   ],
   "source": [
    "# we will train a naive bayes classifier\n",
    "m_nb = MultinomialNB()\n",
    "b_nb = BernoulliNB()\n",
    "\n",
    "m_nb.fit(X_train, y_train)\n",
    "b_nb.fit(X_train, y_train)"
   ]
  },
  {
   "cell_type": "code",
   "execution_count": 32,
   "id": "f79519e5",
   "metadata": {},
   "outputs": [
    {
     "name": "stdout",
     "output_type": "stream",
     "text": [
      "Multinomial Naive Bayes Algorithm\n",
      " Training accuracy is 96.5%\n",
      " Testing accuracy is 90.25%\n",
      "\n",
      "Bernoulli Naive Bayes Algorithm\n",
      " Training accuracy is 95.31%\n",
      " Testing accuracy is 91.0%\n",
      "\n",
      "Accuracy of MultinomialNB : 0.9025\n",
      "\n",
      "Accuracy of BernoulliNB : 0.91\n"
     ]
    }
   ],
   "source": [
    "print(\"Multinomial Naive Bayes Algorithm\")\n",
    "print(f' Training accuracy is {round(m_nb.score(X_train, y_train) * 100,2)}%')\n",
    "print(f' Testing accuracy is {round(m_nb.score(X_test, y_test) * 100,2)}%')\n",
    "\n",
    "print()\n",
    "print(\"Bernoulli Naive Bayes Algorithm\")\n",
    "print(f' Training accuracy is {round(b_nb.score(X_train, y_train) * 100,2)}%')\n",
    "print(f' Testing accuracy is {round(b_nb.score(X_test, y_test) * 100,2)}%')\n",
    "\n",
    "y_pred_m_nb = m_nb.predict(X_test)\n",
    "y_pred_b_nb = b_nb.predict(X_test)\n",
    "\n",
    "print()\n",
    "accuracy = accuracy_score(y_test, y_pred_m_nb)\n",
    "print(\"Accuracy of MultinomialNB :\", accuracy)\n",
    "print()\n",
    "accuracy = accuracy_score(y_test, y_pred_b_nb)\n",
    "print(\"Accuracy of BernoulliNB :\", accuracy)"
   ]
  },
  {
   "cell_type": "markdown",
   "id": "f2e96426",
   "metadata": {},
   "source": [
    "**The confusion matrix** shows that the model correctly classified 207 instances of the first class (usually represented as a negative class) and 157 instances of the second class (usually represented as a positive class). It misclassified 9 instances of the first class as the second class (false positives) and 27 instances of the second class as the first class (false negatives)."
   ]
  },
  {
   "cell_type": "code",
   "execution_count": 39,
   "id": "1e257e6d",
   "metadata": {},
   "outputs": [
    {
     "name": "stdout",
     "output_type": "stream",
     "text": [
      "Confusion Matrix of Bernoulli Naive Bayes Algorithm \n",
      "[[207   9]\n",
      " [ 27 157]]\n"
     ]
    }
   ],
   "source": [
    "# calculate confusion matrix\n",
    "cm = confusion_matrix(y_test, y_pred_b_nb)\n",
    "print(\"Confusion Matrix of Bernoulli Naive Bayes Algorithm \")\n",
    "print(cm)"
   ]
  },
  {
   "cell_type": "code",
   "execution_count": 40,
   "id": "aef116af",
   "metadata": {},
   "outputs": [
    {
     "name": "stdout",
     "output_type": "stream",
     "text": [
      "Confusion Matrix of Multinomial Naive Bayes Algorithm \n",
      "[[199  17]\n",
      " [ 22 162]]\n"
     ]
    }
   ],
   "source": [
    "# calculate confusion matrix\n",
    "cm = confusion_matrix(y_test, y_pred_m_nb)\n",
    "print(\"Confusion Matrix of Multinomial Naive Bayes Algorithm \")\n",
    "print(cm)"
   ]
  },
  {
   "cell_type": "code",
   "execution_count": 37,
   "id": "fdba562b",
   "metadata": {},
   "outputs": [
    {
     "name": "stdout",
     "output_type": "stream",
     "text": [
      "Classfication Report of Bernoulli Naive Bayes Algorithm \n",
      "\n",
      "              precision    recall  f1-score   support\n",
      "\n",
      "    negative       0.88      0.96      0.92       216\n",
      "    positive       0.95      0.85      0.90       184\n",
      "\n",
      "    accuracy                           0.91       400\n",
      "   macro avg       0.92      0.91      0.91       400\n",
      "weighted avg       0.91      0.91      0.91       400\n",
      "\n"
     ]
    }
   ],
   "source": [
    "# Convert predictions to binary class labels\n",
    "y_pred = (y_pred_b_nb > 0.5)\n",
    "\n",
    "# Calculate precision, recall, and F1-score\n",
    "report = classification_report(y_test, y_pred.astype(int), target_names=[\"negative\", \"positive\"])\n",
    "print(\"Classfication Report of Bernoulli Naive Bayes Algorithm \")\n",
    "print()\n",
    "print(report)"
   ]
  },
  {
   "cell_type": "code",
   "execution_count": 38,
   "id": "0ff1474a",
   "metadata": {},
   "outputs": [
    {
     "name": "stdout",
     "output_type": "stream",
     "text": [
      "Classfication Report of Multinomial Naive Bayes Algorithm \n",
      "\n",
      "              precision    recall  f1-score   support\n",
      "\n",
      "    negative       0.90      0.92      0.91       216\n",
      "    positive       0.91      0.88      0.89       184\n",
      "\n",
      "    accuracy                           0.90       400\n",
      "   macro avg       0.90      0.90      0.90       400\n",
      "weighted avg       0.90      0.90      0.90       400\n",
      "\n"
     ]
    }
   ],
   "source": [
    "# Convert predictions to binary class labels\n",
    "y_pred = (y_pred_m_nb > 0.5)\n",
    "\n",
    "# Calculate precision, recall, and F1-score\n",
    "report = classification_report(y_test, y_pred.astype(int), target_names=[\"negative\", \"positive\"])\n",
    "print(\"Classfication Report of Multinomial Naive Bayes Algorithm \")\n",
    "print()\n",
    "print(report)"
   ]
  },
  {
   "cell_type": "markdown",
   "id": "e03bc806",
   "metadata": {},
   "source": [
    "**Binary cross-entropy loss** is used to measure the dissimilarity between the predicted probabilities and the true labels."
   ]
  },
  {
   "cell_type": "code",
   "execution_count": 47,
   "id": "8fde1b54",
   "metadata": {},
   "outputs": [
    {
     "name": "stdout",
     "output_type": "stream",
     "text": [
      "Loss value for Bernoulli NB is 3.1085078664841417\n"
     ]
    }
   ],
   "source": [
    "y_pred_b_nb = (y_pred_b_nb > 0.5)\n",
    "\n",
    "epsilon = 1e-15 # a very small number\n",
    "y_pred_b_nb = np.clip(y_pred_b_nb, epsilon, 1 - epsilon)\n",
    "y_pred_b_nb = y_pred_b_nb.astype(float) # convert to float type\n",
    "loss = -1 * (y_test * np.log(y_pred_b_nb) + (1 - y_test) * np.log(1 - y_pred_b_nb))\n",
    "avg_loss = np.mean(loss)\n",
    "print(f'Loss value for Bernoulli NB is {avg_loss}')"
   ]
  },
  {
   "cell_type": "code",
   "execution_count": 48,
   "id": "fa5a1f08",
   "metadata": {},
   "outputs": [
    {
     "name": "stdout",
     "output_type": "stream",
     "text": [
      "Loss value for Bernoulli NB is 3.367564681394575\n"
     ]
    }
   ],
   "source": [
    "y_pred_m_nb = (y_pred_m_nb > 0.5)\n",
    "\n",
    "epsilon = 1e-15 # a very small number\n",
    "y_pred_m_nb = np.clip(y_pred_m_nb, epsilon, 1 - epsilon)\n",
    "y_pred_m_nb = y_pred_m_nb.astype(float) # convert to float type\n",
    "loss = -1 * (y_test * np.log(y_pred_m_nb) + (1 - y_test) * np.log(1 - y_pred_m_nb))\n",
    "avg_loss = np.mean(loss)\n",
    "print(f'Loss value for Bernoulli NB is {avg_loss}')"
   ]
  },
  {
   "cell_type": "markdown",
   "id": "172d36ff",
   "metadata": {},
   "source": [
    "**Learning curve** is a graphical representation of how the performance of a model changes as the amount of training data increases. It plots the training and validation/test set performance of a model as a function of the amount of training data used to train the model."
   ]
  },
  {
   "cell_type": "code",
   "execution_count": 49,
   "id": "cea66d13",
   "metadata": {},
   "outputs": [
    {
     "data": {
      "image/png": "[encoded data removed]",
      "text/plain": [
       "<Figure size 432x288 with 1 Axes>"
      ]
     },
     "metadata": {
      "needs_background": "light"
     },
     "output_type": "display_data"
    }
   ],
   "source": [
    "# Vary the size of the training set\n",
    "train_sizes, train_scores, test_scores = learning_curve(b_nb, X, y, cv=10, train_sizes=np.linspace(0.1, 1.0, 10))\n",
    "\n",
    "# Calculate the mean and standard deviation of the training and testing scores\n",
    "train_mean = np.mean(train_scores, axis=1)\n",
    "train_std = np.std(train_scores, axis=1)\n",
    "test_mean = np.mean(test_scores, axis=1)\n",
    "test_std = np.std(test_scores, axis=1)\n",
    "\n",
    "# Plot the learning curve\n",
    "plt.plot(train_sizes, train_mean, label='Training accuracy')\n",
    "plt.fill_between(train_sizes, train_mean - train_std, train_mean + train_std, alpha=0.1)\n",
    "plt.plot(train_sizes, test_mean, label='Testing accuracy')\n",
    "plt.fill_between(train_sizes, test_mean - test_std, test_mean + test_std, alpha=0.1)\n",
    "plt.xlabel('Training set size')\n",
    "plt.ylabel('Accuracy')\n",
    "plt.legend(loc='best')\n",
    "plt.show()"
   ]
  },
  {
   "cell_type": "code",
   "execution_count": 50,
   "id": "90ab1d1b",
   "metadata": {},
   "outputs": [
    {
     "data": {
      "image/png": "[encoded data removed]",
      "text/plain": [
       "<Figure size 432x288 with 1 Axes>"
      ]
     },
     "metadata": {
      "needs_background": "light"
     },
     "output_type": "display_data"
    }
   ],
   "source": [
    "# Vary the size of the training set\n",
    "train_sizes, train_scores, test_scores = learning_curve(m_nb, X, y, cv=10, train_sizes=np.linspace(0.1, 1.0, 10))\n",
    "\n",
    "# Calculate the mean and standard deviation of the training and testing scores\n",
    "train_mean = np.mean(train_scores, axis=1)\n",
    "train_std = np.std(train_scores, axis=1)\n",
    "test_mean = np.mean(test_scores, axis=1)\n",
    "test_std = np.std(test_scores, axis=1)\n",
    "\n",
    "# Plot the learning curve\n",
    "plt.plot(train_sizes, train_mean, label='Training accuracy')\n",
    "plt.fill_between(train_sizes, train_mean - train_std, train_mean + train_std, alpha=0.1)\n",
    "plt.plot(train_sizes, test_mean, label='Testing accuracy')\n",
    "plt.fill_between(train_sizes, test_mean - test_std, test_mean + test_std, alpha=0.1)\n",
    "plt.xlabel('Training set size')\n",
    "plt.ylabel('Accuracy')\n",
    "plt.legend(loc='best')\n",
    "plt.show()"
   ]
  },
  {
   "cell_type": "markdown",
   "id": "aad42c74",
   "metadata": {},
   "source": [
    "#### Support Vector Machine"
   ]
  },
  {
   "cell_type": "code",
   "execution_count": 51,
   "id": "753d74fd",
   "metadata": {},
   "outputs": [
    {
     "data": {
      "text/html": [
       "<style>#sk-container-id-2 {color: black;background-color: white;}#sk-container-id-2 pre{padding: 0;}#sk-container-id-2 div.sk-toggleable {background-color: white;}#sk-container-id-2 label.sk-toggleable__label {cursor: pointer;display: block;width: 100%;margin-bottom: 0;padding: 0.3em;box-sizing: border-box;text-align: center;}#sk-container-id-2 label.sk-toggleable__label-arrow:before {content: \"▸\";float: left;margin-right: 0.25em;color: #696969;}#sk-container-id-2 label.sk-toggleable__label-arrow:hover:before {color: black;}#sk-container-id-2 div.sk-estimator:hover label.sk-toggleable__label-arrow:before {color: black;}#sk-container-id-2 div.sk-toggleable__content {max-height: 0;max-width: 0;overflow: hidden;text-align: left;background-color: #f0f8ff;}#sk-container-id-2 div.sk-toggleable__content pre {margin: 0.2em;color: black;border-radius: 0.25em;background-color: #f0f8ff;}#sk-container-id-2 input.sk-toggleable__control:checked~div.sk-toggleable__content {max-height: 200px;max-width: 100%;overflow: auto;}#sk-container-id-2 input.sk-toggleable__control:checked~label.sk-toggleable__label-arrow:before {content: \"▾\";}#sk-container-id-2 div.sk-estimator input.sk-toggleable__control:checked~label.sk-toggleable__label {background-color: #d4ebff;}#sk-container-id-2 div.sk-label input.sk-toggleable__control:checked~label.sk-toggleable__label {background-color: #d4ebff;}#sk-container-id-2 input.sk-hidden--visually {border: 0;clip: rect(1px 1px 1px 1px);clip: rect(1px, 1px, 1px, 1px);height: 1px;margin: -1px;overflow: hidden;padding: 0;position: absolute;width: 1px;}#sk-container-id-2 div.sk-estimator {font-family: monospace;background-color: #f0f8ff;border: 1px dotted black;border-radius: 0.25em;box-sizing: border-box;margin-bottom: 0.5em;}#sk-container-id-2 div.sk-estimator:hover {background-color: #d4ebff;}#sk-container-id-2 div.sk-parallel-item::after {content: \"\";width: 100%;border-bottom: 1px solid gray;flex-grow: 1;}#sk-container-id-2 div.sk-label:hover label.sk-toggleable__label {background-color: #d4ebff;}#sk-container-id-2 div.sk-serial::before {content: \"\";position: absolute;border-left: 1px solid gray;box-sizing: border-box;top: 0;bottom: 0;left: 50%;z-index: 0;}#sk-container-id-2 div.sk-serial {display: flex;flex-direction: column;align-items: center;background-color: white;padding-right: 0.2em;padding-left: 0.2em;position: relative;}#sk-container-id-2 div.sk-item {position: relative;z-index: 1;}#sk-container-id-2 div.sk-parallel {display: flex;align-items: stretch;justify-content: center;background-color: white;position: relative;}#sk-container-id-2 div.sk-item::before, #sk-container-id-2 div.sk-parallel-item::before {content: \"\";position: absolute;border-left: 1px solid gray;box-sizing: border-box;top: 0;bottom: 0;left: 50%;z-index: -1;}#sk-container-id-2 div.sk-parallel-item {display: flex;flex-direction: column;z-index: 1;position: relative;background-color: white;}#sk-container-id-2 div.sk-parallel-item:first-child::after {align-self: flex-end;width: 50%;}#sk-container-id-2 div.sk-parallel-item:last-child::after {align-self: flex-start;width: 50%;}#sk-container-id-2 div.sk-parallel-item:only-child::after {width: 0;}#sk-container-id-2 div.sk-dashed-wrapped {border: 1px dashed gray;margin: 0 0.4em 0.5em 0.4em;box-sizing: border-box;padding-bottom: 0.4em;background-color: white;}#sk-container-id-2 div.sk-label label {font-family: monospace;font-weight: bold;display: inline-block;line-height: 1.2em;}#sk-container-id-2 div.sk-label-container {text-align: center;}#sk-container-id-2 div.sk-container {/* jupyter's `normalize.less` sets `[hidden] { display: none; }` but bootstrap.min.css set `[hidden] { display: none !important; }` so we also need the `!important` here to be able to override the default hidden behavior on the sphinx rendered scikit-learn.org. See: https://github.com/scikit-learn/scikit-learn/issues/21755 */display: inline-block !important;position: relative;}#sk-container-id-2 div.sk-text-repr-fallback {display: none;}</style><div id=\"sk-container-id-2\" class=\"sk-top-container\"><div class=\"sk-text-repr-fallback\"><pre>SVC(kernel=&#x27;linear&#x27;)</pre><b>In a Jupyter environment, please rerun this cell to show the HTML representation or trust the notebook. <br />On GitHub, the HTML representation is unable to render, please try loading this page with nbviewer.org.</b></div><div class=\"sk-container\" hidden><div class=\"sk-item\"><div class=\"sk-estimator sk-toggleable\"><input class=\"sk-toggleable__control sk-hidden--visually\" id=\"sk-estimator-id-2\" type=\"checkbox\" checked><label for=\"sk-estimator-id-2\" class=\"sk-toggleable__label sk-toggleable__label-arrow\">SVC</label><div class=\"sk-toggleable__content\"><pre>SVC(kernel=&#x27;linear&#x27;)</pre></div></div></div></div></div>"
      ],
      "text/plain": [
       "SVC(kernel='linear')"
      ]
     },
     "execution_count": 51,
     "metadata": {},
     "output_type": "execute_result"
    }
   ],
   "source": [
    "svm_model = SVC(kernel='linear')\n",
    "\n",
    "svm_model.fit(X_train, y_train)"
   ]
  },
  {
   "cell_type": "code",
   "execution_count": 52,
   "id": "6e3f3d8e",
   "metadata": {},
   "outputs": [
    {
     "name": "stdout",
     "output_type": "stream",
     "text": [
      "Training accuracy is 98.25%\n",
      "Testing accuracy is 90.0%\n",
      "\n",
      "Accuracy is  0.9\n"
     ]
    }
   ],
   "source": [
    "print(f'Training accuracy is {round(svm_model.score(X_train, y_train) * 100,2)}%')\n",
    "print(f'Testing accuracy is {round(svm_model.score(X_test, y_test) * 100,2)}%')\n",
    "\n",
    "y_pred = svm_model.predict(X_test)\n",
    "print()\n",
    "print(f'Accuracy is ', accuracy_score(y_test, y_pred) )"
   ]
  },
  {
   "cell_type": "code",
   "execution_count": 53,
   "id": "fede3eb6",
   "metadata": {},
   "outputs": [
    {
     "name": "stdout",
     "output_type": "stream",
     "text": [
      "Confusion Matrix\n",
      "[[189  27]\n",
      " [ 13 171]]\n"
     ]
    }
   ],
   "source": [
    "# calculate confusion matrix\n",
    "cm = confusion_matrix(y_test, y_pred)\n",
    "print(\"Confusion Matrix\")\n",
    "print(cm)"
   ]
  },
  {
   "cell_type": "code",
   "execution_count": 54,
   "id": "d2eebe00",
   "metadata": {},
   "outputs": [
    {
     "name": "stdout",
     "output_type": "stream",
     "text": [
      "Classfication Report \n",
      "\n",
      "              precision    recall  f1-score   support\n",
      "\n",
      "           0       0.94      0.88      0.90       216\n",
      "           1       0.86      0.93      0.90       184\n",
      "\n",
      "    accuracy                           0.90       400\n",
      "   macro avg       0.90      0.90      0.90       400\n",
      "weighted avg       0.90      0.90      0.90       400\n",
      "\n"
     ]
    }
   ],
   "source": [
    "# Calculate precision, recall, and F1-score\n",
    "report = classification_report(y_test, y_pred.astype(int))\n",
    "print(\"Classfication Report \")\n",
    "print()\n",
    "print(report)"
   ]
  },
  {
   "cell_type": "code",
   "execution_count": 55,
   "id": "764d800a",
   "metadata": {},
   "outputs": [
    {
     "data": {
      "image/png": "[encoded data removed]",
      "text/plain": [
       "<Figure size 432x288 with 1 Axes>"
      ]
     },
     "metadata": {
      "needs_background": "light"
     },
     "output_type": "display_data"
    }
   ],
   "source": [
    "# Vary the size of the training set\n",
    "train_sizes, train_scores, test_scores = learning_curve(svm_model, X, y, cv=10, train_sizes=np.linspace(0.1, 1.0, 10))\n",
    "\n",
    "# Calculate the mean and standard deviation of the training and testing scores\n",
    "train_mean = np.mean(train_scores, axis=1)\n",
    "train_std = np.std(train_scores, axis=1)\n",
    "test_mean = np.mean(test_scores, axis=1)\n",
    "test_std = np.std(test_scores, axis=1)\n",
    "\n",
    "# Plot the learning curve\n",
    "plt.plot(train_sizes, train_mean, label='Training accuracy')\n",
    "plt.fill_between(train_sizes, train_mean - train_std, train_mean + train_std, alpha=0.1)\n",
    "plt.plot(train_sizes, test_mean, label='Testing accuracy')\n",
    "plt.fill_between(train_sizes, test_mean - test_std, test_mean + test_std, alpha=0.1)\n",
    "plt.xlabel('Training set size')\n",
    "plt.ylabel('Accuracy')\n",
    "plt.legend(loc='best')\n",
    "plt.show()"
   ]
  },
  {
   "cell_type": "code",
   "execution_count": 57,
   "id": "a9ff8e20",
   "metadata": {},
   "outputs": [
    {
     "name": "stdout",
     "output_type": "stream",
     "text": [
      "Loss value is 3.453931612317607\n"
     ]
    }
   ],
   "source": [
    "epsilon = 1e-15 # a very small number\n",
    "y_pred = np.clip(y_pred, epsilon, 1 - epsilon)\n",
    "y_pred = y_pred.astype(float) # convert to float type\n",
    "loss = -1 * (y_test * np.log(y_pred) + (1 - y_test) * np.log(1 - y_pred))\n",
    "avg_loss = np.mean(loss)\n",
    "print(f'Loss value is {avg_loss}')"
   ]
  },
  {
   "cell_type": "markdown",
   "id": "657cb9b7",
   "metadata": {},
   "source": [
    "#### CNN"
   ]
  },
  {
   "cell_type": "code",
   "execution_count": 58,
   "id": "2e058b08",
   "metadata": {},
   "outputs": [],
   "source": [
    "def create_cnn_model(max_features):\n",
    "    \n",
    "    model = Sequential()\n",
    "\n",
    "    model.add(Conv1D(256, 3, activation='relu', padding='same', input_shape=(max_features,1), kernel_regularizer=l2(0.01)))\n",
    "    model.add(MaxPool1D(2))\n",
    "    model.add(Dropout(0.2))\n",
    "    model.add(Conv1D(128, 3, activation='relu', padding='same'))\n",
    "    model.add(MaxPool1D(2))\n",
    "    model.add(Dropout(0.2))\n",
    "    model.add(Flatten())\n",
    "    model.add(Dense(250, activation='relu'))\n",
    "\n",
    "    model.add(Dense(1, activation='sigmoid'))\n",
    "\n",
    "    model.compile(optimizer='adam', loss='binary_crossentropy', metrics=[\"accuracy\"])\n",
    "    \n",
    "    model.summary()\n",
    "    \n",
    "    return model"
   ]
  },
  {
   "cell_type": "code",
   "execution_count": 59,
   "id": "2152364b",
   "metadata": {},
   "outputs": [],
   "source": [
    "X_train, X_test, y_train, y_test = train_test_split(X.toarray(), y, test_size=0.2,random_state=6)\n",
    "\n",
    "# reshape the input data\n",
    "X_train = np.reshape(X_train, (X_train.shape[0], X_train.shape[1], 1))\n",
    "X_test = np.reshape(X_test, (X_test.shape[0], X_test.shape[1], 1))"
   ]
  },
  {
   "cell_type": "code",
   "execution_count": 60,
   "id": "1d640c26",
   "metadata": {},
   "outputs": [
    {
     "name": "stdout",
     "output_type": "stream",
     "text": [
      "Model: \"sequential\"\n",
      "_________________________________________________________________\n",
      " Layer (type)                Output Shape              Param #   \n",
      "=================================================================\n",
      " conv1d (Conv1D)             (None, 2990, 256)         1024      \n",
      "                                                                 \n",
      " max_pooling1d (MaxPooling1D  (None, 1495, 256)        0         \n",
      " )                                                               \n",
      "                                                                 \n",
      " dropout (Dropout)           (None, 1495, 256)         0         \n",
      "                                                                 \n",
      " conv1d_1 (Conv1D)           (None, 1495, 128)         98432     \n",
      "                                                                 \n",
      " max_pooling1d_1 (MaxPooling  (None, 747, 128)         0         \n",
      " 1D)                                                             \n",
      "                                                                 \n",
      " dropout_1 (Dropout)         (None, 747, 128)          0         \n",
      "                                                                 \n",
      " flatten (Flatten)           (None, 95616)             0         \n",
      "                                                                 \n",
      " dense (Dense)               (None, 250)               23904250  \n",
      "                                                                 \n",
      " dense_1 (Dense)             (None, 1)                 251       \n",
      "                                                                 \n",
      "=================================================================\n",
      "Total params: 24,003,957\n",
      "Trainable params: 24,003,957\n",
      "Non-trainable params: 0\n",
      "_________________________________________________________________\n",
      "Epoch 1/10\n",
      "13/13 [==============================] - 56s 4s/step - loss: 0.5744 - accuracy: 0.7063\n",
      "Epoch 2/10\n",
      "13/13 [==============================] - 50s 4s/step - loss: 0.2374 - accuracy: 0.9131\n",
      "Epoch 3/10\n",
      "13/13 [==============================] - 48s 4s/step - loss: 0.1261 - accuracy: 0.9581\n",
      "Epoch 4/10\n",
      "13/13 [==============================] - 50s 4s/step - loss: 0.0736 - accuracy: 0.9794\n",
      "Epoch 5/10\n",
      "13/13 [==============================] - 54s 4s/step - loss: 0.0509 - accuracy: 0.9862\n",
      "Epoch 6/10\n",
      "13/13 [==============================] - 54s 4s/step - loss: 0.0398 - accuracy: 0.9919\n",
      "Epoch 7/10\n",
      "13/13 [==============================] - 54s 4s/step - loss: 0.0336 - accuracy: 0.9931\n",
      "Epoch 8/10\n",
      "13/13 [==============================] - 54s 4s/step - loss: 0.0286 - accuracy: 0.9937\n",
      "Epoch 9/10\n",
      "13/13 [==============================] - 54s 4s/step - loss: 0.0249 - accuracy: 0.9962\n",
      "Epoch 10/10\n",
      "13/13 [==============================] - 54s 4s/step - loss: 0.0228 - accuracy: 0.9962\n"
     ]
    },
    {
     "data": {
      "text/plain": [
       "<keras.callbacks.History at 0x2df2b0c6a10>"
      ]
     },
     "execution_count": 60,
     "metadata": {},
     "output_type": "execute_result"
    }
   ],
   "source": [
    "cnn_model = create_cnn_model(X.shape[1])\n",
    "\n",
    "cnn_model.fit(X_train, y_train, epochs=10, batch_size=128)"
   ]
  },
  {
   "cell_type": "code",
   "execution_count": 61,
   "id": "92980ae4",
   "metadata": {},
   "outputs": [
    {
     "name": "stdout",
     "output_type": "stream",
     "text": [
      "Train accuracy: 0.9962499737739563 and Loss : 0.0209535900503397\n",
      "Test accuracy: 0.9049999713897705 and Loss : 0.3873519003391266\n"
     ]
    }
   ],
   "source": [
    "loss, accuracy = cnn_model.evaluate(X_train, y_train, verbose=0)\n",
    "print(f'Train accuracy: {accuracy} and Loss : {loss}')\n",
    "\n",
    "loss, accuracy = cnn_model.evaluate(X_test, y_test, verbose=0)\n",
    "print(f'Test accuracy: {accuracy} and Loss : {loss}')"
   ]
  },
  {
   "cell_type": "code",
   "execution_count": 62,
   "id": "ed018f35",
   "metadata": {},
   "outputs": [
    {
     "name": "stdout",
     "output_type": "stream",
     "text": [
      "Classfication Report \n",
      "\n",
      "              precision    recall  f1-score   support\n",
      "\n",
      "           0       0.90      0.92      0.91       216\n",
      "           1       0.91      0.89      0.90       184\n",
      "\n",
      "    accuracy                           0.91       400\n",
      "   macro avg       0.91      0.90      0.90       400\n",
      "weighted avg       0.91      0.91      0.90       400\n",
      "\n"
     ]
    }
   ],
   "source": [
    "# Make predictions on test data\n",
    "y_pred = cnn_model.predict(X_test)\n",
    "\n",
    "# Convert predictions to binary class labels\n",
    "y_pred = (y_pred > 0.5)\n",
    "\n",
    "# Calculate precision, recall, and F1-score\n",
    "report = classification_report(y_test, y_pred.astype(int))\n",
    "print(\"Classfication Report \")\n",
    "print()\n",
    "print(report)"
   ]
  },
  {
   "cell_type": "code",
   "execution_count": 63,
   "id": "7c7d08a9",
   "metadata": {},
   "outputs": [
    {
     "name": "stdout",
     "output_type": "stream",
     "text": [
      "Confusion Matrix\n",
      "[[199  17]\n",
      " [ 21 163]]\n"
     ]
    }
   ],
   "source": [
    "# calculate confusion matrix\n",
    "cm = confusion_matrix(y_test, y_pred)\n",
    "print(\"Confusion Matrix\")\n",
    "print(cm)"
   ]
  },
  {
   "cell_type": "code",
   "execution_count": 66,
   "id": "134c0e13",
   "metadata": {},
   "outputs": [
    {
     "data": {
      "image/png": "[encoded data removed]",
      "text/plain": [
       "<Figure size 432x288 with 1 Axes>"
      ]
     },
     "metadata": {
      "needs_background": "light"
     },
     "output_type": "display_data"
    }
   ],
   "source": [
    "from sklearn.metrics import roc_curve, auc\n",
    "\n",
    "# calculate false positive rate, true positive rate, and threshold\n",
    "fpr, tpr, threshold = roc_curve(y_test, y_pred)\n",
    "\n",
    "# calculate AUC\n",
    "roc_auc = auc(fpr, tpr)\n",
    "\n",
    "# plot ROC curve\n",
    "import matplotlib.pyplot as plt\n",
    "plt.title('ROC Curve')\n",
    "plt.plot(fpr, tpr, 'b', label = 'AUC = %0.2f' % roc_auc)\n",
    "plt.legend(loc = 'lower right')\n",
    "plt.plot([0, 1], [0, 1],'r--')\n",
    "plt.xlim([0, 1])\n",
    "plt.ylim([0, 1])\n",
    "plt.ylabel('True Positive Rate')\n",
    "plt.xlabel('False Positive Rate')\n",
    "plt.show()"
   ]
  },
  {
   "cell_type": "code",
   "execution_count": null,
   "id": "fff9cec9",
   "metadata": {},
   "outputs": [],
   "source": []
  }
 ],
 "metadata": {
  "kernelspec": {
   "display_name": "Python 3 (ipykernel)",
   "language": "python",
   "name": "python3"
  },
  "language_info": {
   "codemirror_mode": {
    "name": "ipython",
    "version": 3
   },
   "file_extension": ".py",
   "mimetype": "text/x-python",
   "name": "python",
   "nbconvert_exporter": "python",
   "pygments_lexer": "ipython3",
   "version": "3.10.4"
  }
 },
 "nbformat": 4,
 "nbformat_minor": 5
}
